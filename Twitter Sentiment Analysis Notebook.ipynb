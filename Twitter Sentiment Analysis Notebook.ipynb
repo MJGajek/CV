{
 "cells": [
  {
   "cell_type": "code",
   "execution_count": 1,
   "metadata": {},
   "outputs": [],
   "source": [
    "import pandas as pd\n",
    "import numpy as np\n",
    "import string\n",
    "import torch\n",
    "import nltk\n",
    "from nltk.corpus import stopwords\n",
    "from nltk.tokenize import word_tokenize\n",
    "from torch.nn.utils.rnn import pad_sequence\n",
    "from torch.utils.data import Dataset, DataLoader, random_split, TensorDataset\n",
    "\n",
    "import torch.nn as nn\n",
    "import torch.optim as optim\n",
    "\n",
    "from sklearn.model_selection import train_test_split\n",
    "from sklearn.metrics import confusion_matrix, classification_report\n",
    "import seaborn as sns\n",
    "import matplotlib.pyplot as plt"
   ]
  },
  {
   "cell_type": "markdown",
   "metadata": {},
   "source": [
    "# Load Dataset"
   ]
  },
  {
   "cell_type": "code",
   "execution_count": 2,
   "metadata": {},
   "outputs": [
    {
     "data": {
      "text/html": [
       "<div>\n",
       "<style scoped>\n",
       "    .dataframe tbody tr th:only-of-type {\n",
       "        vertical-align: middle;\n",
       "    }\n",
       "\n",
       "    .dataframe tbody tr th {\n",
       "        vertical-align: top;\n",
       "    }\n",
       "\n",
       "    .dataframe thead th {\n",
       "        text-align: right;\n",
       "    }\n",
       "</style>\n",
       "<table border=\"1\" class=\"dataframe\">\n",
       "  <thead>\n",
       "    <tr style=\"text-align: right;\">\n",
       "      <th></th>\n",
       "      <th>sentiment</th>\n",
       "      <th>text</th>\n",
       "    </tr>\n",
       "  </thead>\n",
       "  <tbody>\n",
       "    <tr>\n",
       "      <th>0</th>\n",
       "      <td>0</td>\n",
       "      <td>@switchfoot http://twitpic.com/2y1zl - Awww, t...</td>\n",
       "    </tr>\n",
       "    <tr>\n",
       "      <th>1</th>\n",
       "      <td>0</td>\n",
       "      <td>is upset that he can't update his Facebook by ...</td>\n",
       "    </tr>\n",
       "    <tr>\n",
       "      <th>2</th>\n",
       "      <td>0</td>\n",
       "      <td>@Kenichan I dived many times for the ball. Man...</td>\n",
       "    </tr>\n",
       "    <tr>\n",
       "      <th>3</th>\n",
       "      <td>0</td>\n",
       "      <td>my whole body feels itchy and like its on fire</td>\n",
       "    </tr>\n",
       "    <tr>\n",
       "      <th>4</th>\n",
       "      <td>0</td>\n",
       "      <td>@nationwideclass no, it's not behaving at all....</td>\n",
       "    </tr>\n",
       "  </tbody>\n",
       "</table>\n",
       "</div>"
      ],
      "text/plain": [
       "   sentiment                                               text\n",
       "0          0  @switchfoot http://twitpic.com/2y1zl - Awww, t...\n",
       "1          0  is upset that he can't update his Facebook by ...\n",
       "2          0  @Kenichan I dived many times for the ball. Man...\n",
       "3          0    my whole body feels itchy and like its on fire \n",
       "4          0  @nationwideclass no, it's not behaving at all...."
      ]
     },
     "execution_count": 2,
     "metadata": {},
     "output_type": "execute_result"
    }
   ],
   "source": [
    "path = '/Users/mjg/Desktop/5. Coding/NLP excercisses/5. Sentiment Analysis/balanced_sentiment 5.0k.csv'\n",
    "df = pd.read_csv(path)\n",
    "\n",
    "df.head(5)"
   ]
  },
  {
   "cell_type": "code",
   "execution_count": 3,
   "metadata": {},
   "outputs": [
    {
     "data": {
      "text/plain": [
       "sentiment    0\n",
       "text         0\n",
       "dtype: int64"
      ]
     },
     "execution_count": 3,
     "metadata": {},
     "output_type": "execute_result"
    }
   ],
   "source": [
    "df.isna().sum()"
   ]
  },
  {
   "cell_type": "code",
   "execution_count": 4,
   "metadata": {},
   "outputs": [
    {
     "data": {
      "text/plain": [
       "0    5000\n",
       "1    5000\n",
       "Name: sentiment, dtype: int64"
      ]
     },
     "execution_count": 4,
     "metadata": {},
     "output_type": "execute_result"
    }
   ],
   "source": [
    "df['sentiment'].value_counts()"
   ]
  },
  {
   "cell_type": "markdown",
   "metadata": {},
   "source": [
    "# Lowercase"
   ]
  },
  {
   "cell_type": "code",
   "execution_count": 5,
   "metadata": {},
   "outputs": [
    {
     "name": "stdout",
     "output_type": "stream",
     "text": [
      "   sentiment                                               text\n",
      "0          0  @switchfoot http://twitpic.com/2y1zl - awww, t...\n",
      "1          0  is upset that he can't update his facebook by ...\n",
      "2          0  @kenichan i dived many times for the ball. man...\n",
      "3          0    my whole body feels itchy and like its on fire \n",
      "4          0  @nationwideclass no, it's not behaving at all....\n"
     ]
    }
   ],
   "source": [
    "def lowercase(df):\n",
    "    df['text'] = df['text'].str.lower()\n",
    "    return df\n",
    "\n",
    "# Assuming df is already defined and loaded with data\n",
    "df = lowercase(df)\n",
    "print(df.head(5))\n"
   ]
  },
  {
   "cell_type": "markdown",
   "metadata": {},
   "source": [
    "# Punctuation"
   ]
  },
  {
   "cell_type": "code",
   "execution_count": 6,
   "metadata": {},
   "outputs": [
    {
     "name": "stdout",
     "output_type": "stream",
     "text": [
      "   sentiment                                               text\n",
      "0          0  switchfoot httptwitpiccom2y1zl  awww thats a b...\n",
      "1          0  is upset that he cant update his facebook by t...\n",
      "2          0  kenichan i dived many times for the ball manag...\n",
      "3          0    my whole body feels itchy and like its on fire \n",
      "4          0  nationwideclass no its not behaving at all im ...\n"
     ]
    }
   ],
   "source": [
    "def punctuation(df):\n",
    "    # Define a translation table that maps each punctuation character to None\n",
    "    translator = str.maketrans('', '', string.punctuation)\n",
    "\n",
    "    df['text'] = df['text'].apply(lambda x: x.translate(translator))\n",
    "\n",
    "    return df\n",
    "\n",
    "df = punctuation(df)\n",
    "print(df.head(5))"
   ]
  },
  {
   "cell_type": "markdown",
   "metadata": {},
   "source": [
    "# Remove stopwords"
   ]
  },
  {
   "cell_type": "code",
   "execution_count": 7,
   "metadata": {},
   "outputs": [],
   "source": [
    "# def ensure_nltk_data():\n",
    "#     try:\n",
    "#         stop_words = set(stopwords.words('english'))\n",
    "#     except LookupError:\n",
    "#         nltk.download('stopwords')\n",
    "#         stop_words = set(stopwords.words('english'))\n",
    "\n",
    "#     try:\n",
    "#         nltk.data.find('tokenizers/punkt')\n",
    "#     except LookupError:\n",
    "#         nltk.download('punkt')\n",
    "\n",
    "# ensure_nltk_data()\n",
    "# # load the set of stopwords\n",
    "# stop_words = set(stopwords.words('english'))\n",
    "\n",
    "# #check if we get stopwords\n",
    "# a = 0\n",
    "# for w in stop_words:\n",
    "#     print(w)\n",
    "#     a += 1\n",
    "#     if a == 5:\n",
    "#         break"
   ]
  },
  {
   "cell_type": "code",
   "execution_count": 8,
   "metadata": {},
   "outputs": [],
   "source": [
    "# def remove_stopwords(cell):\n",
    "#     words = cell.split()\n",
    "#     filtered_words = [w for w in words if w not in stop_words] \n",
    "#     return ' '.join(filtered_words)\n",
    "\n",
    "# df['text'] = df['text'].apply(remove_stopwords)\n",
    "# print(df.head(5))"
   ]
  },
  {
   "cell_type": "code",
   "execution_count": 9,
   "metadata": {},
   "outputs": [
    {
     "data": {
      "text/plain": [
       "sentiment    0\n",
       "text         0\n",
       "dtype: int64"
      ]
     },
     "execution_count": 9,
     "metadata": {},
     "output_type": "execute_result"
    }
   ],
   "source": [
    "df.isna().sum()"
   ]
  },
  {
   "cell_type": "markdown",
   "metadata": {},
   "source": [
    "# Tokenize"
   ]
  },
  {
   "cell_type": "code",
   "execution_count": 10,
   "metadata": {},
   "outputs": [
    {
     "name": "stdout",
     "output_type": "stream",
     "text": [
      "   sentiment                                               text\n",
      "0          0  [switchfoot, httptwitpiccom2y1zl, awww, thats,...\n",
      "1          0  [is, upset, that, he, cant, update, his, faceb...\n",
      "2          0  [kenichan, i, dived, many, times, for, the, ba...\n",
      "3          0  [my, whole, body, feels, itchy, and, like, its...\n",
      "4          0  [nationwideclass, no, its, not, behaving, at, ...\n"
     ]
    }
   ],
   "source": [
    "def tokenize(cell):\n",
    "    return word_tokenize(cell)\n",
    "\n",
    "df['text'] = df['text'].apply(tokenize)\n",
    "print(df.head(5))"
   ]
  },
  {
   "cell_type": "markdown",
   "metadata": {},
   "source": [
    "# Embeddings"
   ]
  },
  {
   "cell_type": "code",
   "execution_count": 11,
   "metadata": {},
   "outputs": [
    {
     "data": {
      "text/html": [
       "<div>\n",
       "<style scoped>\n",
       "    .dataframe tbody tr th:only-of-type {\n",
       "        vertical-align: middle;\n",
       "    }\n",
       "\n",
       "    .dataframe tbody tr th {\n",
       "        vertical-align: top;\n",
       "    }\n",
       "\n",
       "    .dataframe thead th {\n",
       "        text-align: right;\n",
       "    }\n",
       "</style>\n",
       "<table border=\"1\" class=\"dataframe\">\n",
       "  <thead>\n",
       "    <tr style=\"text-align: right;\">\n",
       "      <th></th>\n",
       "      <th>sentiment</th>\n",
       "      <th>text</th>\n",
       "    </tr>\n",
       "  </thead>\n",
       "  <tbody>\n",
       "    <tr>\n",
       "      <th>0</th>\n",
       "      <td>0</td>\n",
       "      <td>[[-0.13705, 0.41023, -0.20412, -0.66066, 0.408...</td>\n",
       "    </tr>\n",
       "    <tr>\n",
       "      <th>1</th>\n",
       "      <td>0</td>\n",
       "      <td>[[0.32928, 0.25526, 0.26753, -0.084809, 0.2976...</td>\n",
       "    </tr>\n",
       "    <tr>\n",
       "      <th>2</th>\n",
       "      <td>0</td>\n",
       "      <td>[[0.26805, 0.36032, -0.332, -0.54642, -0.50451...</td>\n",
       "    </tr>\n",
       "    <tr>\n",
       "      <th>3</th>\n",
       "      <td>0</td>\n",
       "      <td>[[0.3038, 0.18126, 0.46583, -0.6644, -0.4407, ...</td>\n",
       "    </tr>\n",
       "    <tr>\n",
       "      <th>4</th>\n",
       "      <td>0</td>\n",
       "      <td>[[0.65979, 0.52476, 0.022174, -0.43734, -0.144...</td>\n",
       "    </tr>\n",
       "  </tbody>\n",
       "</table>\n",
       "</div>"
      ],
      "text/plain": [
       "   sentiment                                               text\n",
       "0          0  [[-0.13705, 0.41023, -0.20412, -0.66066, 0.408...\n",
       "1          0  [[0.32928, 0.25526, 0.26753, -0.084809, 0.2976...\n",
       "2          0  [[0.26805, 0.36032, -0.332, -0.54642, -0.50451...\n",
       "3          0  [[0.3038, 0.18126, 0.46583, -0.6644, -0.4407, ...\n",
       "4          0  [[0.65979, 0.52476, 0.022174, -0.43734, -0.144..."
      ]
     },
     "execution_count": 11,
     "metadata": {},
     "output_type": "execute_result"
    }
   ],
   "source": [
    "file_path_embeddings = '/Users/mjg/Desktop/5. Coding/NLP excercisses/5. Sentiment Analysis/glove/glove.6B.200d.txt'\n",
    "\n",
    "def load_glove_embeddings(filepath):\n",
    "    embeddings = {}\n",
    "    with open(filepath, 'r', encoding='utf-8') as f:\n",
    "        for line in f:\n",
    "            values = line.split()\n",
    "            word = values[0]\n",
    "            vector = np.asarray(values[1:], dtype='float32')\n",
    "            embeddings[word] = vector\n",
    "    return embeddings\n",
    "\n",
    "def get_embedding(word, embeddings):\n",
    "    return embeddings.get(word, None)\n",
    "\n",
    "embeddings = load_glove_embeddings(file_path_embeddings)\n",
    "\n",
    "\n",
    "def embed(cell):\n",
    "    vectors = []\n",
    "    for t in cell:  # Assuming cell is already a list of tokens\n",
    "        vector = get_embedding(t, embeddings)\n",
    "        if vector is not None:\n",
    "            vectors.append(vector)\n",
    "    return vectors\n",
    "\n",
    "df['text'] = df['text'].apply(embed)\n",
    "df.head(5)"
   ]
  },
  {
   "cell_type": "markdown",
   "metadata": {},
   "source": [
    "# Remove empty rows\n",
    "Because we performed transformations that my result in empty rows (if no words have corresponding embedding) now is the time to clean the df from those rows"
   ]
  },
  {
   "cell_type": "code",
   "execution_count": 12,
   "metadata": {},
   "outputs": [
    {
     "name": "stdout",
     "output_type": "stream",
     "text": [
      "Indexes of rows with empty or nested empty lists:\n",
      "[135, 208, 249, 282, 398, 430, 1011, 1014, 1231, 1421, 1486, 1641, 2225, 2898, 4318, 4377, 4508, 5220, 5321, 5463, 5793, 5879, 6184, 6349, 6420, 6481, 6559, 6800, 7054, 7245, 7341, 7375, 7491, 7583, 7597, 7650, 7715, 7774, 8529, 8581, 8805, 9018, 9314, 9536, 9647, 9652, 9711, 9974]\n",
      "\n",
      "Number of rows with empty or nested empty lists: 48\n"
     ]
    }
   ],
   "source": [
    "def is_empty_or_nested_empty(cell):\n",
    "    if isinstance(cell, list):\n",
    "        if not cell:  # Check if the list itself is empty\n",
    "            return True\n",
    "        for item in cell:\n",
    "            if isinstance(item, list) and not item:  # Check if there are nested empty lists\n",
    "                return True\n",
    "    return False\n",
    "\n",
    "# Apply the function to each cell in the 'text' column\n",
    "df['is_empty'] = df['text'].apply(is_empty_or_nested_empty)\n",
    "\n",
    "# Filter the DataFrame to find rows with empty or nested empty lists\n",
    "empty_rows = df[df['is_empty']]\n",
    "\n",
    "# Extract the indexes of rows with empty or nested empty lists\n",
    "empty_rows_indexes = empty_rows.index.tolist()\n",
    "\n",
    "# Print the indexes of rows with empty or nested empty lists\n",
    "print(\"Indexes of rows with empty or nested empty lists:\")\n",
    "print(empty_rows_indexes)\n",
    "\n",
    "# Optionally, print the count\n",
    "empty_count = len(empty_rows_indexes)\n",
    "print(f\"\\nNumber of rows with empty or nested empty lists: {empty_count}\")"
   ]
  },
  {
   "cell_type": "code",
   "execution_count": 13,
   "metadata": {},
   "outputs": [
    {
     "name": "stdout",
     "output_type": "stream",
     "text": [
      "\n",
      "DataFrame with rows that contain empty or nested empty lists:\n",
      "      sentiment text  is_empty\n",
      "135           0   []      True\n",
      "208           0   []      True\n",
      "249           0   []      True\n",
      "282           0   []      True\n",
      "398           0   []      True\n",
      "430           0   []      True\n",
      "1011          0   []      True\n",
      "1014          0   []      True\n",
      "1231          0   []      True\n",
      "1421          0   []      True\n",
      "1486          0   []      True\n",
      "1641          0   []      True\n",
      "2225          0   []      True\n",
      "2898          0   []      True\n",
      "4318          0   []      True\n",
      "4377          0   []      True\n",
      "4508          0   []      True\n",
      "5220          1   []      True\n",
      "5321          1   []      True\n",
      "5463          1   []      True\n",
      "5793          1   []      True\n",
      "5879          1   []      True\n",
      "6184          1   []      True\n",
      "6349          1   []      True\n",
      "6420          1   []      True\n",
      "6481          1   []      True\n",
      "6559          1   []      True\n",
      "6800          1   []      True\n",
      "7054          1   []      True\n",
      "7245          1   []      True\n",
      "7341          1   []      True\n",
      "7375          1   []      True\n",
      "7491          1   []      True\n",
      "7583          1   []      True\n",
      "7597          1   []      True\n",
      "7650          1   []      True\n",
      "7715          1   []      True\n",
      "7774          1   []      True\n",
      "8529          1   []      True\n",
      "8581          1   []      True\n",
      "8805          1   []      True\n",
      "9018          1   []      True\n",
      "9314          1   []      True\n",
      "9536          1   []      True\n",
      "9647          1   []      True\n",
      "9652          1   []      True\n",
      "9711          1   []      True\n",
      "9974          1   []      True\n"
     ]
    }
   ],
   "source": [
    "df_empty_rows = df.loc[empty_rows_indexes]\n",
    "\n",
    "# Print the DataFrame with empty or nested empty lists\n",
    "print(\"\\nDataFrame with rows that contain empty or nested empty lists:\")\n",
    "print(df_empty_rows)"
   ]
  },
  {
   "cell_type": "code",
   "execution_count": 14,
   "metadata": {},
   "outputs": [
    {
     "name": "stdout",
     "output_type": "stream",
     "text": [
      "Cleaned DataFrame with rows containing empty or nested empty lists removed:\n",
      "   sentiment                                               text\n",
      "0          0  [[-0.13705, 0.41023, -0.20412, -0.66066, 0.408...\n",
      "1          0  [[0.32928, 0.25526, 0.26753, -0.084809, 0.2976...\n",
      "2          0  [[0.26805, 0.36032, -0.332, -0.54642, -0.50451...\n",
      "3          0  [[0.3038, 0.18126, 0.46583, -0.6644, -0.4407, ...\n",
      "4          0  [[0.65979, 0.52476, 0.022174, -0.43734, -0.144...\n"
     ]
    }
   ],
   "source": [
    "df = df.drop(empty_rows_indexes)\n",
    "\n",
    "# Drop the helper column 'is_empty'\n",
    "df = df.drop(columns=['is_empty'])\n",
    "\n",
    "# Print the cleaned DataFrame\n",
    "print(\"Cleaned DataFrame with rows containing empty or nested empty lists removed:\")\n",
    "print(df.head(5))"
   ]
  },
  {
   "cell_type": "code",
   "execution_count": 15,
   "metadata": {},
   "outputs": [
    {
     "data": {
      "text/plain": [
       "9952"
      ]
     },
     "execution_count": 15,
     "metadata": {},
     "output_type": "execute_result"
    }
   ],
   "source": [
    "len(df)"
   ]
  },
  {
   "cell_type": "markdown",
   "metadata": {},
   "source": [
    "# Check max length"
   ]
  },
  {
   "cell_type": "code",
   "execution_count": 16,
   "metadata": {},
   "outputs": [
    {
     "name": "stdout",
     "output_type": "stream",
     "text": [
      "The length of the longest sequence in the 'text' column is: 34\n"
     ]
    }
   ],
   "source": [
    "df['length'] = df['text'].apply(len)\n",
    "\n",
    "# Find the length of the longest sequence\n",
    "max_length = df['length'].max()\n",
    "\n",
    "# Print the length of the longest sequence\n",
    "print(f\"The length of the longest sequence in the 'text' column is: {max_length}\")\n"
   ]
  },
  {
   "cell_type": "code",
   "execution_count": 17,
   "metadata": {},
   "outputs": [],
   "source": [
    "df = df.drop(columns=['length'])"
   ]
  },
  {
   "cell_type": "markdown",
   "metadata": {},
   "source": [
    "# Padding"
   ]
  },
  {
   "cell_type": "code",
   "execution_count": 18,
   "metadata": {},
   "outputs": [],
   "source": [
    "# get dynamically embedding dim\n",
    "first_word = next(iter(embeddings))\n",
    "embedding_dim = len(embeddings[first_word])\n"
   ]
  },
  {
   "cell_type": "code",
   "execution_count": 19,
   "metadata": {},
   "outputs": [
    {
     "name": "stdout",
     "output_type": "stream",
     "text": [
      "DataFrame with padded sequences:\n",
      "   sentiment                                               text\n",
      "0          0  [[-0.13705000281333923, 0.41023001074790955, -...\n",
      "1          0  [[0.32927998900413513, 0.25525999069213867, 0....\n",
      "2          0  [[0.2680499851703644, 0.36032000184059143, -0....\n",
      "3          0  [[0.30379998683929443, 0.18126000463962555, 0....\n",
      "4          0  [[0.6597899794578552, 0.5247600078582764, 0.02...\n"
     ]
    }
   ],
   "source": [
    "# Function to pad sequences\n",
    "def pad_sequence_custom(sequence, maxlen, embedding_dim):\n",
    "    sequence = [torch.tensor(vec, dtype=torch.float32) for vec in sequence if len(vec) > 0]\n",
    "    if len(sequence) == 0:\n",
    "        sequence = [torch.zeros(embedding_dim, dtype=torch.float32)]\n",
    "    padded_sequence = pad_sequence(sequence, batch_first=True, padding_value=0)\n",
    "    if padded_sequence.size(0) < maxlen:\n",
    "        padding = torch.zeros(maxlen - padded_sequence.size(0), embedding_dim, dtype=torch.float32)\n",
    "        padded_sequence = torch.cat([padded_sequence, padding], dim=0)\n",
    "    elif padded_sequence.size(0) > maxlen:\n",
    "        padded_sequence = padded_sequence[:maxlen]\n",
    "    return padded_sequence.tolist()\n",
    "\n",
    "# Apply padding to each sequence in the 'text' column\n",
    "df['text'] = df['text'].apply(lambda x: pad_sequence_custom(x, max_length, embedding_dim))\n",
    "\n",
    "# Print the DataFrame with padded sequences\n",
    "print(\"DataFrame with padded sequences:\")\n",
    "print(df.head(5))"
   ]
  },
  {
   "cell_type": "markdown",
   "metadata": {},
   "source": [
    "# Check the shapes"
   ]
  },
  {
   "cell_type": "code",
   "execution_count": 20,
   "metadata": {},
   "outputs": [
    {
     "name": "stdout",
     "output_type": "stream",
     "text": [
      "All sequences have the same length of 34 and each embedding has the dimension of 200.\n"
     ]
    }
   ],
   "source": [
    "def check_uniform_length_and_dimension(df, column_name, expected_length, expected_dimension):\n",
    "    lengths = df[column_name].apply(len)\n",
    "    dimensions = df[column_name].apply(lambda seq: all(len(embedding) == expected_dimension for embedding in seq))\n",
    "    \n",
    "    uniform_length = all(length == expected_length for length in lengths)\n",
    "    uniform_dimension = all(dimensions)\n",
    "    \n",
    "    return uniform_length, uniform_dimension, lengths, dimensions\n",
    "\n",
    "uniform_length, uniform_dimension, lengths, dimensions = check_uniform_length_and_dimension(df, 'text', max_length, embedding_dim)\n",
    "\n",
    "# Print results\n",
    "if uniform_length and uniform_dimension:\n",
    "    print(f\"All sequences have the same length of {max_length} and each embedding has the dimension of {embedding_dim}.\")\n",
    "else:\n",
    "    if not uniform_length:\n",
    "        print(\"Not all sequences have the same length.\")\n",
    "        print(lengths)\n",
    "    if not uniform_dimension:\n",
    "        print(\"Not all embeddings have the expected dimension.\")\n",
    "        print(dimensions)"
   ]
  },
  {
   "cell_type": "markdown",
   "metadata": {},
   "source": [
    "# Dataset & Data loaders"
   ]
  },
  {
   "cell_type": "code",
   "execution_count": 21,
   "metadata": {},
   "outputs": [],
   "source": [
    "class MyDataset(Dataset):\n",
    "    def __init__(self, df):\n",
    "        self.df = df\n",
    "\n",
    "    def __len__(self):\n",
    "        return len(self.df)\n",
    "\n",
    "    def __getitem__(self, idx):\n",
    "        input_data = torch.tensor(self.df['text'].iloc[idx], dtype=torch.float32)\n",
    "        target_data = torch.tensor(self.df['sentiment'].iloc[idx], dtype=torch.float32).unsqueeze(0)  # Ensure targets have shape [1]\n",
    "        return input_data, target_data"
   ]
  },
  {
   "cell_type": "code",
   "execution_count": 22,
   "metadata": {},
   "outputs": [
    {
     "data": {
      "text/html": [
       "<div>\n",
       "<style scoped>\n",
       "    .dataframe tbody tr th:only-of-type {\n",
       "        vertical-align: middle;\n",
       "    }\n",
       "\n",
       "    .dataframe tbody tr th {\n",
       "        vertical-align: top;\n",
       "    }\n",
       "\n",
       "    .dataframe thead th {\n",
       "        text-align: right;\n",
       "    }\n",
       "</style>\n",
       "<table border=\"1\" class=\"dataframe\">\n",
       "  <thead>\n",
       "    <tr style=\"text-align: right;\">\n",
       "      <th></th>\n",
       "      <th>sentiment</th>\n",
       "      <th>text</th>\n",
       "    </tr>\n",
       "  </thead>\n",
       "  <tbody>\n",
       "    <tr>\n",
       "      <th>0</th>\n",
       "      <td>0</td>\n",
       "      <td>[[-0.482340008020401, -0.2888000011444092, 0.0...</td>\n",
       "    </tr>\n",
       "    <tr>\n",
       "      <th>1</th>\n",
       "      <td>1</td>\n",
       "      <td>[[0.148049995303154, 0.10875000059604645, -0.0...</td>\n",
       "    </tr>\n",
       "    <tr>\n",
       "      <th>2</th>\n",
       "      <td>1</td>\n",
       "      <td>[[0.22223000228405, -0.6527799963951111, -0.22...</td>\n",
       "    </tr>\n",
       "    <tr>\n",
       "      <th>3</th>\n",
       "      <td>0</td>\n",
       "      <td>[[0.21193000674247742, 0.3873099982738495, -0....</td>\n",
       "    </tr>\n",
       "    <tr>\n",
       "      <th>4</th>\n",
       "      <td>0</td>\n",
       "      <td>[[0.2680499851703644, 0.36032000184059143, -0....</td>\n",
       "    </tr>\n",
       "  </tbody>\n",
       "</table>\n",
       "</div>"
      ],
      "text/plain": [
       "   sentiment                                               text\n",
       "0          0  [[-0.482340008020401, -0.2888000011444092, 0.0...\n",
       "1          1  [[0.148049995303154, 0.10875000059604645, -0.0...\n",
       "2          1  [[0.22223000228405, -0.6527799963951111, -0.22...\n",
       "3          0  [[0.21193000674247742, 0.3873099982738495, -0....\n",
       "4          0  [[0.2680499851703644, 0.36032000184059143, -0...."
      ]
     },
     "execution_count": 22,
     "metadata": {},
     "output_type": "execute_result"
    }
   ],
   "source": [
    "df_shuffled = df.sample(frac=1, random_state=42).reset_index(drop=True)\n",
    "df_shuffled.head(5)"
   ]
  },
  {
   "cell_type": "code",
   "execution_count": 23,
   "metadata": {},
   "outputs": [
    {
     "name": "stdout",
     "output_type": "stream",
     "text": [
      "Training set size: 7961\n",
      "Validation set size: 995\n",
      "Test set size: 996\n"
     ]
    }
   ],
   "source": [
    "dataset = MyDataset(df_shuffled)\n",
    "\n",
    "# Calculate lengths for train, validation, and test splits\n",
    "train_size = int(0.8 * len(dataset))\n",
    "val_size = int(0.1 * len(dataset))\n",
    "test_size = len(dataset) - train_size - val_size\n",
    "\n",
    "# Split the dataset\n",
    "dataset_train, dataset_val, dataset_test = random_split(dataset, [train_size, val_size, test_size])\n",
    "\n",
    "# Print the lengths of the datasets\n",
    "print(f\"Training set size: {len(dataset_train)}\")\n",
    "print(f\"Validation set size: {len(dataset_val)}\")\n",
    "print(f\"Test set size: {len(dataset_test)}\")"
   ]
  },
  {
   "cell_type": "code",
   "execution_count": 24,
   "metadata": {},
   "outputs": [
    {
     "name": "stdout",
     "output_type": "stream",
     "text": [
      "Batch inputs shape: torch.Size([16, 34, 200])\n",
      "Batch targets shape: torch.Size([16, 1])\n"
     ]
    }
   ],
   "source": [
    "# Create DataLoaders for each dataset\n",
    "train_loader = DataLoader(dataset_train, batch_size=16, shuffle=True)\n",
    "val_loader = DataLoader(dataset_val, batch_size=16, shuffle=False)\n",
    "test_loader = DataLoader(dataset_test, batch_size=16, shuffle=False)\n",
    "\n",
    "# Example of iterating through the DataLoader\n",
    "for batch in train_loader:\n",
    "    inputs, targets = batch\n",
    "    print(\"Batch inputs shape:\", inputs.shape)\n",
    "    print(\"Batch targets shape:\", targets.shape)\n",
    "    break\n"
   ]
  },
  {
   "cell_type": "markdown",
   "metadata": {},
   "source": [
    "# LSTM"
   ]
  },
  {
   "cell_type": "code",
   "execution_count": 25,
   "metadata": {},
   "outputs": [],
   "source": [
    "class LSTM(nn.Module):\n",
    "    def __init__(self, input_dim, hidden_dim, output_dim, num_layers, dropout):\n",
    "        super(LSTM, self).__init__()\n",
    "\n",
    "        self.input_dim = input_dim\n",
    "        self.hidden_dim = hidden_dim\n",
    "        self.output_dim = output_dim\n",
    "        self.num_layers = num_layers\n",
    "        self.dropout = dropout\n",
    "\n",
    "        self.norm = nn.BatchNorm1d(input_dim)\n",
    "        self.lstm = nn.LSTM(input_dim, hidden_dim, num_layers, dropout=dropout, batch_first=True)\n",
    "        self.fc = nn.Linear(hidden_dim, output_dim)\n",
    "\n",
    "    def forward(self, x):\n",
    "        batch_size, seq_len, input_dim = x.size()\n",
    "        #x = x.view(batch_size * seq_len, input_dim)     # Reshape x for batch normalization\n",
    "        \n",
    "        #x = self.norm(x)                                # Normalize batch\n",
    "        #x = x.view(batch_size, seq_len, input_dim)      # Reshape x back to (batch_size, seq_len, input_dim)\n",
    "        h0, c0 = self.hidden_init(batch_size)           # Initialize hidden state and cell state\n",
    "        out, _ = self.lstm(x, (h0, c0))                 # LSTM forward pass\n",
    "        out = self.fc(out[:, -1, :])                    # Fully connected layer (take the last time step output)\n",
    "        return out\n",
    "\n",
    "    def hidden_init(self, batch_size):\n",
    "        h0 = torch.zeros(self.num_layers, batch_size, self.hidden_dim).to(next(self.parameters()).device)\n",
    "        c0 = torch.zeros(self.num_layers, batch_size, self.hidden_dim).to(next(self.parameters()).device)\n",
    "        return h0, c0"
   ]
  },
  {
   "cell_type": "markdown",
   "metadata": {},
   "source": [
    "# Train function"
   ]
  },
  {
   "cell_type": "code",
   "execution_count": 26,
   "metadata": {},
   "outputs": [],
   "source": [
    "def train_model(model, train_loader, val_loader, num_epochs, learning_rate):\n",
    "    # Set the model to training mode\n",
    "    model.train()\n",
    "\n",
    "    # Define the loss function and the optimizer\n",
    "    criterion = nn.BCEWithLogitsLoss()  # Binary Cross-Entropy Loss with logits for binary classification\n",
    "    optimizer = optim.Adam(model.parameters(), lr=learning_rate)\n",
    "\n",
    "    # Training loop\n",
    "    for epoch in range(num_epochs):\n",
    "        running_loss = 0.0\n",
    "        for inputs, targets in train_loader:\n",
    "            # Move inputs and targets to the appropriate device (CPU or GPU)\n",
    "            inputs, targets = inputs.to(next(model.parameters()).device), targets.to(next(model.parameters()).device).float()\n",
    "            \n",
    "            # Zero the parameter gradients\n",
    "            optimizer.zero_grad()\n",
    "            \n",
    "            # Forward pass\n",
    "            outputs = model(inputs)  # Ensure outputs is of shape (batch_size, 1)\n",
    "            loss = criterion(outputs, targets)\n",
    "            \n",
    "            # Backward pass and optimize\n",
    "            loss.backward()\n",
    "            optimizer.step()\n",
    "            \n",
    "            # Accumulate the loss\n",
    "            running_loss += loss.item()\n",
    "        \n",
    "        # Print average loss for the epoch\n",
    "        print(f\"Epoch [{epoch+1}/{num_epochs}], Loss: {running_loss/len(train_loader):.4f}\")\n",
    "\n",
    "        # Validate the model\n",
    "        validate_model(model, val_loader)\n",
    "\n",
    "def validate_model(model, val_loader):\n",
    "    model.eval()  # Set the model to evaluation mode\n",
    "    val_loss = 0.0\n",
    "    criterion = nn.BCEWithLogitsLoss()\n",
    "    \n",
    "    with torch.no_grad():  # Turn off gradients for validation\n",
    "        for inputs, targets in val_loader:\n",
    "            inputs, targets = inputs.to(next(model.parameters()).device), targets.to(next(model.parameters()).device).float()\n",
    "            outputs = model(inputs)  # Ensure outputs is of shape (batch_size, 1)\n",
    "            loss = criterion(outputs, targets)\n",
    "            val_loss += loss.item()\n",
    "    \n",
    "    print(f\"Validation Loss: {val_loss/len(val_loader):.4f}\")\n",
    "    model.train()  # Set the model back to training mode"
   ]
  },
  {
   "cell_type": "markdown",
   "metadata": {},
   "source": [
    "# Initialise"
   ]
  },
  {
   "cell_type": "code",
   "execution_count": 31,
   "metadata": {},
   "outputs": [],
   "source": [
    "batch_size = 16\n",
    "input_dim = embedding_dim   # The number of input features per time step. This corresponds to the dimensionality of the input vectors\n",
    "hidden_dim = 512       # The number of features in the hidden state of the LSTM. It defines the internal state representation size of the LSTM. Higher values allow the LSTM to capture more complex patterns but also increase the computational cost.\n",
    "output_dim = 1     \n",
    "num_layers = 2\n",
    "dropout = 0.3\n",
    "num_epochs = 10\n",
    "learning_rate = 0.00007"
   ]
  },
  {
   "cell_type": "code",
   "execution_count": 32,
   "metadata": {},
   "outputs": [],
   "source": [
    "# Device"
   ]
  },
  {
   "cell_type": "code",
   "execution_count": 33,
   "metadata": {},
   "outputs": [
    {
     "name": "stdout",
     "output_type": "stream",
     "text": [
      "Epoch [1/10], Loss: 0.6921\n",
      "Validation Loss: 0.6918\n",
      "Epoch [2/10], Loss: 0.6371\n",
      "Validation Loss: 0.6180\n",
      "Epoch [3/10], Loss: 0.5790\n",
      "Validation Loss: 0.5784\n",
      "Epoch [4/10], Loss: 0.5585\n",
      "Validation Loss: 0.5589\n"
     ]
    }
   ],
   "source": [
    "model = LSTM(input_dim, hidden_dim, output_dim, num_layers, dropout)\n",
    "\n",
    "# Assume dataset_train and dataset_val are already created\n",
    "train_loader = DataLoader(dataset_train, batch_size=batch_size, shuffle=True)\n",
    "val_loader = DataLoader(dataset_val, batch_size=batch_size, shuffle=False)\n",
    "\n",
    "# Train the model\n",
    "train_model(model, train_loader, val_loader, num_epochs, learning_rate)"
   ]
  },
  {
   "cell_type": "markdown",
   "metadata": {},
   "source": [
    "# test model"
   ]
  },
  {
   "cell_type": "code",
   "execution_count": null,
   "metadata": {},
   "outputs": [],
   "source": [
    "def test_model(model, test_loader):\n",
    "    model.eval()  # Set the model to evaluation mode\n",
    "    all_preds = []\n",
    "    all_targets = []\n",
    "    \n",
    "    with torch.no_grad():  # Turn off gradients for evaluation\n",
    "        for inputs, targets in test_loader:\n",
    "            inputs, targets = inputs.to(next(model.parameters()).device), targets.to(next(model.parameters()).device).float()\n",
    "            outputs = model(inputs)\n",
    "            preds = torch.round(torch.sigmoid(outputs))  # Apply sigmoid and round to get binary predictions\n",
    "            all_preds.append(preds.cpu())\n",
    "            all_targets.append(targets.cpu())\n",
    "    \n",
    "    # Concatenate all predictions and targets\n",
    "    all_preds = torch.cat(all_preds)\n",
    "    all_targets = torch.cat(all_targets)\n",
    "    \n",
    "    # Compute confusion matrix\n",
    "    cm = confusion_matrix(all_targets.numpy(), all_preds.numpy())\n",
    "    print(\"Confusion Matrix:\")\n",
    "    print(cm)\n",
    "    \n",
    "    # Compute classification report\n",
    "    report = classification_report(all_targets.numpy(), all_preds.numpy(), target_names=['Class 0', 'Class 1'])\n",
    "    print(\"\\nClassification Report:\")\n",
    "    print(report)\n",
    "    \n",
    "    # Plot confusion matrix\n",
    "    plt.figure(figsize=(8, 6))\n",
    "    sns.heatmap(cm, annot=True, fmt='d', cmap='Blues', xticklabels=['Class 0', 'Class 1'], yticklabels=['Class 0', 'Class 1'])\n",
    "    plt.xlabel('Predicted')\n",
    "    plt.ylabel('Actual')\n",
    "    plt.title('Confusion Matrix')\n",
    "    plt.show()\n",
    "\n"
   ]
  },
  {
   "cell_type": "code",
   "execution_count": null,
   "metadata": {},
   "outputs": [
    {
     "name": "stdout",
     "output_type": "stream",
     "text": [
      "Confusion Matrix:\n",
      "[[387 122]\n",
      " [157 330]]\n",
      "\n",
      "Classification Report:\n",
      "              precision    recall  f1-score   support\n",
      "\n",
      "     Class 0       0.71      0.76      0.74       509\n",
      "     Class 1       0.73      0.68      0.70       487\n",
      "\n",
      "    accuracy                           0.72       996\n",
      "   macro avg       0.72      0.72      0.72       996\n",
      "weighted avg       0.72      0.72      0.72       996\n",
      "\n"
     ]
    },
    {
     "data": {
      "image/png": "[encoded data removed]",
      "text/plain": [
       "<Figure size 800x600 with 2 Axes>"
      ]
     },
     "metadata": {},
     "output_type": "display_data"
    }
   ],
   "source": [
    "# Example usage\n",
    "test_model(model, test_loader)"
   ]
  }
 ],
 "metadata": {
  "kernelspec": {
   "display_name": "NLP_base",
   "language": "python",
   "name": "python3"
  },
  "language_info": {
   "codemirror_mode": {
    "name": "ipython",
    "version": 3
   },
   "file_extension": ".py",
   "mimetype": "text/x-python",
   "name": "python",
   "nbconvert_exporter": "python",
   "pygments_lexer": "ipython3",
   "version": "3.10.13"
  }
 },
 "nbformat": 4,
 "nbformat_minor": 2
}
