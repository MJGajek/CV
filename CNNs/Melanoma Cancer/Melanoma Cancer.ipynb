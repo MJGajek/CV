{
 "cells": [
  {
   "cell_type": "markdown",
   "metadata": {},
   "source": [
    "# Melanoma Cancer\n",
    "\n",
    "I am using a data set from here: https://www.kaggle.com/datasets/bhaveshmittal/melanoma-cancer-dataset"
   ]
  },
  {
   "cell_type": "code",
   "execution_count": 17,
   "metadata": {},
   "outputs": [],
   "source": [
    "import os\n",
    "import pandas as pd\n",
    "\n",
    "from torchvision import models, datasets, transforms\n",
    "import torchvision.transforms as transforms\n",
    "from torch.utils.data import Dataset, DataLoader, random_split\n",
    "\n",
    "import torch\n",
    "import torch.nn as nn\n",
    "import torch.nn.functional as F\n",
    "import torch.optim as optim\n",
    "from torch.optim.lr_scheduler import ReduceLROnPlateau\n",
    "\n",
    "import matplotlib.pyplot as plt\n",
    "import seaborn as sns \n",
    "\n",
    "from sklearn.metrics import accuracy_score, precision_score, recall_score, f1_score, roc_auc_score, confusion_matrix\n",
    "from warnings import filterwarnings"
   ]
  },
  {
   "cell_type": "code",
   "execution_count": 27,
   "metadata": {},
   "outputs": [
    {
     "name": "stdout",
     "output_type": "stream",
     "text": [
      "/Users/mjg/Desktop/5. Coding/5. CV/20. CNN/2. Melanoma Cancer\n",
      "/Users/mjg/Desktop/5. Coding/5. CV/20. CNN/2. Melanoma Cancer/Dataset/train\n",
      "/Users/mjg/Desktop/5. Coding/5. CV/20. CNN/2. Melanoma Cancer/Dataset/test\n",
      "/Users/mjg/Desktop/5. Coding/5. CV/20. CNN/2. Melanoma Cancer/Models\n"
     ]
    }
   ],
   "source": [
    "current_dir = os.getcwd()\n",
    "dataset_dir = os.path.join(current_dir,'Dataset')\n",
    "train_dir = os.path.join(dataset_dir,'train')\n",
    "test_dir = os.path.join(dataset_dir,'test')\n",
    "\n",
    "print(current_dir)\n",
    "print(train_dir)\n",
    "print(test_dir)"
   ]
  },
  {
   "cell_type": "code",
   "execution_count": 3,
   "metadata": {},
   "outputs": [],
   "source": [
    "imgSize = 112\n",
    "\n",
    "# Training transformer\n",
    "transform_train = transforms.Compose([\n",
    "    transforms.RandomRotation(degrees = 20),\n",
    "    \n",
    "    transforms.RandomHorizontalFlip(p = 0.3),\n",
    "    transforms.RandomVerticalFlip(p = 0.3),\n",
    "    \n",
    "    transforms.Resize(size = (imgSize, imgSize), antialias = True),\n",
    "    transforms.CenterCrop(size = (imgSize, imgSize)),\n",
    "    \n",
    "    transforms.ToTensor(),\n",
    "    transforms.Normalize(mean = [0.485, 0.456, 0.406], std = [0.229, 0.224, 0.225])\n",
    "])\n",
    "\n",
    "# Validation transformer\n",
    "transform_valid = transforms.Compose([\n",
    "    transforms.Resize(size = (imgSize, imgSize), antialias = True),\n",
    "    transforms.CenterCrop(size = (imgSize, imgSize)),\n",
    "    \n",
    "    transforms.ToTensor(),\n",
    "    transforms.Normalize(mean = [0.485, 0.456, 0.406], std = [0.229, 0.224, 0.225])\n",
    "])"
   ]
  },
  {
   "cell_type": "code",
   "execution_count": 4,
   "metadata": {},
   "outputs": [],
   "source": [
    "dataset_train = datasets.ImageFolder(root = train_dir, transform = transform_train)\n",
    "dataset_valid = datasets.ImageFolder(root = test_dir, transform = transform_valid)\n",
    "\n",
    "dataloader_train = DataLoader(dataset=dataset_train,batch_size=256, shuffle=True)\n",
    "dataloader_valid = DataLoader(dataset=dataset_train,batch_size=256, shuffle=False)"
   ]
  },
  {
   "cell_type": "code",
   "execution_count": 5,
   "metadata": {},
   "outputs": [
    {
     "name": "stderr",
     "output_type": "stream",
     "text": [
      "Clipping input data to the valid range for imshow with RGB data ([0..1] for floats or [0..255] for integers).\n"
     ]
    },
    {
     "data": {
      "image/png": "[encoded data removed]",
      "text/plain": [
       "<Figure size 500x500 with 1 Axes>"
      ]
     },
     "metadata": {},
     "output_type": "display_data"
    }
   ],
   "source": [
    "def show_image_label(image, label, dataset):\n",
    "    plt.figure(figsize=(5, 5))\n",
    "    plt.imshow(image.permute(1, 2, 0))  # Convert from Tensor to numpy array and rearrange dimensions\n",
    "    plt.title(f\"Label: {dataset.classes[label]}\")\n",
    "    plt.axis('off')\n",
    "    plt.show()\n",
    "\n",
    "# Iterate over the data loader to get a batch of data\n",
    "for images, labels in dataloader_train:\n",
    "    # Choose one image and its label from the batch\n",
    "    index = 100  # You can change this index to view different images\n",
    "    image = images[index]\n",
    "    label = labels[index]\n",
    "    \n",
    "    # Display the image with its label\n",
    "    show_image_label(image, label, dataset_train)\n",
    "    \n",
    "    # Break the loop after displaying one image for demonstration purposes\n",
    "    break"
   ]
  },
  {
   "cell_type": "code",
   "execution_count": 6,
   "metadata": {},
   "outputs": [
    {
     "name": "stdout",
     "output_type": "stream",
     "text": [
      "torch.Size([256, 3, 112, 112])\n",
      "torch.Size([256])\n"
     ]
    }
   ],
   "source": [
    "for data, target in dataloader_train:\n",
    "    print(data.shape)  # This will print the shape of the input data\n",
    "    print(target.shape)  # This will print the shape of the targets (if any)\n",
    "    break"
   ]
  },
  {
   "cell_type": "markdown",
   "metadata": {},
   "source": [
    "## CNN Architecture"
   ]
  },
  {
   "cell_type": "code",
   "execution_count": 7,
   "metadata": {},
   "outputs": [],
   "source": [
    "class ConvNetwork(nn.Module):\n",
    "    def __init__(self):\n",
    "        super(ConvNetwork, self).__init__()\n",
    "\n",
    "        # Hyperparameters:\n",
    "        self.in_channels = 3\n",
    "        self.n_out = 32\n",
    "        self.conv_kernel_size = 3\n",
    "        self.conv_kernel_stride = 2\n",
    "        self.conv_padding = 1\n",
    "        self.pool_kernel_size = 2\n",
    "        self.pool_kernel_stride = 2\n",
    "\n",
    "        # Convolution\n",
    "        self.conv1 = nn.Conv2d(self.in_channels, self.n_out, self.conv_kernel_size, self.conv_kernel_stride, self.conv_padding)\n",
    "        self.conv2 = nn.Conv2d(self.n_out, self.n_out*2, self.conv_kernel_size, self.conv_kernel_stride, self.conv_padding)\n",
    "        self.conv3 = nn.Conv2d(self.n_out*2, self.n_out*4, self.conv_kernel_size, self.conv_kernel_stride, self.conv_padding)\n",
    "\n",
    "        # batch normalization\n",
    "        self.bn1 = nn.BatchNorm2d(self.n_out)\n",
    "        self.bn2 = nn.BatchNorm2d(self.n_out*2)\n",
    "        self.bn3 = nn.BatchNorm2d(self.n_out*4)\n",
    "\n",
    "        # Pooling\n",
    "        self.pool1 = nn.MaxPool2d(self.pool_kernel_size, self.pool_kernel_stride)\n",
    "\n",
    "        # Linear\n",
    "        conv_output_size = self.get_conv_output_size()\n",
    "        self.linear1 = nn.Linear(conv_output_size, 64)\n",
    "        self.linear2 = nn.Linear(64, 32)\n",
    "        self.linear3 = nn.Linear(32, 2)\n",
    "\n",
    "        # dropout\n",
    "        self.dropout = nn.Dropout(0.35)\n",
    "\n",
    "        self.sig = nn.Sigmoid()\n",
    "\n",
    "    def get_conv_output_size(self):\n",
    "        x = torch.zeros(1, self.in_channels, 112, 112)\n",
    "        x = self.pool1(self.conv1(x))\n",
    "        x = self.pool1(self.conv2(x))\n",
    "        x = self.pool1(self.conv3(x))\n",
    "        return x.view(-1).shape[0]\n",
    "\n",
    "    def forward(self, x):\n",
    "        x = self.pool1(F.leaky_relu(self.bn1(self.conv1(x))))\n",
    "        x = self.pool1(F.leaky_relu(self.bn2(self.conv2(x))))\n",
    "        x = self.pool1(F.leaky_relu(self.bn3(self.conv3(x))))\n",
    "            \n",
    "        x = x.view(x.size(0), -1)\n",
    "\n",
    "        x = self.linear1(x)\n",
    "        x = self.dropout(x)\n",
    "        x = self.linear2(x)\n",
    "        x = self.sig(self.linear3(x))\n",
    "\n",
    "        return x"
   ]
  },
  {
   "cell_type": "code",
   "execution_count": 8,
   "metadata": {},
   "outputs": [],
   "source": [
    "# Initialize the model\n",
    "model = ConvNetwork()\n",
    "\n",
    "# Define loss function and optimizer\n",
    "criterion = nn.CrossEntropyLoss()\n",
    "optimizer = optim.Adam(model.parameters(), lr=0.001)\n"
   ]
  },
  {
   "cell_type": "code",
   "execution_count": 9,
   "metadata": {},
   "outputs": [],
   "source": [
    "def train(model, dataloader, criterion, optimizer):\n",
    "    model.train()\n",
    "    running_loss = 0.0\n",
    "    correct = 0\n",
    "    total = 0\n",
    "\n",
    "    for images, labels in dataloader:\n",
    "        optimizer.zero_grad()\n",
    "\n",
    "        outputs = model(images)\n",
    "        loss = criterion(outputs, labels)\n",
    "        loss.backward()\n",
    "        optimizer.step()\n",
    "\n",
    "        running_loss += loss.item()\n",
    "\n",
    "        _, predicted = torch.max(outputs, 1)\n",
    "        total += labels.size(0)\n",
    "        correct += (predicted == labels).sum().item()\n",
    "\n",
    "    epoch_loss = running_loss / len(dataloader)\n",
    "    epoch_accuracy = correct / total\n",
    "    return epoch_loss, epoch_accuracy\n",
    "\n",
    "def validate(model, dataloader, criterion):\n",
    "    model.eval()\n",
    "    running_loss = 0.0\n",
    "    correct = 0\n",
    "    total = 0\n",
    "\n",
    "    with torch.no_grad():\n",
    "        for images, labels in dataloader:\n",
    "            outputs = model(images)\n",
    "            loss = criterion(outputs, labels)\n",
    "\n",
    "            running_loss += loss.item()\n",
    "\n",
    "            _, predicted = torch.max(outputs, 1)\n",
    "            total += labels.size(0)\n",
    "            correct += (predicted == labels).sum().item()\n",
    "\n",
    "    epoch_loss = running_loss / len(dataloader)\n",
    "    epoch_accuracy = correct / total\n",
    "    return epoch_loss, epoch_accuracy"
   ]
  },
  {
   "cell_type": "code",
   "execution_count": 10,
   "metadata": {},
   "outputs": [
    {
     "name": "stdout",
     "output_type": "stream",
     "text": [
      "Epoch [1/10], Train Loss: 0.4997, Train Accuracy: 0.8062, Valid Loss: 0.5044, Valid Accuracy: 0.8007\n",
      "Epoch [2/10], Train Loss: 0.4660, Train Accuracy: 0.8431, Valid Loss: 0.4880, Valid Accuracy: 0.8214\n",
      "Epoch [3/10], Train Loss: 0.4552, Train Accuracy: 0.8523, Valid Loss: 0.4709, Valid Accuracy: 0.8358\n",
      "Epoch [4/10], Train Loss: 0.4516, Train Accuracy: 0.8550, Valid Loss: 0.4568, Valid Accuracy: 0.8516\n",
      "Epoch [5/10], Train Loss: 0.4446, Train Accuracy: 0.8629, Valid Loss: 0.4644, Valid Accuracy: 0.8449\n",
      "Epoch [6/10], Train Loss: 0.4410, Train Accuracy: 0.8662, Valid Loss: 0.4501, Valid Accuracy: 0.8527\n",
      "Epoch [7/10], Train Loss: 0.4402, Train Accuracy: 0.8680, Valid Loss: 0.4389, Valid Accuracy: 0.8691\n",
      "Epoch [8/10], Train Loss: 0.4334, Train Accuracy: 0.8748, Valid Loss: 0.4323, Valid Accuracy: 0.8793\n",
      "Epoch [9/10], Train Loss: 0.4329, Train Accuracy: 0.8756, Valid Loss: 0.4534, Valid Accuracy: 0.8559\n",
      "Epoch [10/10], Train Loss: 0.4330, Train Accuracy: 0.8768, Valid Loss: 0.4358, Valid Accuracy: 0.8737\n"
     ]
    }
   ],
   "source": [
    "# Training loop\n",
    "num_epochs = 10\n",
    "for epoch in range(num_epochs):\n",
    "    train_loss, train_accuracy = train(model, dataloader_train, criterion, optimizer)\n",
    "    valid_loss, valid_accuracy = validate(model, dataloader_valid, criterion)\n",
    "\n",
    "    print(f'Epoch [{epoch + 1}/{num_epochs}], Train Loss: {train_loss:.4f}, Train Accuracy: {train_accuracy:.4f}, Valid Loss: {valid_loss:.4f}, Valid Accuracy: {valid_accuracy:.4f}')"
   ]
  },
  {
   "cell_type": "code",
   "execution_count": 34,
   "metadata": {},
   "outputs": [],
   "source": [
    "def test(model, test_loader, criterion):\n",
    "    model.eval()  # Set the model to evaluation mode\n",
    "    test_loss = 0.0\n",
    "    predictions = []\n",
    "    true_labels = []\n",
    "\n",
    "    with torch.no_grad():  # Disable gradient calculation during inference\n",
    "        for inputs, labels in test_loader:\n",
    "            \n",
    "            # Forward pass\n",
    "            outputs = model(inputs)\n",
    "            loss = criterion(outputs, labels)\n",
    "            \n",
    "            test_loss += loss.item()\n",
    "            \n",
    "            # Store predictions and true labels for metric calculation\n",
    "            _, predicted = torch.max(outputs, 1)\n",
    "            predictions.extend(predicted.cpu().numpy())\n",
    "            true_labels.extend(labels.cpu().numpy())\n",
    "\n",
    "    # Calculate average loss\n",
    "    test_loss /= len(test_loader)\n",
    "\n",
    "    # Calculate metrics\n",
    "    accuracy = accuracy_score(true_labels, predictions)\n",
    "    precision = precision_score(true_labels, predictions)\n",
    "    recall = recall_score(true_labels, predictions)\n",
    "    f1 = f1_score(true_labels, predictions)\n",
    "    roc_auc = roc_auc_score(true_labels, predictions)\n",
    "\n",
    "    # Confusion matrix\n",
    "    conf_matrix = confusion_matrix(true_labels, predictions)\n",
    "\n",
    "    # Print metrics including true positives and true negatives\n",
    "    print(f\"Test Loss: {test_loss:.4f}\")\n",
    "    print(f\"Accuracy: {accuracy:.4f}\")\n",
    "    print(f\"Precision: {precision:.4f}\")\n",
    "    print(f\"Recall: {recall:.4f}\")\n",
    "    print(f\"F1 Score: {f1:.4f}\")\n",
    "    print(f\"ROC AUC Score: {roc_auc:.4f}\")\n",
    "\n",
    "    # Get class labels\n",
    "    classes = [str(i) for i in range(conf_matrix.shape[0])]  # Assuming class labels are integers\n",
    "\n",
    "    # Visualize confusion matrix with Matplotlib\n",
    "    plt.figure(figsize=(4, 3))\n",
    "    plt.imshow(conf_matrix, interpolation='nearest', cmap=plt.cm.Blues)\n",
    "    plt.title('Confusion Matrix')\n",
    "    plt.colorbar()\n",
    "    tick_marks = range(len(classes))\n",
    "    plt.xticks(tick_marks, classes)\n",
    "    plt.yticks(tick_marks, classes)\n",
    "\n",
    "    thresh = conf_matrix.max() / 2.\n",
    "    for i in range(conf_matrix.shape[0]):\n",
    "        for j in range(conf_matrix.shape[1]):\n",
    "            plt.text(j, i, format(conf_matrix[i, j], 'd'),\n",
    "                     horizontalalignment=\"center\",\n",
    "                     color=\"white\" if conf_matrix[i, j] > thresh else \"black\")\n",
    "\n",
    "    plt.ylabel('True label')\n",
    "    plt.xlabel('Predicted label')\n",
    "\n",
    "    return accuracy"
   ]
  },
  {
   "cell_type": "markdown",
   "metadata": {},
   "source": [
    "## Evaluate and save the model"
   ]
  },
  {
   "cell_type": "code",
   "execution_count": 35,
   "metadata": {},
   "outputs": [
    {
     "name": "stdout",
     "output_type": "stream",
     "text": [
      "Test Loss: 0.4351\n",
      "Accuracy: 0.8748\n",
      "Precision: 0.8309\n",
      "Recall: 0.9215\n",
      "F1 Score: 0.8739\n",
      "ROC AUC Score: 0.8774\n"
     ]
    },
    {
     "data": {
      "image/png": "[encoded data removed]",
      "text/plain": [
       "<Figure size 400x300 with 2 Axes>"
      ]
     },
     "metadata": {},
     "output_type": "display_data"
    }
   ],
   "source": [
    "# Get accuracy\n",
    "accuracy = test(model, dataloader_valid, criterion)\n",
    "\n",
    "# Define folder to store model paths\n",
    "current_dir = os.getcwd()\n",
    "model_folder = 'Models'\n",
    "models_dir = os.path.join(current_dir, model_folder)\n",
    "\n",
    "# Define file paths including accuracy at the beginning of the filenames\n",
    "architecture_path = os.path.join(models_dir, f\"{accuracy:.2f}%_model_architecture.pth\")\n",
    "weights_path = os.path.join(models_dir, f\"{accuracy:.2f}%_model_weights.pth\")\n",
    "\n",
    "# Save model architecture\n",
    "torch.save(model, architecture_path)  # Save the entire model including architecture and weights\n",
    "\n",
    "# Save model weights separately\n",
    "torch.save(model.state_dict(), weights_path)  # Save only the model weights"
   ]
  },
  {
   "cell_type": "markdown",
   "metadata": {},
   "source": [
    "The model demonstrates good performance with an accuracy of 87.52% and a ROC AUC score of 0.8779, indicating a strong ability to distinguish between classes.\n",
    "\n",
    "Precision and Recall: The model exhibits a precision of 82.97%, meaning a low rate of false positives, and a recall of 92.45%, indicating it misses few true positive cases. The F1 score of 0.8745 reflects a good balance between these metrics.\n",
    "\n",
    "The test loss of 0.4359 provides a measure of the model's prediction error. It is similat to training loss so i am not very concerned with overfitting."
   ]
  }
 ],
 "metadata": {
  "kernelspec": {
   "display_name": "Python 3",
   "language": "python",
   "name": "python3"
  },
  "language_info": {
   "codemirror_mode": {
    "name": "ipython",
    "version": 3
   },
   "file_extension": ".py",
   "mimetype": "text/x-python",
   "name": "python",
   "nbconvert_exporter": "python",
   "pygments_lexer": "ipython3",
   "version": "3.10.13"
  }
 },
 "nbformat": 4,
 "nbformat_minor": 2
}
