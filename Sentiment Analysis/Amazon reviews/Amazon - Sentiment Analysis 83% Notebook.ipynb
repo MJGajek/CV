{
  "cells": [
    {
      "cell_type": "markdown",
      "metadata": {
        "id": "lsZ5zKwxiaX3"
      },
      "source": [
        "# Amazon Sentiment Analysis\n",
        "\n",
        "We will create a sentiment analysis based on the amazon reviews dataset. https://www.kaggle.com/datasets/bittlingmayer/amazonreviews In the dataset there are 2 labels:\n",
        "- label 1 which denotes bad reviews (1 star and 2 star reviews)\n",
        "- label 2 which denotes good reviews (4 and 5-star reviews)\n",
        "- 3 star reviews were not included in the dataset"
      ]
    },
    {
      "cell_type": "code",
      "execution_count": 1,
      "metadata": {
        "id": "3gCPfU4DiaYA"
      },
      "outputs": [],
      "source": [
        "import pandas as pd\n",
        "import numpy as np\n",
        "import seaborn as sns\n",
        "import matplotlib.pyplot as plt\n",
        "import ast\n",
        "from sklearn.metrics import confusion_matrix, classification_report\n",
        "import re\n",
        "import pickle\n",
        "\n",
        "import string\n",
        "import nltk\n",
        "from nltk.corpus import stopwords\n",
        "from nltk.tokenize import word_tokenize\n",
        "from nltk.stem import WordNetLemmatizer\n",
        "from nltk.corpus import wordnet\n",
        "from sklearn.feature_extraction.text import CountVectorizer\n",
        "from torch.nn.utils.rnn import pad_sequence\n",
        "\n",
        "import torch\n",
        "import torch.nn as nn\n",
        "from torch.utils.data import Dataset, DataLoader, random_split, TensorDataset\n",
        "import torch.optim as optim\n",
        "\n",
        "from transformers import RobertaForSequenceClassification, AlbertForSequenceClassification\n",
        "from transformers import ElectraForSequenceClassification, XLNetForSequenceClassification\n",
        "import nltk\n",
        "from nltk.sentiment.vader import SentimentIntensityAnalyzer\n"
      ]
    },
    {
      "cell_type": "markdown",
      "metadata": {
        "id": "9Mc-DpG1iaYF"
      },
      "source": [
        "## Load data"
      ]
    },
    {
      "cell_type": "code",
      "execution_count": 2,
      "metadata": {
        "colab": {
          "base_uri": "https://localhost:8080/",
          "height": 204
        },
        "id": "bMSBD3ZSiaYF",
        "outputId": "332c0434-e36e-421a-8c54-a42a6ec608ff"
      },
      "outputs": [
        {
          "output_type": "execute_result",
          "data": {
            "text/plain": [
              "   label                                               text\n",
              "0      0  Buyer beware: This is a self-published book, a...\n",
              "1      0  The Worst!: A complete waste of time. Typograp...\n",
              "2      0  Oh please: I guess you have to be a romance no...\n",
              "3      0  Awful beyond belief!: I feel I have to write t...\n",
              "4      0  Don't try to fool us with fake reviews.: It's ..."
            ],
            "text/html": [
              "\n",
              "  <div id=\"df-b4b02ce7-c67f-4a6a-a0c4-9a79dfed9b6b\" class=\"colab-df-container\">\n",
              "    <div>\n",
              "<style scoped>\n",
              "    .dataframe tbody tr th:only-of-type {\n",
              "        vertical-align: middle;\n",
              "    }\n",
              "\n",
              "    .dataframe tbody tr th {\n",
              "        vertical-align: top;\n",
              "    }\n",
              "\n",
              "    .dataframe thead th {\n",
              "        text-align: right;\n",
              "    }\n",
              "</style>\n",
              "<table border=\"1\" class=\"dataframe\">\n",
              "  <thead>\n",
              "    <tr style=\"text-align: right;\">\n",
              "      <th></th>\n",
              "      <th>label</th>\n",
              "      <th>text</th>\n",
              "    </tr>\n",
              "  </thead>\n",
              "  <tbody>\n",
              "    <tr>\n",
              "      <th>0</th>\n",
              "      <td>0</td>\n",
              "      <td>Buyer beware: This is a self-published book, a...</td>\n",
              "    </tr>\n",
              "    <tr>\n",
              "      <th>1</th>\n",
              "      <td>0</td>\n",
              "      <td>The Worst!: A complete waste of time. Typograp...</td>\n",
              "    </tr>\n",
              "    <tr>\n",
              "      <th>2</th>\n",
              "      <td>0</td>\n",
              "      <td>Oh please: I guess you have to be a romance no...</td>\n",
              "    </tr>\n",
              "    <tr>\n",
              "      <th>3</th>\n",
              "      <td>0</td>\n",
              "      <td>Awful beyond belief!: I feel I have to write t...</td>\n",
              "    </tr>\n",
              "    <tr>\n",
              "      <th>4</th>\n",
              "      <td>0</td>\n",
              "      <td>Don't try to fool us with fake reviews.: It's ...</td>\n",
              "    </tr>\n",
              "  </tbody>\n",
              "</table>\n",
              "</div>\n",
              "    <div class=\"colab-df-buttons\">\n",
              "\n",
              "  <div class=\"colab-df-container\">\n",
              "    <button class=\"colab-df-convert\" onclick=\"convertToInteractive('df-b4b02ce7-c67f-4a6a-a0c4-9a79dfed9b6b')\"\n",
              "            title=\"Convert this dataframe to an interactive table.\"\n",
              "            style=\"display:none;\">\n",
              "\n",
              "  <svg xmlns=\"http://www.w3.org/2000/svg\" height=\"24px\" viewBox=\"0 -960 960 960\">\n",
              "    <path d=\"M120-120v-720h720v720H120Zm60-500h600v-160H180v160Zm220 220h160v-160H400v160Zm0 220h160v-160H400v160ZM180-400h160v-160H180v160Zm440 0h160v-160H620v160ZM180-180h160v-160H180v160Zm440 0h160v-160H620v160Z\"/>\n",
              "  </svg>\n",
              "    </button>\n",
              "\n",
              "  <style>\n",
              "    .colab-df-container {\n",
              "      display:flex;\n",
              "      gap: 12px;\n",
              "    }\n",
              "\n",
              "    .colab-df-convert {\n",
              "      background-color: #E8F0FE;\n",
              "      border: none;\n",
              "      border-radius: 50%;\n",
              "      cursor: pointer;\n",
              "      display: none;\n",
              "      fill: #1967D2;\n",
              "      height: 32px;\n",
              "      padding: 0 0 0 0;\n",
              "      width: 32px;\n",
              "    }\n",
              "\n",
              "    .colab-df-convert:hover {\n",
              "      background-color: #E2EBFA;\n",
              "      box-shadow: 0px 1px 2px rgba(60, 64, 67, 0.3), 0px 1px 3px 1px rgba(60, 64, 67, 0.15);\n",
              "      fill: #174EA6;\n",
              "    }\n",
              "\n",
              "    .colab-df-buttons div {\n",
              "      margin-bottom: 4px;\n",
              "    }\n",
              "\n",
              "    [theme=dark] .colab-df-convert {\n",
              "      background-color: #3B4455;\n",
              "      fill: #D2E3FC;\n",
              "    }\n",
              "\n",
              "    [theme=dark] .colab-df-convert:hover {\n",
              "      background-color: #434B5C;\n",
              "      box-shadow: 0px 1px 3px 1px rgba(0, 0, 0, 0.15);\n",
              "      filter: drop-shadow(0px 1px 2px rgba(0, 0, 0, 0.3));\n",
              "      fill: #FFFFFF;\n",
              "    }\n",
              "  </style>\n",
              "\n",
              "    <script>\n",
              "      const buttonEl =\n",
              "        document.querySelector('#df-b4b02ce7-c67f-4a6a-a0c4-9a79dfed9b6b button.colab-df-convert');\n",
              "      buttonEl.style.display =\n",
              "        google.colab.kernel.accessAllowed ? 'block' : 'none';\n",
              "\n",
              "      async function convertToInteractive(key) {\n",
              "        const element = document.querySelector('#df-b4b02ce7-c67f-4a6a-a0c4-9a79dfed9b6b');\n",
              "        const dataTable =\n",
              "          await google.colab.kernel.invokeFunction('convertToInteractive',\n",
              "                                                    [key], {});\n",
              "        if (!dataTable) return;\n",
              "\n",
              "        const docLinkHtml = 'Like what you see? Visit the ' +\n",
              "          '<a target=\"_blank\" href=https://colab.research.google.com/notebooks/data_table.ipynb>data table notebook</a>'\n",
              "          + ' to learn more about interactive tables.';\n",
              "        element.innerHTML = '';\n",
              "        dataTable['output_type'] = 'display_data';\n",
              "        await google.colab.output.renderOutput(dataTable, element);\n",
              "        const docLink = document.createElement('div');\n",
              "        docLink.innerHTML = docLinkHtml;\n",
              "        element.appendChild(docLink);\n",
              "      }\n",
              "    </script>\n",
              "  </div>\n",
              "\n",
              "\n",
              "<div id=\"df-e71fcca2-257a-4947-8e53-434a20a690c2\">\n",
              "  <button class=\"colab-df-quickchart\" onclick=\"quickchart('df-e71fcca2-257a-4947-8e53-434a20a690c2')\"\n",
              "            title=\"Suggest charts\"\n",
              "            style=\"display:none;\">\n",
              "\n",
              "<svg xmlns=\"http://www.w3.org/2000/svg\" height=\"24px\"viewBox=\"0 0 24 24\"\n",
              "     width=\"24px\">\n",
              "    <g>\n",
              "        <path d=\"M19 3H5c-1.1 0-2 .9-2 2v14c0 1.1.9 2 2 2h14c1.1 0 2-.9 2-2V5c0-1.1-.9-2-2-2zM9 17H7v-7h2v7zm4 0h-2V7h2v10zm4 0h-2v-4h2v4z\"/>\n",
              "    </g>\n",
              "</svg>\n",
              "  </button>\n",
              "\n",
              "<style>\n",
              "  .colab-df-quickchart {\n",
              "      --bg-color: #E8F0FE;\n",
              "      --fill-color: #1967D2;\n",
              "      --hover-bg-color: #E2EBFA;\n",
              "      --hover-fill-color: #174EA6;\n",
              "      --disabled-fill-color: #AAA;\n",
              "      --disabled-bg-color: #DDD;\n",
              "  }\n",
              "\n",
              "  [theme=dark] .colab-df-quickchart {\n",
              "      --bg-color: #3B4455;\n",
              "      --fill-color: #D2E3FC;\n",
              "      --hover-bg-color: #434B5C;\n",
              "      --hover-fill-color: #FFFFFF;\n",
              "      --disabled-bg-color: #3B4455;\n",
              "      --disabled-fill-color: #666;\n",
              "  }\n",
              "\n",
              "  .colab-df-quickchart {\n",
              "    background-color: var(--bg-color);\n",
              "    border: none;\n",
              "    border-radius: 50%;\n",
              "    cursor: pointer;\n",
              "    display: none;\n",
              "    fill: var(--fill-color);\n",
              "    height: 32px;\n",
              "    padding: 0;\n",
              "    width: 32px;\n",
              "  }\n",
              "\n",
              "  .colab-df-quickchart:hover {\n",
              "    background-color: var(--hover-bg-color);\n",
              "    box-shadow: 0 1px 2px rgba(60, 64, 67, 0.3), 0 1px 3px 1px rgba(60, 64, 67, 0.15);\n",
              "    fill: var(--button-hover-fill-color);\n",
              "  }\n",
              "\n",
              "  .colab-df-quickchart-complete:disabled,\n",
              "  .colab-df-quickchart-complete:disabled:hover {\n",
              "    background-color: var(--disabled-bg-color);\n",
              "    fill: var(--disabled-fill-color);\n",
              "    box-shadow: none;\n",
              "  }\n",
              "\n",
              "  .colab-df-spinner {\n",
              "    border: 2px solid var(--fill-color);\n",
              "    border-color: transparent;\n",
              "    border-bottom-color: var(--fill-color);\n",
              "    animation:\n",
              "      spin 1s steps(1) infinite;\n",
              "  }\n",
              "\n",
              "  @keyframes spin {\n",
              "    0% {\n",
              "      border-color: transparent;\n",
              "      border-bottom-color: var(--fill-color);\n",
              "      border-left-color: var(--fill-color);\n",
              "    }\n",
              "    20% {\n",
              "      border-color: transparent;\n",
              "      border-left-color: var(--fill-color);\n",
              "      border-top-color: var(--fill-color);\n",
              "    }\n",
              "    30% {\n",
              "      border-color: transparent;\n",
              "      border-left-color: var(--fill-color);\n",
              "      border-top-color: var(--fill-color);\n",
              "      border-right-color: var(--fill-color);\n",
              "    }\n",
              "    40% {\n",
              "      border-color: transparent;\n",
              "      border-right-color: var(--fill-color);\n",
              "      border-top-color: var(--fill-color);\n",
              "    }\n",
              "    60% {\n",
              "      border-color: transparent;\n",
              "      border-right-color: var(--fill-color);\n",
              "    }\n",
              "    80% {\n",
              "      border-color: transparent;\n",
              "      border-right-color: var(--fill-color);\n",
              "      border-bottom-color: var(--fill-color);\n",
              "    }\n",
              "    90% {\n",
              "      border-color: transparent;\n",
              "      border-bottom-color: var(--fill-color);\n",
              "    }\n",
              "  }\n",
              "</style>\n",
              "\n",
              "  <script>\n",
              "    async function quickchart(key) {\n",
              "      const quickchartButtonEl =\n",
              "        document.querySelector('#' + key + ' button');\n",
              "      quickchartButtonEl.disabled = true;  // To prevent multiple clicks.\n",
              "      quickchartButtonEl.classList.add('colab-df-spinner');\n",
              "      try {\n",
              "        const charts = await google.colab.kernel.invokeFunction(\n",
              "            'suggestCharts', [key], {});\n",
              "      } catch (error) {\n",
              "        console.error('Error during call to suggestCharts:', error);\n",
              "      }\n",
              "      quickchartButtonEl.classList.remove('colab-df-spinner');\n",
              "      quickchartButtonEl.classList.add('colab-df-quickchart-complete');\n",
              "    }\n",
              "    (() => {\n",
              "      let quickchartButtonEl =\n",
              "        document.querySelector('#df-e71fcca2-257a-4947-8e53-434a20a690c2 button');\n",
              "      quickchartButtonEl.style.display =\n",
              "        google.colab.kernel.accessAllowed ? 'block' : 'none';\n",
              "    })();\n",
              "  </script>\n",
              "</div>\n",
              "\n",
              "    </div>\n",
              "  </div>\n"
            ],
            "application/vnd.google.colaboratory.intrinsic+json": {
              "type": "dataframe",
              "variable_name": "df",
              "summary": "{\n  \"name\": \"df\",\n  \"rows\": 100,\n  \"fields\": [\n    {\n      \"column\": \"label\",\n      \"properties\": {\n        \"dtype\": \"number\",\n        \"std\": 0,\n        \"min\": 0,\n        \"max\": 1,\n        \"num_unique_values\": 2,\n        \"samples\": [\n          1,\n          0\n        ],\n        \"semantic_type\": \"\",\n        \"description\": \"\"\n      }\n    },\n    {\n      \"column\": \"text\",\n      \"properties\": {\n        \"dtype\": \"string\",\n        \"num_unique_values\": 100,\n        \"samples\": [\n          \"Homer or Moses?: An extremely helpful gem on a complex subject of second century religious authority and textual use. For anyone serious about this period and the interelation of cultures, this book is essential. Is it complex and detailed? Of course, it must be to argue the point. Should you buy it? Yes, unless you want to keep running back to the library. I write this only after thoroughly disagreeing with the review above.\",\n          \"Excellent Soundtrack: I truly like this soundtrack and I enjoy video game music. I have played this game and most of the music on here I enjoy and it's truly relaxing and peaceful.On disk one. my favorites are Scars Of Time, Between Life and Death, Forest Of Illusion, Fortress of Ancient Dragons, Lost Fragment, and Drowned Valley.Disk Two: The Draggons, Galdorb - Home, Chronomantique, Prisoners of Fate, Gale, and my girlfriend likes ZelbessDisk Three: The best of the three. Garden Of God, Chronopolis, Fates, Jellyfish sea, Burning Orphange, Dragon's Prayer, Tower Of Stars, Dragon God, and Radical Dreamers - Unstealable Jewel.Overall, this is a excellent soundtrack and should be brought by those that like video game music.Xander Cross\"\n        ],\n        \"semantic_type\": \"\",\n        \"description\": \"\"\n      }\n    }\n  ]\n}"
            }
          },
          "metadata": {},
          "execution_count": 2
        }
      ],
      "source": [
        "path = '/content/Dataset, train, balanced, Amazon reviews 100.csv'\n",
        "df = pd.read_csv(path)\n",
        "df.head(5)\n"
      ]
    },
    {
      "cell_type": "code",
      "execution_count": 3,
      "metadata": {
        "colab": {
          "base_uri": "https://localhost:8080/"
        },
        "id": "ryfKtPPWiaYH",
        "outputId": "52b129ae-5f81-4cf6-d5a9-3a5763dee541"
      },
      "outputs": [
        {
          "output_type": "stream",
          "name": "stdout",
          "text": [
            "100\n"
          ]
        }
      ],
      "source": [
        "print(len(df))"
      ]
    },
    {
      "cell_type": "code",
      "execution_count": 4,
      "metadata": {
        "colab": {
          "base_uri": "https://localhost:8080/"
        },
        "id": "p9xGUcBYiaYI",
        "outputId": "777addd4-e1e0-4c42-a718-839f7ddeed90"
      },
      "outputs": [
        {
          "output_type": "stream",
          "name": "stdout",
          "text": [
            "label\n",
            "0    50\n",
            "1    50\n",
            "Name: count, dtype: int64\n"
          ]
        }
      ],
      "source": [
        "print(df['label'].value_counts())"
      ]
    },
    {
      "cell_type": "markdown",
      "metadata": {
        "id": "0g0Ej-ITiaYI"
      },
      "source": [
        "# Preprocessing\n",
        "I am going to prepera dataset by applying to it the following functions:\n",
        "\n",
        " - Lowercasing\n",
        " - remove punctuation\n",
        " - remove stopwords\n",
        " - tokenization\n",
        " - remove empty rows\n",
        " - lammatization\n",
        " - n-grams\n",
        " - embeddings\n",
        " - concatonate tokenize and embeded fetures with embeded 2-grams of the input sequences\n",
        " - padding"
      ]
    },
    {
      "cell_type": "markdown",
      "metadata": {
        "id": "ckqp4pxUiaYJ"
      },
      "source": [
        "### Lowercase"
      ]
    },
    {
      "cell_type": "code",
      "execution_count": 5,
      "metadata": {
        "id": "fLsETH9_iaYK"
      },
      "outputs": [],
      "source": [
        "def lowercase(df):\n",
        "    df['text'] = df['text'].str.lower()\n",
        "    return df"
      ]
    },
    {
      "cell_type": "markdown",
      "metadata": {
        "id": "cqLjQXHxiaYK"
      },
      "source": [
        "### Punctuation"
      ]
    },
    {
      "cell_type": "code",
      "execution_count": 6,
      "metadata": {
        "id": "2pNkR67jiaYL"
      },
      "outputs": [],
      "source": [
        "def remove_punctuation(df):\n",
        "    # Define a translation table that maps each punctuation character to None\n",
        "    translator = str.maketrans('', '', string.punctuation)\n",
        "    df['text'] = df['text'].apply(lambda x: x.translate(translator))\n",
        "    return df"
      ]
    },
    {
      "cell_type": "markdown",
      "metadata": {
        "id": "H6s3RFzZiaYM"
      },
      "source": [
        "### Stopwords"
      ]
    },
    {
      "cell_type": "code",
      "execution_count": 7,
      "metadata": {
        "colab": {
          "base_uri": "https://localhost:8080/"
        },
        "id": "qif-EM2diaYM",
        "outputId": "3bc859dd-22e4-4ace-91c5-a373c5a71daf"
      },
      "outputs": [
        {
          "output_type": "stream",
          "name": "stdout",
          "text": [
            "each\n",
            "my\n",
            "over\n",
            "up\n",
            "to\n"
          ]
        }
      ],
      "source": [
        "def ensure_nltk_data():\n",
        "     try:\n",
        "         stop_words = set(stopwords.words('english'))\n",
        "     except LookupError:\n",
        "         nltk.download('stopwords')\n",
        "         stop_words = set(stopwords.words('english'))\n",
        "\n",
        "     try:\n",
        "         nltk.data.find('tokenizers/punkt')\n",
        "     except LookupError:\n",
        "         nltk.download('punkt')\n",
        "\n",
        "ensure_nltk_data()\n",
        "# load the set of stopwords\n",
        "stop_words = set(stopwords.words('english'))\n",
        "\n",
        "#check if we get stopwords\n",
        "a = 0\n",
        "for w in stop_words:\n",
        "    print(w)\n",
        "    a += 1\n",
        "    if a == 5:\n",
        "        break"
      ]
    },
    {
      "cell_type": "code",
      "execution_count": 8,
      "metadata": {
        "id": "ilqT8gIkiaYN"
      },
      "outputs": [],
      "source": [
        " def remove_stopwords(cell):\n",
        "     words = cell.split()\n",
        "     filtered_words = [w for w in words if w not in stop_words]\n",
        "     return ' '.join(filtered_words)"
      ]
    },
    {
      "cell_type": "markdown",
      "metadata": {
        "id": "x_lcGHOaiaYO"
      },
      "source": [
        "### Tokenize"
      ]
    },
    {
      "cell_type": "code",
      "execution_count": 9,
      "metadata": {
        "colab": {
          "base_uri": "https://localhost:8080/"
        },
        "id": "SXG3HUi_iaYO",
        "outputId": "3b6b1005-bebf-4015-ebb5-10b71c915e9e"
      },
      "outputs": [
        {
          "output_type": "stream",
          "name": "stderr",
          "text": [
            "[nltk_data] Downloading package punkt to /root/nltk_data...\n",
            "[nltk_data]   Package punkt is already up-to-date!\n"
          ]
        },
        {
          "output_type": "execute_result",
          "data": {
            "text/plain": [
              "True"
            ]
          },
          "metadata": {},
          "execution_count": 9
        }
      ],
      "source": [
        "def tokenize(cell):\n",
        "    return word_tokenize(cell)\n",
        "\n",
        "nltk.download('punkt')"
      ]
    },
    {
      "cell_type": "markdown",
      "metadata": {
        "id": "4iBG4f-NiaYP"
      },
      "source": [
        "### Empty rows"
      ]
    },
    {
      "cell_type": "code",
      "execution_count": 10,
      "metadata": {
        "id": "Sx6_chlViaYQ"
      },
      "outputs": [],
      "source": [
        "def remove_empty_rows(df):\n",
        "    def is_not_empty(cell):\n",
        "        # Check if the cell is a list and it is not empty\n",
        "        if isinstance(cell, list) and len(cell) > 0:\n",
        "            # Check if all nested lists within the cell are also not empty\n",
        "            for item in cell:\n",
        "                if isinstance(item, list) and len(item) == 0:\n",
        "                    return False\n",
        "            return True\n",
        "        return False\n",
        "\n",
        "    df = df[df['text'].apply(is_not_empty) & df['2-grams'].apply(is_not_empty)]\n",
        "    return df"
      ]
    },
    {
      "cell_type": "markdown",
      "metadata": {
        "id": "76vWaZOFiaYR"
      },
      "source": [
        "### Lammatize"
      ]
    },
    {
      "cell_type": "code",
      "execution_count": 11,
      "metadata": {
        "colab": {
          "base_uri": "https://localhost:8080/"
        },
        "id": "Wn3V0CtwiaYS",
        "outputId": "b9f6a1c7-5a7e-43a2-ee35-d0d013c9645b"
      },
      "outputs": [
        {
          "output_type": "stream",
          "name": "stderr",
          "text": [
            "[nltk_data] Downloading package wordnet to /root/nltk_data...\n",
            "[nltk_data]   Package wordnet is already up-to-date!\n",
            "[nltk_data] Downloading package omw-1.4 to /root/nltk_data...\n",
            "[nltk_data]   Package omw-1.4 is already up-to-date!\n",
            "[nltk_data] Downloading package averaged_perceptron_tagger to\n",
            "[nltk_data]     /root/nltk_data...\n",
            "[nltk_data]   Package averaged_perceptron_tagger is already up-to-\n",
            "[nltk_data]       date!\n"
          ]
        }
      ],
      "source": [
        "# Ensure necessary NLTK data files are downloaded\n",
        "nltk.download('wordnet')\n",
        "nltk.download('omw-1.4')\n",
        "nltk.download('averaged_perceptron_tagger')\n",
        "\n",
        "lemmatizer = WordNetLemmatizer()\n",
        "\n",
        "def get_wordnet_pos(word):\n",
        "    \"\"\"Map POS tag to first character lemmatize() accepts\"\"\"\n",
        "    tag = nltk.pos_tag([word])[0][1][0].upper()\n",
        "    tag_dict = {\"J\": wordnet.ADJ,\n",
        "                \"N\": wordnet.NOUN,\n",
        "                \"V\": wordnet.VERB,\n",
        "                \"R\": wordnet.ADV}\n",
        "    return tag_dict.get(tag, wordnet.NOUN)\n",
        "\n",
        "def lemmatize(tokens):\n",
        "    \"\"\"Lemmatize a list of tokens\"\"\"\n",
        "    return [lemmatizer.lemmatize(w, get_wordnet_pos(w)) for w in tokens]"
      ]
    },
    {
      "cell_type": "markdown",
      "metadata": {
        "id": "Hdk1sobAiaYT"
      },
      "source": [
        "### N-grams"
      ]
    },
    {
      "cell_type": "code",
      "execution_count": 12,
      "metadata": {
        "id": "ouuN2zUPiaYU"
      },
      "outputs": [],
      "source": [
        "def generate_ngrams(text_tokens, n):\n",
        "    \"\"\"Generate n-grams from a list of tokens.\"\"\"\n",
        "    ngrams = [' '.join(text_tokens[i:i+n]) for i in range(len(text_tokens)-n+1)]\n",
        "    return ngrams\n",
        "\n",
        "def add_ngrams_column(df, n=2):\n",
        "    \"\"\"Add a column of n-grams to the DataFrame.\"\"\"\n",
        "    df[f'{n}-grams'] = df['text'].apply(lambda x: generate_ngrams(x, n))\n",
        "    return df"
      ]
    },
    {
      "cell_type": "markdown",
      "metadata": {
        "id": "wYwMWSfaiaYU"
      },
      "source": [
        "### Embeddings"
      ]
    },
    {
      "cell_type": "code",
      "execution_count": 13,
      "metadata": {
        "id": "h9xk8TZUiaYV"
      },
      "outputs": [],
      "source": [
        "file_path_embeddings = '/content/glove.6B.100d.txt'\n",
        "\n",
        "def load_glove_embeddings(filepath):\n",
        "    embeddings = {}\n",
        "    with open(filepath, 'r', encoding='utf-8') as f:\n",
        "        for line in f:\n",
        "            values = line.split()\n",
        "            word = values[0]\n",
        "            vector = np.asarray(values[1:], dtype='float32')\n",
        "            embeddings[word] = vector\n",
        "    return embeddings\n",
        "\n",
        "def get_embedding(word, embeddings):\n",
        "    return embeddings.get(word, None)\n",
        "\n",
        "embeddings = load_glove_embeddings(file_path_embeddings)"
      ]
    },
    {
      "cell_type": "code",
      "execution_count": 14,
      "metadata": {
        "id": "LiH7i1cCiaYW"
      },
      "outputs": [],
      "source": [
        "# get dynamically embedding dim\n",
        "first_word = next(iter(embeddings))\n",
        "embedding_dim = len(embeddings[first_word])"
      ]
    },
    {
      "cell_type": "code",
      "execution_count": 15,
      "metadata": {
        "id": "sUQjFtPBiaYW"
      },
      "outputs": [],
      "source": [
        "# this function checks if we are working with tokens or 2-grams and appropriatly handles embeddings for each case\n",
        "def embed(cell):\n",
        "    vectors = []\n",
        "    for t in cell:\n",
        "        if ' ' in t:  # Check if it's a 2-gram\n",
        "            tokens = t.split()\n",
        "            token_vectors = []\n",
        "            for token in tokens:\n",
        "                vector = get_embedding(token, embeddings)\n",
        "                if vector is not None:\n",
        "                    token_vectors.append(vector)\n",
        "            if token_vectors:\n",
        "                # Average the token vectors to maintain the same dimensionality\n",
        "                averaged_vector = np.mean(token_vectors, axis=0)\n",
        "                vectors.append(averaged_vector)\n",
        "        else:  # Single token case\n",
        "            vector = get_embedding(t, embeddings)\n",
        "            if vector is not None:\n",
        "                vectors.append(vector)\n",
        "    return vectors"
      ]
    },
    {
      "cell_type": "markdown",
      "metadata": {
        "id": "QqgClOdWiaYX"
      },
      "source": [
        "### concatonate features"
      ]
    },
    {
      "cell_type": "code",
      "execution_count": 16,
      "metadata": {
        "id": "gikiCqo9iaYX"
      },
      "outputs": [],
      "source": [
        "def create_vector_column(df):\n",
        "    def concatenate_vectors(row):\n",
        "        text_vectors = row['text']\n",
        "        ngram_vectors = row['2-grams']\n",
        "\n",
        "        # Convert lists to numpy arrays\n",
        "        text_vectors = np.array(text_vectors)\n",
        "        ngram_vectors = np.array(ngram_vectors)\n",
        "\n",
        "        # Check if both arrays have the same embedding size\n",
        "        if text_vectors.shape[1] != ngram_vectors.shape[1]:\n",
        "            raise ValueError(\"Embedding sizes of text vectors and n-gram vectors do not match.\")\n",
        "\n",
        "        # Concatenate along the first axis (sequence length)\n",
        "        combined_vectors = np.concatenate((text_vectors, ngram_vectors), axis=0)\n",
        "        return combined_vectors\n",
        "\n",
        "    df['vector'] = df.apply(concatenate_vectors, axis=1)\n",
        "    return df"
      ]
    },
    {
      "cell_type": "markdown",
      "metadata": {
        "id": "9bSpeDRMiaYY"
      },
      "source": [
        "### Remove unnecesary columns"
      ]
    },
    {
      "cell_type": "code",
      "execution_count": 17,
      "metadata": {
        "id": "nqSeVtH-iaYY"
      },
      "outputs": [],
      "source": [
        "def remove_columns(df):\n",
        "    df.drop('text', axis=1, inplace=True)\n",
        "    df.drop('2-grams', axis=1, inplace=True)\n",
        "    return df"
      ]
    },
    {
      "cell_type": "markdown",
      "metadata": {
        "id": "fgM2i4o-iaYZ"
      },
      "source": [
        "### Pading"
      ]
    },
    {
      "cell_type": "code",
      "execution_count": 18,
      "metadata": {
        "id": "KAe3a5E4iaYZ"
      },
      "outputs": [],
      "source": [
        "def pad_sequences_to_uniform_length(df, column_name, embedding_size):\n",
        "    # Find the length of the longest sequence\n",
        "    max_length = max(df[column_name].apply(len))\n",
        "\n",
        "    def pad_sequence(seq, length, embedding_size):\n",
        "        seq = np.array(seq)\n",
        "\n",
        "        # Handle empty sequences or improperly shaped sequences\n",
        "        if len(seq.shape) == 0 or (len(seq.shape) == 1 and seq.shape[0] == 0):\n",
        "            return np.zeros((length, embedding_size))\n",
        "\n",
        "        # Ensure sequence is two-dimensional\n",
        "        if len(seq.shape) == 1:\n",
        "            seq = np.expand_dims(seq, axis=0)\n",
        "        elif len(seq.shape) > 2:\n",
        "            seq = np.squeeze(seq)\n",
        "\n",
        "\n",
        "        # Ensure seq has correct shape (n, embedding_size)\n",
        "        if seq.shape[1] != embedding_size:\n",
        "            print(f\"Processing sequence with shape: {seq.shape}\")\n",
        "            print(f\"Expected embedding size: {embedding_size}\")\n",
        "            raise ValueError(f\"Sequence has incorrect embedding size. Expected {embedding_size}, got {seq.shape[1]}\")\n",
        "\n",
        "        # Calculate how much padding is needed\n",
        "        padding_needed = length - len(seq)\n",
        "        # Pad sequence with zeros\n",
        "        padded_seq = np.pad(seq, ((0, padding_needed), (0, 0)), mode='constant')\n",
        "\n",
        "        return padded_seq\n",
        "\n",
        "    # Pad all sequences to the uniform length\n",
        "    df[column_name] = df[column_name].apply(lambda x: pad_sequence(x, max_length, embedding_size))\n",
        "\n",
        "    return df"
      ]
    },
    {
      "cell_type": "markdown",
      "metadata": {
        "id": "_U1QEaK2iaYb"
      },
      "source": [
        "## preprocessing function"
      ]
    },
    {
      "cell_type": "code",
      "execution_count": 19,
      "metadata": {
        "id": "9Iea0GfNiaYc"
      },
      "outputs": [],
      "source": [
        "def preprocess_df(df):\n",
        "    df = lowercase(df)\n",
        "    df = remove_punctuation(df)\n",
        "    df['text'] = df['text'].apply(remove_stopwords)\n",
        "    df['text'] = df['text'].apply(tokenize)\n",
        "    df['text'] = df['text'].apply(lemmatize)\n",
        "    df = add_ngrams_column(df, n=2)\n",
        "    df['2-grams'] = df['2-grams'].apply(embed)\n",
        "    df['text'] = df['text'].apply(embed)\n",
        "    df = remove_empty_rows(df)\n",
        "    df = create_vector_column(df)\n",
        "    df = remove_columns(df)\n",
        "    df = pad_sequences_to_uniform_length(df, 'vector', embedding_dim)\n",
        "\n",
        "    return df"
      ]
    },
    {
      "cell_type": "markdown",
      "source": [
        "# Load Data"
      ],
      "metadata": {
        "id": "b5cyfd6Oo1ac"
      }
    },
    {
      "cell_type": "code",
      "execution_count": 45,
      "metadata": {
        "colab": {
          "base_uri": "https://localhost:8080/"
        },
        "id": "UubPDHebiaYi",
        "outputId": "6f4dc2f8-39e9-4bb3-cf55-3c74c02eba30"
      },
      "outputs": [
        {
          "output_type": "execute_result",
          "data": {
            "text/plain": [
              "100000"
            ]
          },
          "metadata": {},
          "execution_count": 45
        }
      ],
      "source": [
        "path_dataset = '/content/Dataset, train, balanced, Amazon reviews 100000.csv'\n",
        "\n",
        "df = pd.read_csv(path_dataset)\n",
        "len(df)\n"
      ]
    },
    {
      "cell_type": "code",
      "source": [
        "df = preprocess_df(df)"
      ],
      "metadata": {
        "id": "ITI4Bfv0qNOd"
      },
      "execution_count": 46,
      "outputs": []
    },
    {
      "cell_type": "code",
      "source": [
        "# Save the preprocessed dataset to a new CSV file\n",
        "preprocessed_dataset_path = '/content/Processed_Dataset_100.pkl'\n",
        "with open(preprocessed_dataset_path, 'wb') as file:\n",
        "    pickle.dump(df, file)\n",
        "\n",
        "print(f\"Preprocessed dataset saved to: {preprocessed_dataset_path}\")"
      ],
      "metadata": {
        "colab": {
          "base_uri": "https://localhost:8080/"
        },
        "id": "sZGHoo3GJLy8",
        "outputId": "e4fd0e13-245a-4367-fb83-0a521cdd03d5"
      },
      "execution_count": 47,
      "outputs": [
        {
          "output_type": "stream",
          "name": "stdout",
          "text": [
            "Preprocessed dataset saved to: /content/Processed_Dataset_100.pkl\n"
          ]
        }
      ]
    },
    {
      "cell_type": "code",
      "source": [
        "# Loading the preprocessed DataFrame\n",
        "preprocessed_dataset_path = '/content/Processed_Dataset_100000.pkl'\n",
        "with open(preprocessed_dataset_path, 'rb') as file:\n",
        "    df = pickle.load(file)\n",
        "\n",
        "print(f\"Preprocessed dataset loaded from: {preprocessed_dataset_path}\")"
      ],
      "metadata": {
        "colab": {
          "base_uri": "https://localhost:8080/"
        },
        "id": "jiYPzSmqVdFm",
        "outputId": "6778cbec-70b9-4d5a-94d7-36dc0d15f3c8"
      },
      "execution_count": 43,
      "outputs": [
        {
          "output_type": "stream",
          "name": "stdout",
          "text": [
            "Preprocessed dataset loaded from: /content/Processed_Dataset_100000.pkl\n"
          ]
        }
      ]
    },
    {
      "cell_type": "code",
      "source": [
        "len(df)"
      ],
      "metadata": {
        "colab": {
          "base_uri": "https://localhost:8080/"
        },
        "id": "XEfK9sM4pAu4",
        "outputId": "698cbbe8-8132-4a76-f046-0767354a2faa"
      },
      "execution_count": 48,
      "outputs": [
        {
          "output_type": "execute_result",
          "data": {
            "text/plain": [
              "100000"
            ]
          },
          "metadata": {},
          "execution_count": 48
        }
      ]
    },
    {
      "cell_type": "code",
      "source": [
        "print(\"Type of preprocess_df:\", type(df))\n",
        "df.head(5)"
      ],
      "metadata": {
        "colab": {
          "base_uri": "https://localhost:8080/",
          "height": 221
        },
        "id": "nR1leS1MTSXp",
        "outputId": "13a7c329-c50f-4a20-91d2-13cd407f7a0c"
      },
      "execution_count": 49,
      "outputs": [
        {
          "output_type": "stream",
          "name": "stdout",
          "text": [
            "Type of preprocess_df: <class 'pandas.core.frame.DataFrame'>\n"
          ]
        },
        {
          "output_type": "execute_result",
          "data": {
            "text/plain": [
              "   label                                             vector\n",
              "0      0  [[0.43935, 0.23369, 0.71307, 0.085834, 0.34873...\n",
              "1      0  [[0.39456, -0.24717, 1.0319, -0.61444, -1.2376...\n",
              "2      0  [[-0.66665, 0.43269, 1.3134, -0.82401, -0.4911...\n",
              "3      0  [[0.022472, 0.20923, 0.55412, -0.70121, -0.964...\n",
              "4      0  [[0.0024119, 0.50144, 0.16453, -0.23827, -1.33..."
            ],
            "text/html": [
              "\n",
              "  <div id=\"df-68d77f7f-8174-4223-bffa-1633c32c7ca9\" class=\"colab-df-container\">\n",
              "    <div>\n",
              "<style scoped>\n",
              "    .dataframe tbody tr th:only-of-type {\n",
              "        vertical-align: middle;\n",
              "    }\n",
              "\n",
              "    .dataframe tbody tr th {\n",
              "        vertical-align: top;\n",
              "    }\n",
              "\n",
              "    .dataframe thead th {\n",
              "        text-align: right;\n",
              "    }\n",
              "</style>\n",
              "<table border=\"1\" class=\"dataframe\">\n",
              "  <thead>\n",
              "    <tr style=\"text-align: right;\">\n",
              "      <th></th>\n",
              "      <th>label</th>\n",
              "      <th>vector</th>\n",
              "    </tr>\n",
              "  </thead>\n",
              "  <tbody>\n",
              "    <tr>\n",
              "      <th>0</th>\n",
              "      <td>0</td>\n",
              "      <td>[[0.43935, 0.23369, 0.71307, 0.085834, 0.34873...</td>\n",
              "    </tr>\n",
              "    <tr>\n",
              "      <th>1</th>\n",
              "      <td>0</td>\n",
              "      <td>[[0.39456, -0.24717, 1.0319, -0.61444, -1.2376...</td>\n",
              "    </tr>\n",
              "    <tr>\n",
              "      <th>2</th>\n",
              "      <td>0</td>\n",
              "      <td>[[-0.66665, 0.43269, 1.3134, -0.82401, -0.4911...</td>\n",
              "    </tr>\n",
              "    <tr>\n",
              "      <th>3</th>\n",
              "      <td>0</td>\n",
              "      <td>[[0.022472, 0.20923, 0.55412, -0.70121, -0.964...</td>\n",
              "    </tr>\n",
              "    <tr>\n",
              "      <th>4</th>\n",
              "      <td>0</td>\n",
              "      <td>[[0.0024119, 0.50144, 0.16453, -0.23827, -1.33...</td>\n",
              "    </tr>\n",
              "  </tbody>\n",
              "</table>\n",
              "</div>\n",
              "    <div class=\"colab-df-buttons\">\n",
              "\n",
              "  <div class=\"colab-df-container\">\n",
              "    <button class=\"colab-df-convert\" onclick=\"convertToInteractive('df-68d77f7f-8174-4223-bffa-1633c32c7ca9')\"\n",
              "            title=\"Convert this dataframe to an interactive table.\"\n",
              "            style=\"display:none;\">\n",
              "\n",
              "  <svg xmlns=\"http://www.w3.org/2000/svg\" height=\"24px\" viewBox=\"0 -960 960 960\">\n",
              "    <path d=\"M120-120v-720h720v720H120Zm60-500h600v-160H180v160Zm220 220h160v-160H400v160Zm0 220h160v-160H400v160ZM180-400h160v-160H180v160Zm440 0h160v-160H620v160ZM180-180h160v-160H180v160Zm440 0h160v-160H620v160Z\"/>\n",
              "  </svg>\n",
              "    </button>\n",
              "\n",
              "  <style>\n",
              "    .colab-df-container {\n",
              "      display:flex;\n",
              "      gap: 12px;\n",
              "    }\n",
              "\n",
              "    .colab-df-convert {\n",
              "      background-color: #E8F0FE;\n",
              "      border: none;\n",
              "      border-radius: 50%;\n",
              "      cursor: pointer;\n",
              "      display: none;\n",
              "      fill: #1967D2;\n",
              "      height: 32px;\n",
              "      padding: 0 0 0 0;\n",
              "      width: 32px;\n",
              "    }\n",
              "\n",
              "    .colab-df-convert:hover {\n",
              "      background-color: #E2EBFA;\n",
              "      box-shadow: 0px 1px 2px rgba(60, 64, 67, 0.3), 0px 1px 3px 1px rgba(60, 64, 67, 0.15);\n",
              "      fill: #174EA6;\n",
              "    }\n",
              "\n",
              "    .colab-df-buttons div {\n",
              "      margin-bottom: 4px;\n",
              "    }\n",
              "\n",
              "    [theme=dark] .colab-df-convert {\n",
              "      background-color: #3B4455;\n",
              "      fill: #D2E3FC;\n",
              "    }\n",
              "\n",
              "    [theme=dark] .colab-df-convert:hover {\n",
              "      background-color: #434B5C;\n",
              "      box-shadow: 0px 1px 3px 1px rgba(0, 0, 0, 0.15);\n",
              "      filter: drop-shadow(0px 1px 2px rgba(0, 0, 0, 0.3));\n",
              "      fill: #FFFFFF;\n",
              "    }\n",
              "  </style>\n",
              "\n",
              "    <script>\n",
              "      const buttonEl =\n",
              "        document.querySelector('#df-68d77f7f-8174-4223-bffa-1633c32c7ca9 button.colab-df-convert');\n",
              "      buttonEl.style.display =\n",
              "        google.colab.kernel.accessAllowed ? 'block' : 'none';\n",
              "\n",
              "      async function convertToInteractive(key) {\n",
              "        const element = document.querySelector('#df-68d77f7f-8174-4223-bffa-1633c32c7ca9');\n",
              "        const dataTable =\n",
              "          await google.colab.kernel.invokeFunction('convertToInteractive',\n",
              "                                                    [key], {});\n",
              "        if (!dataTable) return;\n",
              "\n",
              "        const docLinkHtml = 'Like what you see? Visit the ' +\n",
              "          '<a target=\"_blank\" href=https://colab.research.google.com/notebooks/data_table.ipynb>data table notebook</a>'\n",
              "          + ' to learn more about interactive tables.';\n",
              "        element.innerHTML = '';\n",
              "        dataTable['output_type'] = 'display_data';\n",
              "        await google.colab.output.renderOutput(dataTable, element);\n",
              "        const docLink = document.createElement('div');\n",
              "        docLink.innerHTML = docLinkHtml;\n",
              "        element.appendChild(docLink);\n",
              "      }\n",
              "    </script>\n",
              "  </div>\n",
              "\n",
              "\n",
              "<div id=\"df-2ae0e9fc-427e-4092-92bd-f7a30e7b7b6d\">\n",
              "  <button class=\"colab-df-quickchart\" onclick=\"quickchart('df-2ae0e9fc-427e-4092-92bd-f7a30e7b7b6d')\"\n",
              "            title=\"Suggest charts\"\n",
              "            style=\"display:none;\">\n",
              "\n",
              "<svg xmlns=\"http://www.w3.org/2000/svg\" height=\"24px\"viewBox=\"0 0 24 24\"\n",
              "     width=\"24px\">\n",
              "    <g>\n",
              "        <path d=\"M19 3H5c-1.1 0-2 .9-2 2v14c0 1.1.9 2 2 2h14c1.1 0 2-.9 2-2V5c0-1.1-.9-2-2-2zM9 17H7v-7h2v7zm4 0h-2V7h2v10zm4 0h-2v-4h2v4z\"/>\n",
              "    </g>\n",
              "</svg>\n",
              "  </button>\n",
              "\n",
              "<style>\n",
              "  .colab-df-quickchart {\n",
              "      --bg-color: #E8F0FE;\n",
              "      --fill-color: #1967D2;\n",
              "      --hover-bg-color: #E2EBFA;\n",
              "      --hover-fill-color: #174EA6;\n",
              "      --disabled-fill-color: #AAA;\n",
              "      --disabled-bg-color: #DDD;\n",
              "  }\n",
              "\n",
              "  [theme=dark] .colab-df-quickchart {\n",
              "      --bg-color: #3B4455;\n",
              "      --fill-color: #D2E3FC;\n",
              "      --hover-bg-color: #434B5C;\n",
              "      --hover-fill-color: #FFFFFF;\n",
              "      --disabled-bg-color: #3B4455;\n",
              "      --disabled-fill-color: #666;\n",
              "  }\n",
              "\n",
              "  .colab-df-quickchart {\n",
              "    background-color: var(--bg-color);\n",
              "    border: none;\n",
              "    border-radius: 50%;\n",
              "    cursor: pointer;\n",
              "    display: none;\n",
              "    fill: var(--fill-color);\n",
              "    height: 32px;\n",
              "    padding: 0;\n",
              "    width: 32px;\n",
              "  }\n",
              "\n",
              "  .colab-df-quickchart:hover {\n",
              "    background-color: var(--hover-bg-color);\n",
              "    box-shadow: 0 1px 2px rgba(60, 64, 67, 0.3), 0 1px 3px 1px rgba(60, 64, 67, 0.15);\n",
              "    fill: var(--button-hover-fill-color);\n",
              "  }\n",
              "\n",
              "  .colab-df-quickchart-complete:disabled,\n",
              "  .colab-df-quickchart-complete:disabled:hover {\n",
              "    background-color: var(--disabled-bg-color);\n",
              "    fill: var(--disabled-fill-color);\n",
              "    box-shadow: none;\n",
              "  }\n",
              "\n",
              "  .colab-df-spinner {\n",
              "    border: 2px solid var(--fill-color);\n",
              "    border-color: transparent;\n",
              "    border-bottom-color: var(--fill-color);\n",
              "    animation:\n",
              "      spin 1s steps(1) infinite;\n",
              "  }\n",
              "\n",
              "  @keyframes spin {\n",
              "    0% {\n",
              "      border-color: transparent;\n",
              "      border-bottom-color: var(--fill-color);\n",
              "      border-left-color: var(--fill-color);\n",
              "    }\n",
              "    20% {\n",
              "      border-color: transparent;\n",
              "      border-left-color: var(--fill-color);\n",
              "      border-top-color: var(--fill-color);\n",
              "    }\n",
              "    30% {\n",
              "      border-color: transparent;\n",
              "      border-left-color: var(--fill-color);\n",
              "      border-top-color: var(--fill-color);\n",
              "      border-right-color: var(--fill-color);\n",
              "    }\n",
              "    40% {\n",
              "      border-color: transparent;\n",
              "      border-right-color: var(--fill-color);\n",
              "      border-top-color: var(--fill-color);\n",
              "    }\n",
              "    60% {\n",
              "      border-color: transparent;\n",
              "      border-right-color: var(--fill-color);\n",
              "    }\n",
              "    80% {\n",
              "      border-color: transparent;\n",
              "      border-right-color: var(--fill-color);\n",
              "      border-bottom-color: var(--fill-color);\n",
              "    }\n",
              "    90% {\n",
              "      border-color: transparent;\n",
              "      border-bottom-color: var(--fill-color);\n",
              "    }\n",
              "  }\n",
              "</style>\n",
              "\n",
              "  <script>\n",
              "    async function quickchart(key) {\n",
              "      const quickchartButtonEl =\n",
              "        document.querySelector('#' + key + ' button');\n",
              "      quickchartButtonEl.disabled = true;  // To prevent multiple clicks.\n",
              "      quickchartButtonEl.classList.add('colab-df-spinner');\n",
              "      try {\n",
              "        const charts = await google.colab.kernel.invokeFunction(\n",
              "            'suggestCharts', [key], {});\n",
              "      } catch (error) {\n",
              "        console.error('Error during call to suggestCharts:', error);\n",
              "      }\n",
              "      quickchartButtonEl.classList.remove('colab-df-spinner');\n",
              "      quickchartButtonEl.classList.add('colab-df-quickchart-complete');\n",
              "    }\n",
              "    (() => {\n",
              "      let quickchartButtonEl =\n",
              "        document.querySelector('#df-2ae0e9fc-427e-4092-92bd-f7a30e7b7b6d button');\n",
              "      quickchartButtonEl.style.display =\n",
              "        google.colab.kernel.accessAllowed ? 'block' : 'none';\n",
              "    })();\n",
              "  </script>\n",
              "</div>\n",
              "\n",
              "    </div>\n",
              "  </div>\n"
            ],
            "application/vnd.google.colaboratory.intrinsic+json": {
              "type": "dataframe",
              "variable_name": "df",
              "summary": "{\n  \"name\": \"df\",\n  \"rows\": 100000,\n  \"fields\": [\n    {\n      \"column\": \"label\",\n      \"properties\": {\n        \"dtype\": \"number\",\n        \"std\": 0,\n        \"min\": 0,\n        \"max\": 1,\n        \"num_unique_values\": 2,\n        \"samples\": [\n          1,\n          0\n        ],\n        \"semantic_type\": \"\",\n        \"description\": \"\"\n      }\n    },\n    {\n      \"column\": \"vector\",\n      \"properties\": {\n        \"dtype\": \"object\",\n        \"semantic_type\": \"\",\n        \"description\": \"\"\n      }\n    }\n  ]\n}"
            }
          },
          "metadata": {},
          "execution_count": 49
        }
      ]
    },
    {
      "cell_type": "markdown",
      "metadata": {
        "id": "clRHcSoyiaYf"
      },
      "source": [
        "### Checks"
      ]
    },
    {
      "cell_type": "code",
      "source": [
        "print(\"Type of preprocess_df:\", type(df))\n",
        "print(df.iloc[99])"
      ],
      "metadata": {
        "colab": {
          "base_uri": "https://localhost:8080/"
        },
        "id": "tfCLm8EXPsP2",
        "outputId": "ae860a90-3729-48a8-a65b-d46c49e0b018"
      },
      "execution_count": 50,
      "outputs": [
        {
          "output_type": "stream",
          "name": "stdout",
          "text": [
            "Type of preprocess_df: <class 'pandas.core.frame.DataFrame'>\n",
            "label                                                     0\n",
            "vector    [[-0.23317, 0.36893, 0.028304, 0.22558, -0.000...\n",
            "Name: 99, dtype: object\n"
          ]
        }
      ]
    },
    {
      "cell_type": "code",
      "source": [
        "df.head(5)"
      ],
      "metadata": {
        "colab": {
          "base_uri": "https://localhost:8080/",
          "height": 204
        },
        "id": "mef0-VfmXYW3",
        "outputId": "3a35432a-db09-4afd-cfe3-54b8a822b880"
      },
      "execution_count": 25,
      "outputs": [
        {
          "output_type": "execute_result",
          "data": {
            "text/plain": [
              "   label                                             vector\n",
              "0      0  [[0.43935, 0.23369, 0.71307, 0.085834, 0.34873...\n",
              "1      0  [[0.39456, -0.24717, 1.0319, -0.61444, -1.2376...\n",
              "2      0  [[-0.66665, 0.43269, 1.3134, -0.82401, -0.4911...\n",
              "3      0  [[0.022472, 0.20923, 0.55412, -0.70121, -0.964...\n",
              "4      0  [[0.0024119, 0.50144, 0.16453, -0.23827, -1.33..."
            ],
            "text/html": [
              "\n",
              "  <div id=\"df-d289f1e3-5d7d-4eb3-a8e5-4fac7906529a\" class=\"colab-df-container\">\n",
              "    <div>\n",
              "<style scoped>\n",
              "    .dataframe tbody tr th:only-of-type {\n",
              "        vertical-align: middle;\n",
              "    }\n",
              "\n",
              "    .dataframe tbody tr th {\n",
              "        vertical-align: top;\n",
              "    }\n",
              "\n",
              "    .dataframe thead th {\n",
              "        text-align: right;\n",
              "    }\n",
              "</style>\n",
              "<table border=\"1\" class=\"dataframe\">\n",
              "  <thead>\n",
              "    <tr style=\"text-align: right;\">\n",
              "      <th></th>\n",
              "      <th>label</th>\n",
              "      <th>vector</th>\n",
              "    </tr>\n",
              "  </thead>\n",
              "  <tbody>\n",
              "    <tr>\n",
              "      <th>0</th>\n",
              "      <td>0</td>\n",
              "      <td>[[0.43935, 0.23369, 0.71307, 0.085834, 0.34873...</td>\n",
              "    </tr>\n",
              "    <tr>\n",
              "      <th>1</th>\n",
              "      <td>0</td>\n",
              "      <td>[[0.39456, -0.24717, 1.0319, -0.61444, -1.2376...</td>\n",
              "    </tr>\n",
              "    <tr>\n",
              "      <th>2</th>\n",
              "      <td>0</td>\n",
              "      <td>[[-0.66665, 0.43269, 1.3134, -0.82401, -0.4911...</td>\n",
              "    </tr>\n",
              "    <tr>\n",
              "      <th>3</th>\n",
              "      <td>0</td>\n",
              "      <td>[[0.022472, 0.20923, 0.55412, -0.70121, -0.964...</td>\n",
              "    </tr>\n",
              "    <tr>\n",
              "      <th>4</th>\n",
              "      <td>0</td>\n",
              "      <td>[[0.0024119, 0.50144, 0.16453, -0.23827, -1.33...</td>\n",
              "    </tr>\n",
              "  </tbody>\n",
              "</table>\n",
              "</div>\n",
              "    <div class=\"colab-df-buttons\">\n",
              "\n",
              "  <div class=\"colab-df-container\">\n",
              "    <button class=\"colab-df-convert\" onclick=\"convertToInteractive('df-d289f1e3-5d7d-4eb3-a8e5-4fac7906529a')\"\n",
              "            title=\"Convert this dataframe to an interactive table.\"\n",
              "            style=\"display:none;\">\n",
              "\n",
              "  <svg xmlns=\"http://www.w3.org/2000/svg\" height=\"24px\" viewBox=\"0 -960 960 960\">\n",
              "    <path d=\"M120-120v-720h720v720H120Zm60-500h600v-160H180v160Zm220 220h160v-160H400v160Zm0 220h160v-160H400v160ZM180-400h160v-160H180v160Zm440 0h160v-160H620v160ZM180-180h160v-160H180v160Zm440 0h160v-160H620v160Z\"/>\n",
              "  </svg>\n",
              "    </button>\n",
              "\n",
              "  <style>\n",
              "    .colab-df-container {\n",
              "      display:flex;\n",
              "      gap: 12px;\n",
              "    }\n",
              "\n",
              "    .colab-df-convert {\n",
              "      background-color: #E8F0FE;\n",
              "      border: none;\n",
              "      border-radius: 50%;\n",
              "      cursor: pointer;\n",
              "      display: none;\n",
              "      fill: #1967D2;\n",
              "      height: 32px;\n",
              "      padding: 0 0 0 0;\n",
              "      width: 32px;\n",
              "    }\n",
              "\n",
              "    .colab-df-convert:hover {\n",
              "      background-color: #E2EBFA;\n",
              "      box-shadow: 0px 1px 2px rgba(60, 64, 67, 0.3), 0px 1px 3px 1px rgba(60, 64, 67, 0.15);\n",
              "      fill: #174EA6;\n",
              "    }\n",
              "\n",
              "    .colab-df-buttons div {\n",
              "      margin-bottom: 4px;\n",
              "    }\n",
              "\n",
              "    [theme=dark] .colab-df-convert {\n",
              "      background-color: #3B4455;\n",
              "      fill: #D2E3FC;\n",
              "    }\n",
              "\n",
              "    [theme=dark] .colab-df-convert:hover {\n",
              "      background-color: #434B5C;\n",
              "      box-shadow: 0px 1px 3px 1px rgba(0, 0, 0, 0.15);\n",
              "      filter: drop-shadow(0px 1px 2px rgba(0, 0, 0, 0.3));\n",
              "      fill: #FFFFFF;\n",
              "    }\n",
              "  </style>\n",
              "\n",
              "    <script>\n",
              "      const buttonEl =\n",
              "        document.querySelector('#df-d289f1e3-5d7d-4eb3-a8e5-4fac7906529a button.colab-df-convert');\n",
              "      buttonEl.style.display =\n",
              "        google.colab.kernel.accessAllowed ? 'block' : 'none';\n",
              "\n",
              "      async function convertToInteractive(key) {\n",
              "        const element = document.querySelector('#df-d289f1e3-5d7d-4eb3-a8e5-4fac7906529a');\n",
              "        const dataTable =\n",
              "          await google.colab.kernel.invokeFunction('convertToInteractive',\n",
              "                                                    [key], {});\n",
              "        if (!dataTable) return;\n",
              "\n",
              "        const docLinkHtml = 'Like what you see? Visit the ' +\n",
              "          '<a target=\"_blank\" href=https://colab.research.google.com/notebooks/data_table.ipynb>data table notebook</a>'\n",
              "          + ' to learn more about interactive tables.';\n",
              "        element.innerHTML = '';\n",
              "        dataTable['output_type'] = 'display_data';\n",
              "        await google.colab.output.renderOutput(dataTable, element);\n",
              "        const docLink = document.createElement('div');\n",
              "        docLink.innerHTML = docLinkHtml;\n",
              "        element.appendChild(docLink);\n",
              "      }\n",
              "    </script>\n",
              "  </div>\n",
              "\n",
              "\n",
              "<div id=\"df-bf5c9647-c83e-47cb-9ae8-1b98464e3d89\">\n",
              "  <button class=\"colab-df-quickchart\" onclick=\"quickchart('df-bf5c9647-c83e-47cb-9ae8-1b98464e3d89')\"\n",
              "            title=\"Suggest charts\"\n",
              "            style=\"display:none;\">\n",
              "\n",
              "<svg xmlns=\"http://www.w3.org/2000/svg\" height=\"24px\"viewBox=\"0 0 24 24\"\n",
              "     width=\"24px\">\n",
              "    <g>\n",
              "        <path d=\"M19 3H5c-1.1 0-2 .9-2 2v14c0 1.1.9 2 2 2h14c1.1 0 2-.9 2-2V5c0-1.1-.9-2-2-2zM9 17H7v-7h2v7zm4 0h-2V7h2v10zm4 0h-2v-4h2v4z\"/>\n",
              "    </g>\n",
              "</svg>\n",
              "  </button>\n",
              "\n",
              "<style>\n",
              "  .colab-df-quickchart {\n",
              "      --bg-color: #E8F0FE;\n",
              "      --fill-color: #1967D2;\n",
              "      --hover-bg-color: #E2EBFA;\n",
              "      --hover-fill-color: #174EA6;\n",
              "      --disabled-fill-color: #AAA;\n",
              "      --disabled-bg-color: #DDD;\n",
              "  }\n",
              "\n",
              "  [theme=dark] .colab-df-quickchart {\n",
              "      --bg-color: #3B4455;\n",
              "      --fill-color: #D2E3FC;\n",
              "      --hover-bg-color: #434B5C;\n",
              "      --hover-fill-color: #FFFFFF;\n",
              "      --disabled-bg-color: #3B4455;\n",
              "      --disabled-fill-color: #666;\n",
              "  }\n",
              "\n",
              "  .colab-df-quickchart {\n",
              "    background-color: var(--bg-color);\n",
              "    border: none;\n",
              "    border-radius: 50%;\n",
              "    cursor: pointer;\n",
              "    display: none;\n",
              "    fill: var(--fill-color);\n",
              "    height: 32px;\n",
              "    padding: 0;\n",
              "    width: 32px;\n",
              "  }\n",
              "\n",
              "  .colab-df-quickchart:hover {\n",
              "    background-color: var(--hover-bg-color);\n",
              "    box-shadow: 0 1px 2px rgba(60, 64, 67, 0.3), 0 1px 3px 1px rgba(60, 64, 67, 0.15);\n",
              "    fill: var(--button-hover-fill-color);\n",
              "  }\n",
              "\n",
              "  .colab-df-quickchart-complete:disabled,\n",
              "  .colab-df-quickchart-complete:disabled:hover {\n",
              "    background-color: var(--disabled-bg-color);\n",
              "    fill: var(--disabled-fill-color);\n",
              "    box-shadow: none;\n",
              "  }\n",
              "\n",
              "  .colab-df-spinner {\n",
              "    border: 2px solid var(--fill-color);\n",
              "    border-color: transparent;\n",
              "    border-bottom-color: var(--fill-color);\n",
              "    animation:\n",
              "      spin 1s steps(1) infinite;\n",
              "  }\n",
              "\n",
              "  @keyframes spin {\n",
              "    0% {\n",
              "      border-color: transparent;\n",
              "      border-bottom-color: var(--fill-color);\n",
              "      border-left-color: var(--fill-color);\n",
              "    }\n",
              "    20% {\n",
              "      border-color: transparent;\n",
              "      border-left-color: var(--fill-color);\n",
              "      border-top-color: var(--fill-color);\n",
              "    }\n",
              "    30% {\n",
              "      border-color: transparent;\n",
              "      border-left-color: var(--fill-color);\n",
              "      border-top-color: var(--fill-color);\n",
              "      border-right-color: var(--fill-color);\n",
              "    }\n",
              "    40% {\n",
              "      border-color: transparent;\n",
              "      border-right-color: var(--fill-color);\n",
              "      border-top-color: var(--fill-color);\n",
              "    }\n",
              "    60% {\n",
              "      border-color: transparent;\n",
              "      border-right-color: var(--fill-color);\n",
              "    }\n",
              "    80% {\n",
              "      border-color: transparent;\n",
              "      border-right-color: var(--fill-color);\n",
              "      border-bottom-color: var(--fill-color);\n",
              "    }\n",
              "    90% {\n",
              "      border-color: transparent;\n",
              "      border-bottom-color: var(--fill-color);\n",
              "    }\n",
              "  }\n",
              "</style>\n",
              "\n",
              "  <script>\n",
              "    async function quickchart(key) {\n",
              "      const quickchartButtonEl =\n",
              "        document.querySelector('#' + key + ' button');\n",
              "      quickchartButtonEl.disabled = true;  // To prevent multiple clicks.\n",
              "      quickchartButtonEl.classList.add('colab-df-spinner');\n",
              "      try {\n",
              "        const charts = await google.colab.kernel.invokeFunction(\n",
              "            'suggestCharts', [key], {});\n",
              "      } catch (error) {\n",
              "        console.error('Error during call to suggestCharts:', error);\n",
              "      }\n",
              "      quickchartButtonEl.classList.remove('colab-df-spinner');\n",
              "      quickchartButtonEl.classList.add('colab-df-quickchart-complete');\n",
              "    }\n",
              "    (() => {\n",
              "      let quickchartButtonEl =\n",
              "        document.querySelector('#df-bf5c9647-c83e-47cb-9ae8-1b98464e3d89 button');\n",
              "      quickchartButtonEl.style.display =\n",
              "        google.colab.kernel.accessAllowed ? 'block' : 'none';\n",
              "    })();\n",
              "  </script>\n",
              "</div>\n",
              "\n",
              "    </div>\n",
              "  </div>\n"
            ],
            "application/vnd.google.colaboratory.intrinsic+json": {
              "type": "dataframe",
              "variable_name": "df",
              "summary": "{\n  \"name\": \"df\",\n  \"rows\": 100,\n  \"fields\": [\n    {\n      \"column\": \"label\",\n      \"properties\": {\n        \"dtype\": \"number\",\n        \"std\": 0,\n        \"min\": 0,\n        \"max\": 1,\n        \"num_unique_values\": 2,\n        \"samples\": [\n          1,\n          0\n        ],\n        \"semantic_type\": \"\",\n        \"description\": \"\"\n      }\n    },\n    {\n      \"column\": \"vector\",\n      \"properties\": {\n        \"dtype\": \"object\",\n        \"semantic_type\": \"\",\n        \"description\": \"\"\n      }\n    }\n  ]\n}"
            }
          },
          "metadata": {},
          "execution_count": 25
        }
      ]
    },
    {
      "cell_type": "code",
      "source": [
        "print(df.dtypes)"
      ],
      "metadata": {
        "colab": {
          "base_uri": "https://localhost:8080/"
        },
        "id": "My_PHi0wXgFD",
        "outputId": "b6bf2a0e-c9d2-4da4-b9b5-69dc7d3410d9"
      },
      "execution_count": 51,
      "outputs": [
        {
          "output_type": "stream",
          "name": "stdout",
          "text": [
            "label      int64\n",
            "vector    object\n",
            "dtype: object\n"
          ]
        }
      ]
    },
    {
      "cell_type": "code",
      "execution_count": 52,
      "metadata": {
        "colab": {
          "base_uri": "https://localhost:8080/"
        },
        "id": "taI4aZOJiaYf",
        "outputId": "6caf0f79-f42e-4a67-9040-53c22ff26600"
      },
      "outputs": [
        {
          "output_type": "stream",
          "name": "stdout",
          "text": [
            "All vectors have the same shape: (267, 100)\n"
          ]
        }
      ],
      "source": [
        "def check_vector_shapes(df, column_name='vector'):\n",
        "    shapes = df[column_name].apply(lambda x: np.array(x).shape)\n",
        "    first_shape = shapes.iloc[0]\n",
        "    consistent = all(shape == first_shape for shape in shapes)\n",
        "\n",
        "    if consistent:\n",
        "        print(\"All vectors have the same shape:\", first_shape)\n",
        "    else:\n",
        "        print(\"Inconsistent vector shapes found.\")\n",
        "        print(shapes.value_counts())\n",
        "\n",
        "    return consistent\n",
        "\n",
        "consistent_shapes = check_vector_shapes(df, 'vector')"
      ]
    },
    {
      "cell_type": "markdown",
      "metadata": {
        "id": "UdtkSye2iaYh"
      },
      "source": [
        "# Dataset"
      ]
    },
    {
      "cell_type": "code",
      "execution_count": 53,
      "metadata": {
        "id": "FHdma0cyiaYj"
      },
      "outputs": [],
      "source": [
        "class MyDataset(Dataset):\n",
        "    def __init__(self, df):\n",
        "        self.df = df\n",
        "\n",
        "    def __len__(self):\n",
        "        return len(self.df)\n",
        "\n",
        "    def __getitem__(self, idx):\n",
        "        vector = self.df.iloc[idx, 1]\n",
        "        label = self.df.iloc[idx, 0]\n",
        "        vector = self.normalize(vector)\n",
        "        return vector, label\n",
        "\n",
        "    def normalize(self, vector):\n",
        "        # Convert nested numpy arrays to a torch tensor\n",
        "        text_tensor = torch.tensor(vector, dtype=torch.float32)\n",
        "        if text_tensor.numel() == 0:\n",
        "            return text_tensor  # Return as-is if empty\n",
        "\n",
        "        # Flatten the tensor to apply normalization\n",
        "        original_shape = text_tensor.shape\n",
        "        text_tensor = text_tensor.view(-1, text_tensor.size(-1))\n",
        "\n",
        "        # Normalize along the last dimension (columns of each vector)\n",
        "        mean = text_tensor.mean(dim=0, keepdim=True)\n",
        "        std = text_tensor.std(dim=0, keepdim=True)\n",
        "\n",
        "        # Avoid division by zero\n",
        "        std[std == 0] = 1  # Replace zero std with 1 to avoid NaNs\n",
        "\n",
        "        normalized_text = (text_tensor - mean) / std\n",
        "\n",
        "        # Reshape back to the original nested structure\n",
        "        normalized_text = normalized_text.view(original_shape)\n",
        "        return normalized_text"
      ]
    },
    {
      "cell_type": "code",
      "execution_count": 54,
      "metadata": {
        "id": "r0gK1hKxiaYl"
      },
      "outputs": [],
      "source": [
        "dataset = MyDataset(df)\n",
        "\n",
        "# Define proportions for training, validation, and test sets\n",
        "train_size = int(0.8 * len(dataset))\n",
        "val_size = int(0.1 * len(dataset))\n",
        "test_size = len(dataset) - train_size - val_size\n",
        "\n",
        "# Split the dataset\n",
        "dataset_train, dataset_val, dataset_test = random_split(dataset, [train_size, val_size, test_size])"
      ]
    },
    {
      "cell_type": "markdown",
      "metadata": {
        "id": "u2dC_g3UiaYm"
      },
      "source": [
        "### Checks"
      ]
    },
    {
      "cell_type": "code",
      "execution_count": 55,
      "metadata": {
        "colab": {
          "base_uri": "https://localhost:8080/"
        },
        "id": "79lu-d1RiaYm",
        "outputId": "07ea459f-c873-433e-97f2-8efb54a0735c"
      },
      "outputs": [
        {
          "output_type": "stream",
          "name": "stdout",
          "text": [
            "80000\n",
            "10000\n",
            "10000\n"
          ]
        }
      ],
      "source": [
        "print(dataset_train.__len__())\n",
        "print(dataset_val.__len__())\n",
        "print(dataset_test.__len__())"
      ]
    },
    {
      "cell_type": "code",
      "execution_count": 56,
      "metadata": {
        "colab": {
          "base_uri": "https://localhost:8080/"
        },
        "id": "_ZayghLriaYn",
        "outputId": "424db8e8-5fae-4613-a463-a14ecdb7ff2e"
      },
      "outputs": [
        {
          "output_type": "stream",
          "name": "stdout",
          "text": [
            "torch.Size([267, 100]) ()\n",
            "tensor([[ 0.0170,  0.2468,  1.3773,  ...,  2.6742, -1.4901,  0.8159],\n",
            "        [ 2.0696,  0.9104,  0.7172,  ...,  1.5340, -1.0140,  2.6390],\n",
            "        [-0.5522,  1.5129,  0.4459,  ..., -0.9577,  0.1720,  1.0405],\n",
            "        ...,\n",
            "        [ 0.0502, -0.3097, -0.4149,  ...,  0.2828, -0.4170, -0.3630],\n",
            "        [ 0.0502, -0.3097, -0.4149,  ...,  0.2828, -0.4170, -0.3630],\n",
            "        [ 0.0502, -0.3097, -0.4149,  ...,  0.2828, -0.4170, -0.3630]])\n",
            "0\n"
          ]
        }
      ],
      "source": [
        "x, y = dataset_train.__getitem__(10)\n",
        "print(x.shape, y.shape)\n",
        "print(x)\n",
        "print(y)"
      ]
    },
    {
      "cell_type": "code",
      "execution_count": 57,
      "metadata": {
        "colab": {
          "base_uri": "https://localhost:8080/"
        },
        "id": "oAcK9BVViaYn",
        "outputId": "7f744f7f-3496-4f2f-b063-3438d99d4f89"
      },
      "outputs": [
        {
          "output_type": "stream",
          "name": "stdout",
          "text": [
            " count of ones: 39915, count of zeros: 40085\n",
            "None\n",
            " count of ones: 5071, count of zeros: 4929\n",
            "None\n",
            " count of ones: 5014, count of zeros: 4986\n",
            "None\n"
          ]
        }
      ],
      "source": [
        "def check_balance(df):\n",
        "    count_of_ones = 0\n",
        "    count_of_zeros = 0\n",
        "    for i in range(0,df.__len__()):\n",
        "        x, y = df.__getitem__(i)\n",
        "        if y == 1:\n",
        "            count_of_ones += 1\n",
        "\n",
        "        if y == 0:\n",
        "            count_of_zeros += 1\n",
        "\n",
        "    return print(f' count of ones: {count_of_ones}, count of zeros: {count_of_zeros}')\n",
        "\n",
        "print(check_balance(dataset_train))\n",
        "print(check_balance(dataset_val))\n",
        "print(check_balance(dataset_test))"
      ]
    },
    {
      "cell_type": "code",
      "execution_count": 58,
      "metadata": {
        "id": "tvpVCCyZiaYo"
      },
      "outputs": [],
      "source": [
        "def get_unique_shapes(dataset):\n",
        "    shapes = []\n",
        "    for i in range(len(dataset)):\n",
        "        x, _ = dataset[i]\n",
        "        shapes.append(x.shape[0])\n",
        "    return set(shapes)\n",
        "\n",
        "def check_shape(df_train, df_val, df_test):\n",
        "    unique_shapes_train = get_unique_shapes(df_train)\n",
        "    unique_shapes_val = get_unique_shapes(df_val)\n",
        "    unique_shapes_test = get_unique_shapes(df_test)\n",
        "\n",
        "    print(unique_shapes_train, unique_shapes_val, unique_shapes_test)"
      ]
    },
    {
      "cell_type": "code",
      "execution_count": 59,
      "metadata": {
        "colab": {
          "base_uri": "https://localhost:8080/"
        },
        "id": "IIsyhiEYiaYo",
        "outputId": "a2dfaeb6-9272-4fe7-af4b-5e97f8e6644b"
      },
      "outputs": [
        {
          "output_type": "stream",
          "name": "stdout",
          "text": [
            "{267} {267} {267}\n"
          ]
        }
      ],
      "source": [
        "check_shape(dataset_train, dataset_val, dataset_test)"
      ]
    },
    {
      "cell_type": "markdown",
      "metadata": {
        "id": "9sSZf6aciaYp"
      },
      "source": [
        "# Neural Network"
      ]
    },
    {
      "cell_type": "code",
      "execution_count": 60,
      "metadata": {
        "id": "Cws9V23MiaYq"
      },
      "outputs": [],
      "source": [
        "class LSTM(nn.Module):\n",
        "    def __init__(self, input_dim, hidden_dim, output_dim, bidirectional, num_layers, dropout):\n",
        "        super(LSTM, self).__init__()\n",
        "\n",
        "        self.input_dim = input_dim\n",
        "        self.hidden_dim = hidden_dim\n",
        "        self.output_dim = output_dim\n",
        "        self.bidirectional = bidirectional\n",
        "        self.num_layers = num_layers\n",
        "        self.dropout = dropout\n",
        "\n",
        "        self.norm = nn.BatchNorm1d(input_dim)\n",
        "        self.lstm = nn.LSTM(input_dim, hidden_dim, num_layers,\n",
        "                            bidirectional=bidirectional, dropout=dropout, batch_first=True)\n",
        "        self.fc = nn.Linear(hidden_dim * (2 if bidirectional else 1), output_dim)\n",
        "\n",
        "    def forward(self, x):\n",
        "        batch_size, seq_len, input_dim = x.size()\n",
        "        x = x.view(batch_size * seq_len, input_dim)     # Reshape x for batch normalization\n",
        "        x = self.norm(x)                                # Normalize batch\n",
        "        x = x.view(batch_size, seq_len, input_dim)      # Reshape x back to (batch_size, seq_len, input_dim)\n",
        "        h0, c0 = self.hidden_init(batch_size)           # Initialize hidden state and cell state\n",
        "        out, _ = self.lstm(x, (h0, c0))                 # LSTM forward pass\n",
        "        out = self.fc(out[:, -1, :])                    # Fully connected layer (take the last time step output)\n",
        "        return out\n",
        "\n",
        "    def hidden_init(self, batch_size):\n",
        "        num_directions = 2 if self.bidirectional else 1\n",
        "        h0 = torch.zeros(self.num_layers * num_directions, batch_size, self.hidden_dim).to(next(self.parameters()).device)\n",
        "        c0 = torch.zeros(self.num_layers * num_directions, batch_size, self.hidden_dim).to(next(self.parameters()).device)\n",
        "        return h0, c0"
      ]
    },
    {
      "cell_type": "markdown",
      "metadata": {
        "id": "uy2k-MqfiaYr"
      },
      "source": [
        "# Train, val and test functions"
      ]
    },
    {
      "cell_type": "code",
      "execution_count": 91,
      "metadata": {
        "id": "OsS5R4R1iaYs"
      },
      "outputs": [],
      "source": [
        "def train_model(model, train_loader, val_loader, num_epochs, learning_rate, grad_clip_value):\n",
        "    model.train()\n",
        "    criterion = nn.BCEWithLogitsLoss()\n",
        "    optimizer = optim.Adam(model.parameters(), lr=learning_rate)\n",
        "\n",
        "    best_val_loss = float('inf')\n",
        "    best_model_state = None\n",
        "\n",
        "    for epoch in range(num_epochs):\n",
        "        running_loss = 0.0\n",
        "        for inputs, targets in train_loader:\n",
        "            inputs, targets = inputs.to(next(model.parameters()).device), targets.to(next(model.parameters()).device).float()\n",
        "\n",
        "            optimizer.zero_grad()\n",
        "            outputs = model(inputs).squeeze()\n",
        "\n",
        "            if torch.isnan(outputs).any():\n",
        "                print(\"NaNs found in outputs\")\n",
        "                continue\n",
        "\n",
        "            loss = criterion(outputs, targets)\n",
        "\n",
        "            if torch.isnan(loss):\n",
        "                print(\"NaNs found in loss\")\n",
        "                continue\n",
        "\n",
        "            loss.backward()\n",
        "\n",
        "            torch.nn.utils.clip_grad_norm_(model.parameters(), max_norm=grad_clip_value)\n",
        "            optimizer.step()\n",
        "            running_loss += loss.item()\n",
        "\n",
        "        avg_train_loss = running_loss / len(train_loader)\n",
        "        print(f\"Epoch [{epoch+1}/{num_epochs}], Loss: {avg_train_loss:.4f}\")\n",
        "\n",
        "        val_loss = validate_model(model, val_loader)\n",
        "        print(f\"Validation Loss: {val_loss:.4f}\")\n",
        "\n",
        "        if val_loss < best_val_loss:\n",
        "            best_val_loss = val_loss\n",
        "            best_model_state = model.state_dict()\n",
        "\n",
        "    if best_model_state is not None:\n",
        "        model.load_state_dict(best_model_state)\n",
        "        print(\"Model loaded with the best validation loss state.\")\n",
        "\n",
        "def validate_model(model, val_loader):\n",
        "    model.eval()\n",
        "    val_loss = 0.0\n",
        "    criterion = nn.BCEWithLogitsLoss()\n",
        "\n",
        "    with torch.no_grad():\n",
        "        for inputs, targets in val_loader:\n",
        "            inputs, targets = inputs.to(next(model.parameters()).device), targets.to(next(model.parameters()).device).float()\n",
        "            outputs = model(inputs).squeeze()\n",
        "\n",
        "            if torch.isnan(outputs).any():\n",
        "                print(\"NaNs found in validation outputs\")\n",
        "                continue\n",
        "\n",
        "            loss = criterion(outputs, targets)\n",
        "\n",
        "            if torch.isnan(loss):\n",
        "                print(\"NaNs found in validation loss\")\n",
        "                continue\n",
        "\n",
        "            val_loss += loss.item()\n",
        "\n",
        "    val_loss /= len(val_loader)\n",
        "    model.train()\n",
        "    return val_loss"
      ]
    },
    {
      "cell_type": "markdown",
      "metadata": {
        "id": "aInvf2j_iaYt"
      },
      "source": [
        "# Run the model"
      ]
    },
    {
      "cell_type": "markdown",
      "metadata": {
        "id": "isQYHo4miaYt"
      },
      "source": [
        "## Hyperparameters"
      ]
    },
    {
      "cell_type": "code",
      "execution_count": 109,
      "metadata": {
        "id": "6i300Q1biaYt"
      },
      "outputs": [],
      "source": [
        "batch_size = 32\n",
        "input_dim = embedding_dim   # The number of input features per time step. This corresponds to the dimensionality of the input vectors\n",
        "hidden_dim = 256       # The number of features in the hidden state of the LSTM. It defines the internal state representation size of the LSTM. Higher values allow the LSTM to capture more complex patterns but also increase the computational cost.\n",
        "output_dim = 1\n",
        "num_layers = 2\n",
        "dropout = 0.2\n",
        "num_epochs = 15\n",
        "learning_rate = 0.01\n",
        "grad_clip_value = 1.0  # Example gradient clipping value"
      ]
    },
    {
      "cell_type": "markdown",
      "metadata": {
        "id": "SBt9lxB9iaYu"
      },
      "source": [
        "## Initialize"
      ]
    },
    {
      "cell_type": "code",
      "execution_count": 93,
      "metadata": {
        "id": "5f4btXabiaYu"
      },
      "outputs": [],
      "source": [
        "model = LSTM(input_dim, hidden_dim, output_dim, num_layers=num_layers, bidirectional=True, dropout=dropout)"
      ]
    },
    {
      "cell_type": "code",
      "execution_count": 94,
      "metadata": {
        "id": "BXEuVn6biaYv"
      },
      "outputs": [],
      "source": [
        "train_loader = DataLoader(dataset_train, batch_size=batch_size, shuffle=True)\n",
        "val_loader = DataLoader(dataset_val, batch_size=batch_size, shuffle=False)\n",
        "test_loader = DataLoader(dataset_test, batch_size=batch_size, shuffle=False)"
      ]
    },
    {
      "cell_type": "code",
      "execution_count": 95,
      "metadata": {
        "colab": {
          "base_uri": "https://localhost:8080/"
        },
        "id": "3VQdexvOiaYv",
        "outputId": "e9147078-2825-4be2-e4d1-9cb4481c1911"
      },
      "outputs": [
        {
          "output_type": "stream",
          "name": "stdout",
          "text": [
            "Training - Batch 1 dimensions:\n",
            "Data shape: torch.Size([32, 267, 100])\n",
            "Target shape: torch.Size([32])\n"
          ]
        }
      ],
      "source": [
        "def print_batch_dimensions(data_loader, loader_name):\n",
        "    for batch_idx, (data, target) in enumerate(data_loader):\n",
        "        print(f\"{loader_name} - Batch {batch_idx + 1} dimensions:\")\n",
        "        print(f\"Data shape: {data.shape}\")\n",
        "        print(f\"Target shape: {target.shape}\")\n",
        "        break  # Remove this break to check all batches\n",
        "\n",
        "print_batch_dimensions(train_loader, \"Training\")"
      ]
    },
    {
      "cell_type": "markdown",
      "source": [
        "### Find best lr"
      ],
      "metadata": {
        "id": "RhhmkqAl2EvH"
      }
    },
    {
      "cell_type": "code",
      "source": [
        "def find_optimal_lr(model, train_loader, start_lr=1e-7, end_lr=1.0, num_iter=100, steps_per_lr=3):\n",
        "    model.train()\n",
        "\n",
        "    criterion = nn.BCEWithLogitsLoss()\n",
        "    optimizer = optim.Adam(model.parameters(), lr=start_lr)\n",
        "    scheduler = torch.optim.lr_scheduler.ExponentialLR(optimizer, gamma=(end_lr/start_lr)**(1/num_iter))\n",
        "\n",
        "    lrs = []\n",
        "    losses = []\n",
        "\n",
        "    data_iter = iter(train_loader)\n",
        "    for i in range(num_iter):\n",
        "        total_loss = 0.0\n",
        "        for _ in range(steps_per_lr):\n",
        "            try:\n",
        "                inputs, targets = next(data_iter)\n",
        "            except StopIteration:\n",
        "                data_iter = iter(train_loader)\n",
        "                inputs, targets = next(data_iter)\n",
        "\n",
        "            inputs, targets = inputs.to(next(model.parameters()).device), targets.to(next(model.parameters()).device).float()\n",
        "\n",
        "            optimizer.zero_grad()\n",
        "            outputs = model(inputs).squeeze()  # Ensure the output shape matches the target shape\n",
        "            loss = criterion(outputs, targets)\n",
        "            loss.backward()\n",
        "            optimizer.step()\n",
        "\n",
        "            total_loss += loss.item()\n",
        "\n",
        "        scheduler.step()\n",
        "\n",
        "        avg_loss = total_loss / steps_per_lr\n",
        "        current_lr = optimizer.param_groups[0]['lr']\n",
        "\n",
        "        lrs.append(current_lr)\n",
        "        losses.append(avg_loss)\n",
        "\n",
        "        print(f\"Iteration [{i + 1}/{num_iter}], Loss: {avg_loss:.4f}, LR: {current_lr:.6f}\")\n",
        "\n",
        "    # Plotting the learning rate vs. loss\n",
        "    plt.figure(figsize=(10, 6))\n",
        "    plt.plot(lrs, losses)\n",
        "    plt.xscale('log')\n",
        "    plt.xlabel('Learning Rate')\n",
        "    plt.ylabel('Loss')\n",
        "    plt.title('Learning Rate Range Test')\n",
        "    plt.show()\n",
        "\n",
        "    # Find the best learning rates\n",
        "    lr_loss_pairs = sorted(zip(losses, lrs))\n",
        "    best_lrs = [lr for loss, lr in lr_loss_pairs[:5]]  # Get the 5 learning rates with the lowest losses\n",
        "\n",
        "    return lrs, losses, best_lrs"
      ],
      "metadata": {
        "id": "MczSb0rD2Ggz"
      },
      "execution_count": 96,
      "outputs": []
    },
    {
      "cell_type": "code",
      "source": [
        "device = torch.device(\"cuda\" if torch.cuda.is_available() else \"cpu\")\n",
        "model = model.to(device)\n",
        "\n",
        "lrs, losses, best_lr = find_optimal_lr(model, train_loader)\n",
        "\n",
        "print(f\"The best learning rate is: {best_lr}\")"
      ],
      "metadata": {
        "colab": {
          "base_uri": "https://localhost:8080/",
          "height": 1000
        },
        "id": "Wn8Z2pqk2hyi",
        "outputId": "140fe08d-f59e-4443-a5d6-a925478abe03"
      },
      "execution_count": 97,
      "outputs": [
        {
          "output_type": "stream",
          "name": "stdout",
          "text": [
            "Iteration [1/100], Loss: 0.6902, LR: 0.000000\n",
            "Iteration [2/100], Loss: 0.6869, LR: 0.000000\n",
            "Iteration [3/100], Loss: 0.6891, LR: 0.000000\n",
            "Iteration [4/100], Loss: 0.6952, LR: 0.000000\n",
            "Iteration [5/100], Loss: 0.6965, LR: 0.000000\n",
            "Iteration [6/100], Loss: 0.6904, LR: 0.000000\n",
            "Iteration [7/100], Loss: 0.6920, LR: 0.000000\n",
            "Iteration [8/100], Loss: 0.6919, LR: 0.000000\n",
            "Iteration [9/100], Loss: 0.6958, LR: 0.000000\n",
            "Iteration [10/100], Loss: 0.6942, LR: 0.000001\n",
            "Iteration [11/100], Loss: 0.6931, LR: 0.000001\n",
            "Iteration [12/100], Loss: 0.6943, LR: 0.000001\n",
            "Iteration [13/100], Loss: 0.6967, LR: 0.000001\n",
            "Iteration [14/100], Loss: 0.6958, LR: 0.000001\n",
            "Iteration [15/100], Loss: 0.6957, LR: 0.000001\n",
            "Iteration [16/100], Loss: 0.6887, LR: 0.000001\n",
            "Iteration [17/100], Loss: 0.6903, LR: 0.000002\n",
            "Iteration [18/100], Loss: 0.6962, LR: 0.000002\n",
            "Iteration [19/100], Loss: 0.6928, LR: 0.000002\n",
            "Iteration [20/100], Loss: 0.6939, LR: 0.000003\n",
            "Iteration [21/100], Loss: 0.6899, LR: 0.000003\n",
            "Iteration [22/100], Loss: 0.6951, LR: 0.000003\n",
            "Iteration [23/100], Loss: 0.6948, LR: 0.000004\n",
            "Iteration [24/100], Loss: 0.6963, LR: 0.000005\n",
            "Iteration [25/100], Loss: 0.6914, LR: 0.000006\n",
            "Iteration [26/100], Loss: 0.6950, LR: 0.000007\n",
            "Iteration [27/100], Loss: 0.6952, LR: 0.000008\n",
            "Iteration [28/100], Loss: 0.6928, LR: 0.000009\n",
            "Iteration [29/100], Loss: 0.6927, LR: 0.000011\n",
            "Iteration [30/100], Loss: 0.6937, LR: 0.000013\n",
            "Iteration [31/100], Loss: 0.6913, LR: 0.000015\n",
            "Iteration [32/100], Loss: 0.6958, LR: 0.000017\n",
            "Iteration [33/100], Loss: 0.6946, LR: 0.000020\n",
            "Iteration [34/100], Loss: 0.6925, LR: 0.000024\n",
            "Iteration [35/100], Loss: 0.6964, LR: 0.000028\n",
            "Iteration [36/100], Loss: 0.6983, LR: 0.000033\n",
            "Iteration [37/100], Loss: 0.6922, LR: 0.000039\n",
            "Iteration [38/100], Loss: 0.6950, LR: 0.000046\n",
            "Iteration [39/100], Loss: 0.6926, LR: 0.000054\n",
            "Iteration [40/100], Loss: 0.6929, LR: 0.000063\n",
            "Iteration [41/100], Loss: 0.6908, LR: 0.000074\n",
            "Iteration [42/100], Loss: 0.6917, LR: 0.000087\n",
            "Iteration [43/100], Loss: 0.6892, LR: 0.000102\n",
            "Iteration [44/100], Loss: 0.6906, LR: 0.000120\n",
            "Iteration [45/100], Loss: 0.6894, LR: 0.000141\n",
            "Iteration [46/100], Loss: 0.6883, LR: 0.000166\n",
            "Iteration [47/100], Loss: 0.6856, LR: 0.000195\n",
            "Iteration [48/100], Loss: 0.6825, LR: 0.000229\n",
            "Iteration [49/100], Loss: 0.6770, LR: 0.000269\n",
            "Iteration [50/100], Loss: 0.6644, LR: 0.000316\n",
            "Iteration [51/100], Loss: 0.6834, LR: 0.000372\n",
            "Iteration [52/100], Loss: 0.6636, LR: 0.000437\n",
            "Iteration [53/100], Loss: 0.6899, LR: 0.000513\n",
            "Iteration [54/100], Loss: 0.6942, LR: 0.000603\n",
            "Iteration [55/100], Loss: 0.6531, LR: 0.000708\n",
            "Iteration [56/100], Loss: 0.6603, LR: 0.000832\n",
            "Iteration [57/100], Loss: 0.6461, LR: 0.000977\n",
            "Iteration [58/100], Loss: 0.6056, LR: 0.001148\n",
            "Iteration [59/100], Loss: 0.6711, LR: 0.001349\n",
            "Iteration [60/100], Loss: 0.6095, LR: 0.001585\n",
            "Iteration [61/100], Loss: 0.5694, LR: 0.001862\n",
            "Iteration [62/100], Loss: 0.5894, LR: 0.002188\n",
            "Iteration [63/100], Loss: 0.6385, LR: 0.002570\n",
            "Iteration [64/100], Loss: 0.6004, LR: 0.003020\n",
            "Iteration [65/100], Loss: 0.6231, LR: 0.003548\n",
            "Iteration [66/100], Loss: 0.6286, LR: 0.004169\n",
            "Iteration [67/100], Loss: 0.6967, LR: 0.004898\n",
            "Iteration [68/100], Loss: 0.6517, LR: 0.005754\n",
            "Iteration [69/100], Loss: 0.6498, LR: 0.006761\n",
            "Iteration [70/100], Loss: 0.6101, LR: 0.007943\n",
            "Iteration [71/100], Loss: 0.6310, LR: 0.009333\n",
            "Iteration [72/100], Loss: 0.5142, LR: 0.010965\n",
            "Iteration [73/100], Loss: 0.7766, LR: 0.012882\n",
            "Iteration [74/100], Loss: 0.6249, LR: 0.015136\n",
            "Iteration [75/100], Loss: 0.5861, LR: 0.017783\n",
            "Iteration [76/100], Loss: 0.5755, LR: 0.020893\n",
            "Iteration [77/100], Loss: 0.6915, LR: 0.024547\n",
            "Iteration [78/100], Loss: 1.2491, LR: 0.028840\n",
            "Iteration [79/100], Loss: 0.6759, LR: 0.033884\n",
            "Iteration [80/100], Loss: 0.7934, LR: 0.039811\n",
            "Iteration [81/100], Loss: 0.7167, LR: 0.046774\n",
            "Iteration [82/100], Loss: 0.6511, LR: 0.054954\n",
            "Iteration [83/100], Loss: 1.4289, LR: 0.064565\n",
            "Iteration [84/100], Loss: 0.9804, LR: 0.075858\n",
            "Iteration [85/100], Loss: 0.8199, LR: 0.089125\n",
            "Iteration [86/100], Loss: 1.1033, LR: 0.104713\n",
            "Iteration [87/100], Loss: 1.6017, LR: 0.123027\n",
            "Iteration [88/100], Loss: 2.6572, LR: 0.144544\n",
            "Iteration [89/100], Loss: 0.7087, LR: 0.169824\n",
            "Iteration [90/100], Loss: 1.7289, LR: 0.199526\n",
            "Iteration [91/100], Loss: 1.0889, LR: 0.234423\n",
            "Iteration [92/100], Loss: 0.8078, LR: 0.275423\n",
            "Iteration [93/100], Loss: 1.1065, LR: 0.323594\n",
            "Iteration [94/100], Loss: 2.3495, LR: 0.380189\n",
            "Iteration [95/100], Loss: 1.5439, LR: 0.446684\n",
            "Iteration [96/100], Loss: 2.2372, LR: 0.524807\n",
            "Iteration [97/100], Loss: 1.3726, LR: 0.616595\n",
            "Iteration [98/100], Loss: 1.7550, LR: 0.724436\n",
            "Iteration [99/100], Loss: 4.4650, LR: 0.851138\n",
            "Iteration [100/100], Loss: 6.7095, LR: 1.000000\n"
          ]
        },
        {
          "output_type": "display_data",
          "data": {
            "text/plain": [
              "<Figure size 1000x600 with 1 Axes>"
            ],
            "image/png": "[encoded data removed]"
          },
          "metadata": {}
        },
        {
          "output_type": "stream",
          "name": "stdout",
          "text": [
            "The best learning rate is: [0.010964781961431832, 0.0018620871366628643, 0.020892961308540358, 0.017782794100389198, 0.002187761623949549]\n"
          ]
        }
      ]
    },
    {
      "cell_type": "code",
      "source": [
        "print(best_lr)"
      ],
      "metadata": {
        "colab": {
          "base_uri": "https://localhost:8080/"
        },
        "id": "twg4kRvg3j1n",
        "outputId": "8adcf69b-7d41-4fc8-aaf3-c494120202e9"
      },
      "execution_count": 98,
      "outputs": [
        {
          "output_type": "stream",
          "name": "stdout",
          "text": [
            "[0.010964781961431832, 0.0018620871366628643, 0.020892961308540358, 0.017782794100389198, 0.002187761623949549]\n"
          ]
        }
      ]
    },
    {
      "cell_type": "code",
      "source": [
        "# best lr 0.002187761623949549\n",
        "learning_rate = best_lr[4]"
      ],
      "metadata": {
        "id": "o6sH4fLR5II0"
      },
      "execution_count": 110,
      "outputs": []
    },
    {
      "cell_type": "markdown",
      "metadata": {
        "id": "Sa9z17G2iaYw"
      },
      "source": [
        "## Train"
      ]
    },
    {
      "cell_type": "code",
      "execution_count": null,
      "metadata": {
        "id": "paABt6zViaYx"
      },
      "outputs": [],
      "source": [
        "train_model(model, train_loader, val_loader, num_epochs, learning_rate, grad_clip_value)"
      ]
    },
    {
      "cell_type": "markdown",
      "metadata": {
        "id": "qMWTuWu1iaYx"
      },
      "source": [
        "# Test the model"
      ]
    },
    {
      "cell_type": "code",
      "source": [
        "def test_model(model, test_loader):\n",
        "    model.eval()  # Set the model to evaluation mode\n",
        "    all_preds = []\n",
        "    all_targets = []\n",
        "\n",
        "    with torch.no_grad():  # Turn off gradients for evaluation\n",
        "        for inputs, targets in test_loader:\n",
        "            inputs, targets = inputs.to(next(model.parameters()).device), targets.to(next(model.parameters()).device).float()\n",
        "            outputs = model(inputs)\n",
        "            preds = torch.round(torch.sigmoid(outputs))  # Apply sigmoid and round to get binary predictions\n",
        "            all_preds.append(preds.cpu())\n",
        "            all_targets.append(targets.cpu())\n",
        "\n",
        "    # Concatenate all predictions and targets\n",
        "    all_preds = torch.cat(all_preds)\n",
        "    all_targets = torch.cat(all_targets)\n",
        "\n",
        "    # Compute confusion matrix\n",
        "    cm = confusion_matrix(all_targets.numpy(), all_preds.numpy())\n",
        "    print(\"Confusion Matrix:\")\n",
        "    print(cm)\n",
        "\n",
        "    # Compute classification report\n",
        "    report = classification_report(all_targets.numpy(), all_preds.numpy(), target_names=['Class 0', 'Class 1'])\n",
        "    print(\"\\nClassification Report:\")\n",
        "    print(report)\n",
        "\n",
        "    # Plot confusion matrix\n",
        "    plt.figure(figsize=(8, 6))\n",
        "    sns.heatmap(cm, annot=True, fmt='d', cmap='Blues', xticklabels=['Class 0', 'Class 1'], yticklabels=['Class 0', 'Class 1'])\n",
        "    plt.xlabel('Predicted')\n",
        "    plt.ylabel('Actual')\n",
        "    plt.title('Confusion Matrix')\n",
        "    plt.show()\n",
        "\n"
      ],
      "metadata": {
        "id": "rj0A7nqDCQa0"
      },
      "execution_count": 104,
      "outputs": []
    },
    {
      "cell_type": "code",
      "source": [
        "# Example usage\n",
        "test_model(model, test_loader)"
      ],
      "metadata": {
        "colab": {
          "base_uri": "https://localhost:8080/",
          "height": 802
        },
        "id": "TVC9aHVJCSGu",
        "outputId": "6f627e70-dc00-4a07-a790-77cdc5587554"
      },
      "execution_count": 105,
      "outputs": [
        {
          "output_type": "stream",
          "name": "stdout",
          "text": [
            "Confusion Matrix:\n",
            "[[3969 1017]\n",
            " [ 652 4362]]\n",
            "\n",
            "Classification Report:\n",
            "              precision    recall  f1-score   support\n",
            "\n",
            "     Class 0       0.86      0.80      0.83      4986\n",
            "     Class 1       0.81      0.87      0.84      5014\n",
            "\n",
            "    accuracy                           0.83     10000\n",
            "   macro avg       0.83      0.83      0.83     10000\n",
            "weighted avg       0.83      0.83      0.83     10000\n",
            "\n"
          ]
        },
        {
          "output_type": "display_data",
          "data": {
            "text/plain": [
              "<Figure size 800x600 with 2 Axes>"
            ],
            "image/png": "[encoded data removed]"
          },
          "metadata": {}
        }
      ]
    },
    {
      "cell_type": "markdown",
      "source": [
        "# Save model"
      ],
      "metadata": {
        "id": "E6sYuxqWx2pN"
      }
    },
    {
      "cell_type": "code",
      "source": [
        "def save_model_architecture(model, filepath):\n",
        "    model_architecture = {\n",
        "        'class_name': model.__class__.__name__,\n",
        "        'input_dim': model.input_dim,\n",
        "        'hidden_dim': model.hidden_dim,\n",
        "        'output_dim': model.output_dim,\n",
        "        'bidirectional': model.bidirectional,\n",
        "        'num_layers': model.num_layers,\n",
        "        'dropout': model.dropout\n",
        "    }\n",
        "    torch.save(model_architecture, filepath)\n",
        "    print(f\"Model architecture saved to {filepath}\")\n",
        "\n",
        "def save_model_weights(model, filepath):\n",
        "    torch.save(model.state_dict(), filepath)\n",
        "    print(f\"Model weights saved to {filepath}\")\n"
      ],
      "metadata": {
        "id": "xmeI7NJgx4BO"
      },
      "execution_count": 107,
      "outputs": []
    },
    {
      "cell_type": "code",
      "source": [
        "architecture_path = 'model_architecture.pth'\n",
        "save_model_architecture(model, architecture_path)\n",
        "\n",
        "weights_path = 'model_weights.pth'\n",
        "save_model_weights(model, weights_path)"
      ],
      "metadata": {
        "id": "E0_Tx5F4-VtO",
        "outputId": "cd2dc6cb-bb24-4ad4-b9e5-aa4ee693ad3e",
        "colab": {
          "base_uri": "https://localhost:8080/"
        }
      },
      "execution_count": 108,
      "outputs": [
        {
          "output_type": "stream",
          "name": "stdout",
          "text": [
            "Model architecture saved to model_architecture.pth\n",
            "Model weights saved to model_weights.pth\n"
          ]
        }
      ]
    }
  ],
  "metadata": {
    "kernelspec": {
      "display_name": "Python 3",
      "name": "python3"
    },
    "language_info": {
      "codemirror_mode": {
        "name": "ipython",
        "version": 3
      },
      "file_extension": ".py",
      "mimetype": "text/x-python",
      "name": "python",
      "nbconvert_exporter": "python",
      "pygments_lexer": "ipython3",
      "version": "3.10.13"
    },
    "colab": {
      "provenance": [],
      "machine_shape": "hm",
      "gpuType": "L4"
    },
    "accelerator": "GPU"
  },
  "nbformat": 4,
  "nbformat_minor": 0
}