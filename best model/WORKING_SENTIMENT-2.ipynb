{
  "cells": [
    {
      "cell_type": "code",
      "execution_count": 1,
      "metadata": {
        "id": "qH2D5zpUXTZr"
      },
      "outputs": [],
      "source": [
        "import copy\n",
        "import pandas as pd\n",
        "import numpy as np\n",
        "import string\n",
        "import torch\n",
        "import nltk\n",
        "from nltk.corpus import stopwords\n",
        "from nltk.tokenize import word_tokenize\n",
        "from torch.nn.utils.rnn import pad_sequence\n",
        "from torch.utils.data import Dataset, DataLoader, random_split, TensorDataset\n",
        "\n",
        "import nltk\n",
        "from nltk.tokenize import word_tokenize\n",
        "\n",
        "import torch.nn as nn\n",
        "import torch.optim as optim\n",
        "\n",
        "from sklearn.model_selection import train_test_split\n",
        "from sklearn.metrics import confusion_matrix, classification_report\n",
        "import seaborn as sns\n",
        "import matplotlib.pyplot as plt"
      ]
    },
    {
      "cell_type": "markdown",
      "metadata": {
        "id": "m_uLz5tBXTZw"
      },
      "source": [
        "# Load Dataset"
      ]
    },
    {
      "cell_type": "code",
      "execution_count": 2,
      "metadata": {
        "colab": {
          "base_uri": "https://localhost:8080/",
          "height": 204
        },
        "id": "J5PWXuy1XTZz",
        "outputId": "cb32afbe-3351-4fea-e23f-ec780d4df747"
      },
      "outputs": [
        {
          "output_type": "execute_result",
          "data": {
            "text/plain": [
              "   sentiment                                               text\n",
              "0          0  @switchfoot http://twitpic.com/2y1zl - Awww, t...\n",
              "1          0  is upset that he can't update his Facebook by ...\n",
              "2          0  @Kenichan I dived many times for the ball. Man...\n",
              "3          0    my whole body feels itchy and like its on fire \n",
              "4          0  @nationwideclass no, it's not behaving at all...."
            ],
            "text/html": [
              "\n",
              "  <div id=\"df-2166a7cf-cf56-4c4b-bddc-d5cf3a4fed7a\" class=\"colab-df-container\">\n",
              "    <div>\n",
              "<style scoped>\n",
              "    .dataframe tbody tr th:only-of-type {\n",
              "        vertical-align: middle;\n",
              "    }\n",
              "\n",
              "    .dataframe tbody tr th {\n",
              "        vertical-align: top;\n",
              "    }\n",
              "\n",
              "    .dataframe thead th {\n",
              "        text-align: right;\n",
              "    }\n",
              "</style>\n",
              "<table border=\"1\" class=\"dataframe\">\n",
              "  <thead>\n",
              "    <tr style=\"text-align: right;\">\n",
              "      <th></th>\n",
              "      <th>sentiment</th>\n",
              "      <th>text</th>\n",
              "    </tr>\n",
              "  </thead>\n",
              "  <tbody>\n",
              "    <tr>\n",
              "      <th>0</th>\n",
              "      <td>0</td>\n",
              "      <td>@switchfoot http://twitpic.com/2y1zl - Awww, t...</td>\n",
              "    </tr>\n",
              "    <tr>\n",
              "      <th>1</th>\n",
              "      <td>0</td>\n",
              "      <td>is upset that he can't update his Facebook by ...</td>\n",
              "    </tr>\n",
              "    <tr>\n",
              "      <th>2</th>\n",
              "      <td>0</td>\n",
              "      <td>@Kenichan I dived many times for the ball. Man...</td>\n",
              "    </tr>\n",
              "    <tr>\n",
              "      <th>3</th>\n",
              "      <td>0</td>\n",
              "      <td>my whole body feels itchy and like its on fire</td>\n",
              "    </tr>\n",
              "    <tr>\n",
              "      <th>4</th>\n",
              "      <td>0</td>\n",
              "      <td>@nationwideclass no, it's not behaving at all....</td>\n",
              "    </tr>\n",
              "  </tbody>\n",
              "</table>\n",
              "</div>\n",
              "    <div class=\"colab-df-buttons\">\n",
              "\n",
              "  <div class=\"colab-df-container\">\n",
              "    <button class=\"colab-df-convert\" onclick=\"convertToInteractive('df-2166a7cf-cf56-4c4b-bddc-d5cf3a4fed7a')\"\n",
              "            title=\"Convert this dataframe to an interactive table.\"\n",
              "            style=\"display:none;\">\n",
              "\n",
              "  <svg xmlns=\"http://www.w3.org/2000/svg\" height=\"24px\" viewBox=\"0 -960 960 960\">\n",
              "    <path d=\"M120-120v-720h720v720H120Zm60-500h600v-160H180v160Zm220 220h160v-160H400v160Zm0 220h160v-160H400v160ZM180-400h160v-160H180v160Zm440 0h160v-160H620v160ZM180-180h160v-160H180v160Zm440 0h160v-160H620v160Z\"/>\n",
              "  </svg>\n",
              "    </button>\n",
              "\n",
              "  <style>\n",
              "    .colab-df-container {\n",
              "      display:flex;\n",
              "      gap: 12px;\n",
              "    }\n",
              "\n",
              "    .colab-df-convert {\n",
              "      background-color: #E8F0FE;\n",
              "      border: none;\n",
              "      border-radius: 50%;\n",
              "      cursor: pointer;\n",
              "      display: none;\n",
              "      fill: #1967D2;\n",
              "      height: 32px;\n",
              "      padding: 0 0 0 0;\n",
              "      width: 32px;\n",
              "    }\n",
              "\n",
              "    .colab-df-convert:hover {\n",
              "      background-color: #E2EBFA;\n",
              "      box-shadow: 0px 1px 2px rgba(60, 64, 67, 0.3), 0px 1px 3px 1px rgba(60, 64, 67, 0.15);\n",
              "      fill: #174EA6;\n",
              "    }\n",
              "\n",
              "    .colab-df-buttons div {\n",
              "      margin-bottom: 4px;\n",
              "    }\n",
              "\n",
              "    [theme=dark] .colab-df-convert {\n",
              "      background-color: #3B4455;\n",
              "      fill: #D2E3FC;\n",
              "    }\n",
              "\n",
              "    [theme=dark] .colab-df-convert:hover {\n",
              "      background-color: #434B5C;\n",
              "      box-shadow: 0px 1px 3px 1px rgba(0, 0, 0, 0.15);\n",
              "      filter: drop-shadow(0px 1px 2px rgba(0, 0, 0, 0.3));\n",
              "      fill: #FFFFFF;\n",
              "    }\n",
              "  </style>\n",
              "\n",
              "    <script>\n",
              "      const buttonEl =\n",
              "        document.querySelector('#df-2166a7cf-cf56-4c4b-bddc-d5cf3a4fed7a button.colab-df-convert');\n",
              "      buttonEl.style.display =\n",
              "        google.colab.kernel.accessAllowed ? 'block' : 'none';\n",
              "\n",
              "      async function convertToInteractive(key) {\n",
              "        const element = document.querySelector('#df-2166a7cf-cf56-4c4b-bddc-d5cf3a4fed7a');\n",
              "        const dataTable =\n",
              "          await google.colab.kernel.invokeFunction('convertToInteractive',\n",
              "                                                    [key], {});\n",
              "        if (!dataTable) return;\n",
              "\n",
              "        const docLinkHtml = 'Like what you see? Visit the ' +\n",
              "          '<a target=\"_blank\" href=https://colab.research.google.com/notebooks/data_table.ipynb>data table notebook</a>'\n",
              "          + ' to learn more about interactive tables.';\n",
              "        element.innerHTML = '';\n",
              "        dataTable['output_type'] = 'display_data';\n",
              "        await google.colab.output.renderOutput(dataTable, element);\n",
              "        const docLink = document.createElement('div');\n",
              "        docLink.innerHTML = docLinkHtml;\n",
              "        element.appendChild(docLink);\n",
              "      }\n",
              "    </script>\n",
              "  </div>\n",
              "\n",
              "\n",
              "<div id=\"df-408ce484-747e-455c-b775-e0a703d8c1ee\">\n",
              "  <button class=\"colab-df-quickchart\" onclick=\"quickchart('df-408ce484-747e-455c-b775-e0a703d8c1ee')\"\n",
              "            title=\"Suggest charts\"\n",
              "            style=\"display:none;\">\n",
              "\n",
              "<svg xmlns=\"http://www.w3.org/2000/svg\" height=\"24px\"viewBox=\"0 0 24 24\"\n",
              "     width=\"24px\">\n",
              "    <g>\n",
              "        <path d=\"M19 3H5c-1.1 0-2 .9-2 2v14c0 1.1.9 2 2 2h14c1.1 0 2-.9 2-2V5c0-1.1-.9-2-2-2zM9 17H7v-7h2v7zm4 0h-2V7h2v10zm4 0h-2v-4h2v4z\"/>\n",
              "    </g>\n",
              "</svg>\n",
              "  </button>\n",
              "\n",
              "<style>\n",
              "  .colab-df-quickchart {\n",
              "      --bg-color: #E8F0FE;\n",
              "      --fill-color: #1967D2;\n",
              "      --hover-bg-color: #E2EBFA;\n",
              "      --hover-fill-color: #174EA6;\n",
              "      --disabled-fill-color: #AAA;\n",
              "      --disabled-bg-color: #DDD;\n",
              "  }\n",
              "\n",
              "  [theme=dark] .colab-df-quickchart {\n",
              "      --bg-color: #3B4455;\n",
              "      --fill-color: #D2E3FC;\n",
              "      --hover-bg-color: #434B5C;\n",
              "      --hover-fill-color: #FFFFFF;\n",
              "      --disabled-bg-color: #3B4455;\n",
              "      --disabled-fill-color: #666;\n",
              "  }\n",
              "\n",
              "  .colab-df-quickchart {\n",
              "    background-color: var(--bg-color);\n",
              "    border: none;\n",
              "    border-radius: 50%;\n",
              "    cursor: pointer;\n",
              "    display: none;\n",
              "    fill: var(--fill-color);\n",
              "    height: 32px;\n",
              "    padding: 0;\n",
              "    width: 32px;\n",
              "  }\n",
              "\n",
              "  .colab-df-quickchart:hover {\n",
              "    background-color: var(--hover-bg-color);\n",
              "    box-shadow: 0 1px 2px rgba(60, 64, 67, 0.3), 0 1px 3px 1px rgba(60, 64, 67, 0.15);\n",
              "    fill: var(--button-hover-fill-color);\n",
              "  }\n",
              "\n",
              "  .colab-df-quickchart-complete:disabled,\n",
              "  .colab-df-quickchart-complete:disabled:hover {\n",
              "    background-color: var(--disabled-bg-color);\n",
              "    fill: var(--disabled-fill-color);\n",
              "    box-shadow: none;\n",
              "  }\n",
              "\n",
              "  .colab-df-spinner {\n",
              "    border: 2px solid var(--fill-color);\n",
              "    border-color: transparent;\n",
              "    border-bottom-color: var(--fill-color);\n",
              "    animation:\n",
              "      spin 1s steps(1) infinite;\n",
              "  }\n",
              "\n",
              "  @keyframes spin {\n",
              "    0% {\n",
              "      border-color: transparent;\n",
              "      border-bottom-color: var(--fill-color);\n",
              "      border-left-color: var(--fill-color);\n",
              "    }\n",
              "    20% {\n",
              "      border-color: transparent;\n",
              "      border-left-color: var(--fill-color);\n",
              "      border-top-color: var(--fill-color);\n",
              "    }\n",
              "    30% {\n",
              "      border-color: transparent;\n",
              "      border-left-color: var(--fill-color);\n",
              "      border-top-color: var(--fill-color);\n",
              "      border-right-color: var(--fill-color);\n",
              "    }\n",
              "    40% {\n",
              "      border-color: transparent;\n",
              "      border-right-color: var(--fill-color);\n",
              "      border-top-color: var(--fill-color);\n",
              "    }\n",
              "    60% {\n",
              "      border-color: transparent;\n",
              "      border-right-color: var(--fill-color);\n",
              "    }\n",
              "    80% {\n",
              "      border-color: transparent;\n",
              "      border-right-color: var(--fill-color);\n",
              "      border-bottom-color: var(--fill-color);\n",
              "    }\n",
              "    90% {\n",
              "      border-color: transparent;\n",
              "      border-bottom-color: var(--fill-color);\n",
              "    }\n",
              "  }\n",
              "</style>\n",
              "\n",
              "  <script>\n",
              "    async function quickchart(key) {\n",
              "      const quickchartButtonEl =\n",
              "        document.querySelector('#' + key + ' button');\n",
              "      quickchartButtonEl.disabled = true;  // To prevent multiple clicks.\n",
              "      quickchartButtonEl.classList.add('colab-df-spinner');\n",
              "      try {\n",
              "        const charts = await google.colab.kernel.invokeFunction(\n",
              "            'suggestCharts', [key], {});\n",
              "      } catch (error) {\n",
              "        console.error('Error during call to suggestCharts:', error);\n",
              "      }\n",
              "      quickchartButtonEl.classList.remove('colab-df-spinner');\n",
              "      quickchartButtonEl.classList.add('colab-df-quickchart-complete');\n",
              "    }\n",
              "    (() => {\n",
              "      let quickchartButtonEl =\n",
              "        document.querySelector('#df-408ce484-747e-455c-b775-e0a703d8c1ee button');\n",
              "      quickchartButtonEl.style.display =\n",
              "        google.colab.kernel.accessAllowed ? 'block' : 'none';\n",
              "    })();\n",
              "  </script>\n",
              "</div>\n",
              "\n",
              "    </div>\n",
              "  </div>\n"
            ],
            "application/vnd.google.colaboratory.intrinsic+json": {
              "type": "dataframe",
              "variable_name": "df"
            }
          },
          "metadata": {},
          "execution_count": 2
        }
      ],
      "source": [
        "path = '/content/balanced_sentiment 400.0k.csv'\n",
        "df = pd.read_csv(path)\n",
        "\n",
        "df.head(5)"
      ]
    },
    {
      "cell_type": "code",
      "execution_count": 3,
      "metadata": {
        "colab": {
          "base_uri": "https://localhost:8080/",
          "height": 145
        },
        "id": "YWNYHrOIXTZ2",
        "outputId": "10cf4f72-2f3f-443f-8729-5c039e9a2833"
      },
      "outputs": [
        {
          "output_type": "execute_result",
          "data": {
            "text/plain": [
              "sentiment    0\n",
              "text         0\n",
              "dtype: int64"
            ],
            "text/html": [
              "<table border=\"1\" class=\"dataframe\">\n",
              "  <thead>\n",
              "    <tr style=\"text-align: right;\">\n",
              "      <th></th>\n",
              "      <th>0</th>\n",
              "    </tr>\n",
              "  </thead>\n",
              "  <tbody>\n",
              "    <tr>\n",
              "      <th>sentiment</th>\n",
              "      <td>0</td>\n",
              "    </tr>\n",
              "    <tr>\n",
              "      <th>text</th>\n",
              "      <td>0</td>\n",
              "    </tr>\n",
              "  </tbody>\n",
              "</table><br><label><b>dtype:</b> int64</label>"
            ]
          },
          "metadata": {},
          "execution_count": 3
        }
      ],
      "source": [
        "df.isna().sum()"
      ]
    },
    {
      "cell_type": "code",
      "execution_count": 4,
      "metadata": {
        "colab": {
          "base_uri": "https://localhost:8080/",
          "height": 176
        },
        "id": "zM9uEXsdXTZ4",
        "outputId": "aa634c09-df66-48f4-b8c9-2be9cab3564f"
      },
      "outputs": [
        {
          "output_type": "execute_result",
          "data": {
            "text/plain": [
              "sentiment\n",
              "0    200000\n",
              "1    200000\n",
              "Name: count, dtype: int64"
            ],
            "text/html": [
              "<table border=\"1\" class=\"dataframe\">\n",
              "  <thead>\n",
              "    <tr style=\"text-align: right;\">\n",
              "      <th></th>\n",
              "      <th>count</th>\n",
              "    </tr>\n",
              "    <tr>\n",
              "      <th>sentiment</th>\n",
              "      <th></th>\n",
              "    </tr>\n",
              "  </thead>\n",
              "  <tbody>\n",
              "    <tr>\n",
              "      <th>0</th>\n",
              "      <td>200000</td>\n",
              "    </tr>\n",
              "    <tr>\n",
              "      <th>1</th>\n",
              "      <td>200000</td>\n",
              "    </tr>\n",
              "  </tbody>\n",
              "</table><br><label><b>dtype:</b> int64</label>"
            ]
          },
          "metadata": {},
          "execution_count": 4
        }
      ],
      "source": [
        "df['sentiment'].value_counts()"
      ]
    },
    {
      "cell_type": "markdown",
      "metadata": {
        "id": "H7dtne59XTZ5"
      },
      "source": [
        "# Lowercase"
      ]
    },
    {
      "cell_type": "code",
      "execution_count": 5,
      "metadata": {
        "colab": {
          "base_uri": "https://localhost:8080/"
        },
        "id": "FLXuc7S6XTZ7",
        "outputId": "22b10df0-1a20-4bd6-a9c1-e0e080f7da08"
      },
      "outputs": [
        {
          "output_type": "stream",
          "name": "stdout",
          "text": [
            "   sentiment                                               text\n",
            "0          0  @switchfoot http://twitpic.com/2y1zl - awww, t...\n",
            "1          0  is upset that he can't update his facebook by ...\n",
            "2          0  @kenichan i dived many times for the ball. man...\n",
            "3          0    my whole body feels itchy and like its on fire \n",
            "4          0  @nationwideclass no, it's not behaving at all....\n"
          ]
        }
      ],
      "source": [
        "def lowercase(df):\n",
        "    df['text'] = df['text'].str.lower()\n",
        "    return df\n",
        "\n",
        "# Assuming df is already defined and loaded with data\n",
        "df = lowercase(df)\n",
        "print(df.head(5))\n"
      ]
    },
    {
      "cell_type": "markdown",
      "metadata": {
        "id": "Kzcuq6MNXTZ8"
      },
      "source": [
        "# Punctuation"
      ]
    },
    {
      "cell_type": "code",
      "execution_count": 6,
      "metadata": {
        "colab": {
          "base_uri": "https://localhost:8080/"
        },
        "id": "xFMjxe8-XTZ9",
        "outputId": "ffe27eda-f1f9-41ca-f198-e91226cb4b53"
      },
      "outputs": [
        {
          "output_type": "stream",
          "name": "stdout",
          "text": [
            "   sentiment                                               text\n",
            "0          0  switchfoot httptwitpiccom2y1zl  awww thats a b...\n",
            "1          0  is upset that he cant update his facebook by t...\n",
            "2          0  kenichan i dived many times for the ball manag...\n",
            "3          0    my whole body feels itchy and like its on fire \n",
            "4          0  nationwideclass no its not behaving at all im ...\n"
          ]
        }
      ],
      "source": [
        "def punctuation(df):\n",
        "    # Define a translation table that maps each punctuation character to None\n",
        "    translator = str.maketrans('', '', string.punctuation)\n",
        "\n",
        "    df['text'] = df['text'].apply(lambda x: x.translate(translator))\n",
        "\n",
        "    return df\n",
        "\n",
        "df = punctuation(df)\n",
        "print(df.head(5))"
      ]
    },
    {
      "cell_type": "markdown",
      "metadata": {
        "id": "ey6FJSXUXTZ_"
      },
      "source": [
        "# Remove stopwords"
      ]
    },
    {
      "cell_type": "code",
      "execution_count": 7,
      "metadata": {
        "colab": {
          "base_uri": "https://localhost:8080/"
        },
        "id": "aLOikJwlXTaA",
        "outputId": "66f0d67b-18c1-4171-8e4c-8fd3139b102e"
      },
      "outputs": [
        {
          "output_type": "stream",
          "name": "stdout",
          "text": [
            "me\n",
            "having\n",
            "above\n",
            "very\n",
            "mustn\n"
          ]
        }
      ],
      "source": [
        " def ensure_nltk_data():\n",
        "     try:\n",
        "         stop_words = set(stopwords.words('english'))\n",
        "     except LookupError:\n",
        "         nltk.download('stopwords')\n",
        "         stop_words = set(stopwords.words('english'))\n",
        "\n",
        "     try:\n",
        "         nltk.data.find('tokenizers/punkt')\n",
        "     except LookupError:\n",
        "         nltk.download('punkt')\n",
        "\n",
        " ensure_nltk_data()\n",
        " # load the set of stopwords\n",
        " stop_words = set(stopwords.words('english'))\n",
        "\n",
        " #check if we get stopwords\n",
        " a = 0\n",
        " for w in stop_words:\n",
        "     print(w)\n",
        "     a += 1\n",
        "     if a == 5:\n",
        "         break"
      ]
    },
    {
      "cell_type": "code",
      "execution_count": 8,
      "metadata": {
        "colab": {
          "base_uri": "https://localhost:8080/"
        },
        "id": "oTjtjwQxXTaC",
        "outputId": "eb7c6da7-a215-4ae8-bc31-65c8fac4a61b"
      },
      "outputs": [
        {
          "output_type": "stream",
          "name": "stdout",
          "text": [
            "   sentiment                                               text\n",
            "0          0  switchfoot httptwitpiccom2y1zl awww thats bumm...\n",
            "1          0  upset cant update facebook texting might cry r...\n",
            "2          0  kenichan dived many times ball managed save 50...\n",
            "3          0                   whole body feels itchy like fire\n",
            "4          0           nationwideclass behaving im mad cant see\n"
          ]
        }
      ],
      "source": [
        " def remove_stopwords(cell):\n",
        "     words = cell.split()\n",
        "     filtered_words = [w for w in words if w not in stop_words]\n",
        "     return ' '.join(filtered_words)\n",
        "\n",
        " df['text'] = df['text'].apply(remove_stopwords)\n",
        " print(df.head(5))"
      ]
    },
    {
      "cell_type": "code",
      "execution_count": 9,
      "metadata": {
        "colab": {
          "base_uri": "https://localhost:8080/",
          "height": 145
        },
        "id": "XTknruIMXTaD",
        "outputId": "c870e82e-0e3b-493e-ed65-1355f05241d1"
      },
      "outputs": [
        {
          "output_type": "execute_result",
          "data": {
            "text/plain": [
              "sentiment    0\n",
              "text         0\n",
              "dtype: int64"
            ],
            "text/html": [
              "<table border=\"1\" class=\"dataframe\">\n",
              "  <thead>\n",
              "    <tr style=\"text-align: right;\">\n",
              "      <th></th>\n",
              "      <th>0</th>\n",
              "    </tr>\n",
              "  </thead>\n",
              "  <tbody>\n",
              "    <tr>\n",
              "      <th>sentiment</th>\n",
              "      <td>0</td>\n",
              "    </tr>\n",
              "    <tr>\n",
              "      <th>text</th>\n",
              "      <td>0</td>\n",
              "    </tr>\n",
              "  </tbody>\n",
              "</table><br><label><b>dtype:</b> int64</label>"
            ]
          },
          "metadata": {},
          "execution_count": 9
        }
      ],
      "source": [
        "df.isna().sum()"
      ]
    },
    {
      "cell_type": "markdown",
      "metadata": {
        "id": "MQ1tyosoXTaF"
      },
      "source": [
        "# Tokenize"
      ]
    },
    {
      "cell_type": "code",
      "execution_count": 10,
      "metadata": {
        "colab": {
          "base_uri": "https://localhost:8080/"
        },
        "id": "bDNRl6cYXTaG",
        "outputId": "18a0d437-0a97-4c0b-c79a-b5e514060375"
      },
      "outputs": [
        {
          "output_type": "stream",
          "name": "stderr",
          "text": [
            "[nltk_data] Downloading package punkt to /root/nltk_data...\n",
            "[nltk_data]   Package punkt is already up-to-date!\n"
          ]
        },
        {
          "output_type": "stream",
          "name": "stdout",
          "text": [
            "   sentiment                                               text\n",
            "0          0  [switchfoot, httptwitpiccom2y1zl, awww, thats,...\n",
            "1          0  [upset, cant, update, facebook, texting, might...\n",
            "2          0  [kenichan, dived, many, times, ball, managed, ...\n",
            "3          0            [whole, body, feels, itchy, like, fire]\n",
            "4          0    [nationwideclass, behaving, im, mad, cant, see]\n"
          ]
        }
      ],
      "source": [
        "def tokenize(cell):\n",
        "    return word_tokenize(cell)\n",
        "\n",
        "nltk.download('punkt')\n",
        "\n",
        "df['text'] = df['text'].apply(tokenize)\n",
        "print(df.head(5))"
      ]
    },
    {
      "cell_type": "markdown",
      "metadata": {
        "id": "uXzyaMhwXTaI"
      },
      "source": [
        "# Embeddings"
      ]
    },
    {
      "cell_type": "code",
      "execution_count": 11,
      "metadata": {
        "colab": {
          "base_uri": "https://localhost:8080/",
          "height": 204
        },
        "id": "vZQpuDWZXTaK",
        "outputId": "d9f579ea-29ff-4c1f-c105-4014d4881768"
      },
      "outputs": [
        {
          "output_type": "execute_result",
          "data": {
            "text/plain": [
              "   sentiment                                               text\n",
              "0          0  [[-0.28265, -0.13972, 0.2381, 0.39285, -0.6081...\n",
              "1          0  [[-0.66226, -0.24602, -0.074331, 0.70106, 0.01...\n",
              "2          0  [[-0.45581, -1.1128, 1.0626, -0.65459, 0.42869...\n",
              "3          0  [[0.4355, -0.18377, -0.70186, -0.19652, 1.1405...\n",
              "4          0  [[0.25207, -1.6823, -0.57242, -1.0334, 0.67554..."
            ],
            "text/html": [
              "\n",
              "  <div id=\"df-045fef70-93cb-4eeb-92e9-4954ee1866e3\" class=\"colab-df-container\">\n",
              "    <div>\n",
              "<style scoped>\n",
              "    .dataframe tbody tr th:only-of-type {\n",
              "        vertical-align: middle;\n",
              "    }\n",
              "\n",
              "    .dataframe tbody tr th {\n",
              "        vertical-align: top;\n",
              "    }\n",
              "\n",
              "    .dataframe thead th {\n",
              "        text-align: right;\n",
              "    }\n",
              "</style>\n",
              "<table border=\"1\" class=\"dataframe\">\n",
              "  <thead>\n",
              "    <tr style=\"text-align: right;\">\n",
              "      <th></th>\n",
              "      <th>sentiment</th>\n",
              "      <th>text</th>\n",
              "    </tr>\n",
              "  </thead>\n",
              "  <tbody>\n",
              "    <tr>\n",
              "      <th>0</th>\n",
              "      <td>0</td>\n",
              "      <td>[[-0.28265, -0.13972, 0.2381, 0.39285, -0.6081...</td>\n",
              "    </tr>\n",
              "    <tr>\n",
              "      <th>1</th>\n",
              "      <td>0</td>\n",
              "      <td>[[-0.66226, -0.24602, -0.074331, 0.70106, 0.01...</td>\n",
              "    </tr>\n",
              "    <tr>\n",
              "      <th>2</th>\n",
              "      <td>0</td>\n",
              "      <td>[[-0.45581, -1.1128, 1.0626, -0.65459, 0.42869...</td>\n",
              "    </tr>\n",
              "    <tr>\n",
              "      <th>3</th>\n",
              "      <td>0</td>\n",
              "      <td>[[0.4355, -0.18377, -0.70186, -0.19652, 1.1405...</td>\n",
              "    </tr>\n",
              "    <tr>\n",
              "      <th>4</th>\n",
              "      <td>0</td>\n",
              "      <td>[[0.25207, -1.6823, -0.57242, -1.0334, 0.67554...</td>\n",
              "    </tr>\n",
              "  </tbody>\n",
              "</table>\n",
              "</div>\n",
              "    <div class=\"colab-df-buttons\">\n",
              "\n",
              "  <div class=\"colab-df-container\">\n",
              "    <button class=\"colab-df-convert\" onclick=\"convertToInteractive('df-045fef70-93cb-4eeb-92e9-4954ee1866e3')\"\n",
              "            title=\"Convert this dataframe to an interactive table.\"\n",
              "            style=\"display:none;\">\n",
              "\n",
              "  <svg xmlns=\"http://www.w3.org/2000/svg\" height=\"24px\" viewBox=\"0 -960 960 960\">\n",
              "    <path d=\"M120-120v-720h720v720H120Zm60-500h600v-160H180v160Zm220 220h160v-160H400v160Zm0 220h160v-160H400v160ZM180-400h160v-160H180v160Zm440 0h160v-160H620v160ZM180-180h160v-160H180v160Zm440 0h160v-160H620v160Z\"/>\n",
              "  </svg>\n",
              "    </button>\n",
              "\n",
              "  <style>\n",
              "    .colab-df-container {\n",
              "      display:flex;\n",
              "      gap: 12px;\n",
              "    }\n",
              "\n",
              "    .colab-df-convert {\n",
              "      background-color: #E8F0FE;\n",
              "      border: none;\n",
              "      border-radius: 50%;\n",
              "      cursor: pointer;\n",
              "      display: none;\n",
              "      fill: #1967D2;\n",
              "      height: 32px;\n",
              "      padding: 0 0 0 0;\n",
              "      width: 32px;\n",
              "    }\n",
              "\n",
              "    .colab-df-convert:hover {\n",
              "      background-color: #E2EBFA;\n",
              "      box-shadow: 0px 1px 2px rgba(60, 64, 67, 0.3), 0px 1px 3px 1px rgba(60, 64, 67, 0.15);\n",
              "      fill: #174EA6;\n",
              "    }\n",
              "\n",
              "    .colab-df-buttons div {\n",
              "      margin-bottom: 4px;\n",
              "    }\n",
              "\n",
              "    [theme=dark] .colab-df-convert {\n",
              "      background-color: #3B4455;\n",
              "      fill: #D2E3FC;\n",
              "    }\n",
              "\n",
              "    [theme=dark] .colab-df-convert:hover {\n",
              "      background-color: #434B5C;\n",
              "      box-shadow: 0px 1px 3px 1px rgba(0, 0, 0, 0.15);\n",
              "      filter: drop-shadow(0px 1px 2px rgba(0, 0, 0, 0.3));\n",
              "      fill: #FFFFFF;\n",
              "    }\n",
              "  </style>\n",
              "\n",
              "    <script>\n",
              "      const buttonEl =\n",
              "        document.querySelector('#df-045fef70-93cb-4eeb-92e9-4954ee1866e3 button.colab-df-convert');\n",
              "      buttonEl.style.display =\n",
              "        google.colab.kernel.accessAllowed ? 'block' : 'none';\n",
              "\n",
              "      async function convertToInteractive(key) {\n",
              "        const element = document.querySelector('#df-045fef70-93cb-4eeb-92e9-4954ee1866e3');\n",
              "        const dataTable =\n",
              "          await google.colab.kernel.invokeFunction('convertToInteractive',\n",
              "                                                    [key], {});\n",
              "        if (!dataTable) return;\n",
              "\n",
              "        const docLinkHtml = 'Like what you see? Visit the ' +\n",
              "          '<a target=\"_blank\" href=https://colab.research.google.com/notebooks/data_table.ipynb>data table notebook</a>'\n",
              "          + ' to learn more about interactive tables.';\n",
              "        element.innerHTML = '';\n",
              "        dataTable['output_type'] = 'display_data';\n",
              "        await google.colab.output.renderOutput(dataTable, element);\n",
              "        const docLink = document.createElement('div');\n",
              "        docLink.innerHTML = docLinkHtml;\n",
              "        element.appendChild(docLink);\n",
              "      }\n",
              "    </script>\n",
              "  </div>\n",
              "\n",
              "\n",
              "<div id=\"df-566ff1c6-358a-41cf-af0a-524f0b18fcc3\">\n",
              "  <button class=\"colab-df-quickchart\" onclick=\"quickchart('df-566ff1c6-358a-41cf-af0a-524f0b18fcc3')\"\n",
              "            title=\"Suggest charts\"\n",
              "            style=\"display:none;\">\n",
              "\n",
              "<svg xmlns=\"http://www.w3.org/2000/svg\" height=\"24px\"viewBox=\"0 0 24 24\"\n",
              "     width=\"24px\">\n",
              "    <g>\n",
              "        <path d=\"M19 3H5c-1.1 0-2 .9-2 2v14c0 1.1.9 2 2 2h14c1.1 0 2-.9 2-2V5c0-1.1-.9-2-2-2zM9 17H7v-7h2v7zm4 0h-2V7h2v10zm4 0h-2v-4h2v4z\"/>\n",
              "    </g>\n",
              "</svg>\n",
              "  </button>\n",
              "\n",
              "<style>\n",
              "  .colab-df-quickchart {\n",
              "      --bg-color: #E8F0FE;\n",
              "      --fill-color: #1967D2;\n",
              "      --hover-bg-color: #E2EBFA;\n",
              "      --hover-fill-color: #174EA6;\n",
              "      --disabled-fill-color: #AAA;\n",
              "      --disabled-bg-color: #DDD;\n",
              "  }\n",
              "\n",
              "  [theme=dark] .colab-df-quickchart {\n",
              "      --bg-color: #3B4455;\n",
              "      --fill-color: #D2E3FC;\n",
              "      --hover-bg-color: #434B5C;\n",
              "      --hover-fill-color: #FFFFFF;\n",
              "      --disabled-bg-color: #3B4455;\n",
              "      --disabled-fill-color: #666;\n",
              "  }\n",
              "\n",
              "  .colab-df-quickchart {\n",
              "    background-color: var(--bg-color);\n",
              "    border: none;\n",
              "    border-radius: 50%;\n",
              "    cursor: pointer;\n",
              "    display: none;\n",
              "    fill: var(--fill-color);\n",
              "    height: 32px;\n",
              "    padding: 0;\n",
              "    width: 32px;\n",
              "  }\n",
              "\n",
              "  .colab-df-quickchart:hover {\n",
              "    background-color: var(--hover-bg-color);\n",
              "    box-shadow: 0 1px 2px rgba(60, 64, 67, 0.3), 0 1px 3px 1px rgba(60, 64, 67, 0.15);\n",
              "    fill: var(--button-hover-fill-color);\n",
              "  }\n",
              "\n",
              "  .colab-df-quickchart-complete:disabled,\n",
              "  .colab-df-quickchart-complete:disabled:hover {\n",
              "    background-color: var(--disabled-bg-color);\n",
              "    fill: var(--disabled-fill-color);\n",
              "    box-shadow: none;\n",
              "  }\n",
              "\n",
              "  .colab-df-spinner {\n",
              "    border: 2px solid var(--fill-color);\n",
              "    border-color: transparent;\n",
              "    border-bottom-color: var(--fill-color);\n",
              "    animation:\n",
              "      spin 1s steps(1) infinite;\n",
              "  }\n",
              "\n",
              "  @keyframes spin {\n",
              "    0% {\n",
              "      border-color: transparent;\n",
              "      border-bottom-color: var(--fill-color);\n",
              "      border-left-color: var(--fill-color);\n",
              "    }\n",
              "    20% {\n",
              "      border-color: transparent;\n",
              "      border-left-color: var(--fill-color);\n",
              "      border-top-color: var(--fill-color);\n",
              "    }\n",
              "    30% {\n",
              "      border-color: transparent;\n",
              "      border-left-color: var(--fill-color);\n",
              "      border-top-color: var(--fill-color);\n",
              "      border-right-color: var(--fill-color);\n",
              "    }\n",
              "    40% {\n",
              "      border-color: transparent;\n",
              "      border-right-color: var(--fill-color);\n",
              "      border-top-color: var(--fill-color);\n",
              "    }\n",
              "    60% {\n",
              "      border-color: transparent;\n",
              "      border-right-color: var(--fill-color);\n",
              "    }\n",
              "    80% {\n",
              "      border-color: transparent;\n",
              "      border-right-color: var(--fill-color);\n",
              "      border-bottom-color: var(--fill-color);\n",
              "    }\n",
              "    90% {\n",
              "      border-color: transparent;\n",
              "      border-bottom-color: var(--fill-color);\n",
              "    }\n",
              "  }\n",
              "</style>\n",
              "\n",
              "  <script>\n",
              "    async function quickchart(key) {\n",
              "      const quickchartButtonEl =\n",
              "        document.querySelector('#' + key + ' button');\n",
              "      quickchartButtonEl.disabled = true;  // To prevent multiple clicks.\n",
              "      quickchartButtonEl.classList.add('colab-df-spinner');\n",
              "      try {\n",
              "        const charts = await google.colab.kernel.invokeFunction(\n",
              "            'suggestCharts', [key], {});\n",
              "      } catch (error) {\n",
              "        console.error('Error during call to suggestCharts:', error);\n",
              "      }\n",
              "      quickchartButtonEl.classList.remove('colab-df-spinner');\n",
              "      quickchartButtonEl.classList.add('colab-df-quickchart-complete');\n",
              "    }\n",
              "    (() => {\n",
              "      let quickchartButtonEl =\n",
              "        document.querySelector('#df-566ff1c6-358a-41cf-af0a-524f0b18fcc3 button');\n",
              "      quickchartButtonEl.style.display =\n",
              "        google.colab.kernel.accessAllowed ? 'block' : 'none';\n",
              "    })();\n",
              "  </script>\n",
              "</div>\n",
              "\n",
              "    </div>\n",
              "  </div>\n"
            ],
            "application/vnd.google.colaboratory.intrinsic+json": {
              "type": "dataframe",
              "variable_name": "df"
            }
          },
          "metadata": {},
          "execution_count": 11
        }
      ],
      "source": [
        "file_path_embeddings = '/content/glove.6B.50d.txt'\n",
        "\n",
        "def load_glove_embeddings(filepath):\n",
        "    embeddings = {}\n",
        "    with open(filepath, 'r', encoding='utf-8') as f:\n",
        "        for line in f:\n",
        "            values = line.split()\n",
        "            word = values[0]\n",
        "            vector = np.asarray(values[1:], dtype='float32')\n",
        "            embeddings[word] = vector\n",
        "    return embeddings\n",
        "\n",
        "def get_embedding(word, embeddings):\n",
        "    return embeddings.get(word, None)\n",
        "\n",
        "embeddings = load_glove_embeddings(file_path_embeddings)\n",
        "\n",
        "\n",
        "def embed(cell):\n",
        "    vectors = []\n",
        "    for t in cell:  # Assuming cell is already a list of tokens\n",
        "        vector = get_embedding(t, embeddings)\n",
        "        if vector is not None:\n",
        "            vectors.append(vector)\n",
        "    return vectors\n",
        "\n",
        "df['text'] = df['text'].apply(embed)\n",
        "df.head(5)"
      ]
    },
    {
      "cell_type": "markdown",
      "metadata": {
        "id": "LfJMADx6XTaM"
      },
      "source": [
        "# Remove empty rows\n",
        "Because we performed transformations that my result in empty rows (if no words have corresponding embedding) now is the time to clean the df from those rows"
      ]
    },
    {
      "cell_type": "code",
      "execution_count": 12,
      "metadata": {
        "colab": {
          "base_uri": "https://localhost:8080/"
        },
        "id": "kOKLvNXzXTaN",
        "outputId": "8ca45447-a13f-4866-a0cb-9858c0576f6a"
      },
      "outputs": [
        {
          "output_type": "stream",
          "name": "stdout",
          "text": [
            "Indexes of rows with empty or nested empty lists:\n",
            "[135, 208, 249, 282, 309, 398, 430, 555, 614, 1011, 1014, 1231, 1343, 1421, 1448, 1468, 1486, 1641, 2225, 2589, 2898, 2973, 3040, 3209, 3467, 3997, 4201, 4233, 4318, 4377, 4508, 4805, 5029, 5284, 5359, 6058, 6171, 6191, 6258, 6374, 6419, 6446, 6474, 7009, 7170, 7310, 7360, 7683, 7790, 7840, 7872, 8076, 8239, 8399, 8415, 8557, 8708, 8709, 8838, 9072, 9170, 9323, 9556, 9599, 9756, 10033, 10149, 10278, 10379, 10625, 10862, 10949, 11074, 11113, 11130, 11240, 11324, 11348, 11367, 11820, 12037, 12092, 12110, 12550, 12674, 12712, 13206, 13232, 13411, 13494, 13546, 13703, 13960, 14003, 14022, 14226, 14470, 14501, 14516, 14552, 14619, 14685, 14777, 14905, 14943, 14989, 15495, 15679, 16074, 16145, 16342, 16417, 16727, 16803, 17071, 17364, 17422, 17433, 17523, 17611, 17854, 18048, 18207, 18303, 18333, 18375, 18658, 18796, 18950, 19154, 19239, 19267, 19362, 19445, 19592, 19611, 19613, 19625, 19689, 19798, 20870, 20880, 20929, 21013, 21143, 21241, 21257, 21465, 21522, 22052, 22305, 22383, 22467, 22979, 23065, 23108, 23116, 23610, 23738, 23884, 24173, 24309, 24712, 24773, 25293, 25397, 25564, 25704, 25761, 26048, 26113, 26120, 26130, 26254, 26481, 26910, 27066, 27114, 27140, 27610, 28787, 28855, 28898, 28961, 28996, 29004, 29121, 29695, 29900, 30279, 30563, 30905, 31062, 31079, 31403, 31727, 31778, 31783, 31795, 31848, 32123, 32224, 32313, 32531, 32851, 33395, 33463, 33787, 34015, 34170, 34188, 34317, 34744, 34948, 35179, 35476, 35879, 36015, 36065, 36403, 36429, 36569, 36879, 37137, 37280, 37400, 37614, 37615, 37805, 37863, 38094, 38115, 38122, 38230, 38636, 38651, 38755, 38877, 39020, 39043, 39315, 39345, 39521, 39601, 39679, 39704, 39828, 39863, 39878, 40227, 40259, 40402, 40680, 40756, 40785, 40840, 40962, 41195, 41265, 41530, 41684, 41730, 41938, 41974, 42189, 42196, 42210, 42298, 42365, 42558, 42798, 42811, 42902, 43149, 43300, 43332, 43554, 43556, 43956, 44208, 44247, 44642, 44707, 44836, 44844, 44852, 44936, 45054, 45111, 45126, 45170, 45214, 45232, 45236, 45263, 45307, 45531, 45906, 46127, 46223, 46346, 46554, 46707, 46725, 46780, 46835, 46941, 47063, 47071, 47089, 47183, 47241, 47283, 47451, 47583, 47597, 48006, 48218, 48259, 48279, 48307, 48388, 48513, 48518, 48520, 48531, 48841, 49253, 49559, 49568, 49818, 50239, 50421, 50758, 50858, 50909, 51110, 51413, 51651, 51679, 51941, 52330, 52437, 52771, 52778, 52787, 52957, 53172, 53367, 53487, 53553, 53557, 53572, 53681, 53734, 53867, 53993, 54021, 54095, 54096, 54415, 54534, 54751, 54814, 54836, 55110, 55161, 55245, 55374, 55378, 55595, 55611, 55645, 55883, 56122, 56158, 56236, 56274, 56295, 56521, 56553, 56561, 56642, 56682, 56727, 56880, 57183, 57355, 57499, 57612, 57667, 57775, 57818, 57865, 58081, 58201, 58248, 58418, 58456, 58596, 58748, 58920, 59306, 59348, 59578, 59595, 59611, 59853, 59946, 59961, 60218, 60262, 60278, 60446, 60609, 60688, 60855, 61034, 61190, 61229, 61249, 61271, 61400, 61487, 61688, 61894, 62157, 62301, 62705, 62723, 62729, 63033, 63099, 63174, 63254, 63317, 63432, 63494, 63500, 63646, 63730, 63915, 64060, 64375, 64444, 64454, 64482, 64511, 64514, 64816, 64856, 64931, 65406, 65497, 65819, 65877, 65899, 66214, 66258, 66270, 66287, 66303, 66578, 66604, 66670, 66729, 66903, 66946, 66956, 67194, 67271, 67385, 67800, 67805, 67893, 67929, 67932, 68017, 68123, 68188, 68449, 68473, 68593, 68744, 68786, 68822, 68839, 68986, 69209, 69243, 69352, 69454, 69563, 69701, 69707, 70127, 70238, 70244, 70256, 70283, 70328, 70337, 70390, 70431, 70445, 70755, 70974, 71352, 71381, 71465, 71480, 71814, 71984, 72575, 72840, 72981, 73254, 73510, 73527, 73584, 73758, 73790, 73804, 74112, 74286, 74298, 74506, 74929, 74940, 75252, 75459, 75747, 75843, 75870, 76733, 76737, 76784, 76816, 76822, 77023, 77036, 77317, 77374, 77811, 77967, 78011, 78160, 78275, 78332, 78384, 78484, 78681, 78748, 79007, 79024, 79206, 79279, 79299, 79421, 79837, 79960, 80104, 80255, 80288, 80301, 80376, 80504, 80800, 80862, 80866, 80887, 81108, 81299, 81337, 81372, 81476, 81557, 82353, 82387, 82512, 82682, 82734, 82788, 82818, 82839, 82934, 83338, 83374, 83657, 83682, 83744, 83915, 84084, 84135, 84521, 84874, 84939, 84999, 85492, 85714, 85819, 86072, 86136, 86249, 86530, 86563, 86695, 86863, 87130, 87139, 87159, 87441, 87518, 87590, 87655, 88301, 88430, 88585, 88631, 88683, 88747, 88858, 88871, 88989, 89170, 89545, 89662, 89724, 89769, 89834, 89904, 90172, 90243, 90341, 90396, 90451, 90681, 90757, 90795, 90900, 90968, 91013, 91211, 91360, 91396, 91398, 91438, 92089, 92314, 92372, 92398, 92405, 92522, 92711, 92807, 92928, 93116, 93331, 93578, 93680, 93709, 93860, 94238, 94241, 94553, 94564, 94757, 94818, 94886, 94939, 95020, 95311, 95336, 95390, 95461, 95783, 96076, 96100, 96187, 96202, 96208, 96232, 96397, 96490, 96648, 96861, 97010, 97146, 97252, 97264, 97629, 97682, 97880, 97892, 98005, 98273, 98426, 98590, 98674, 99000, 99027, 99129, 99158, 99202, 99232, 99707, 99873, 99926, 99940, 99987, 100272, 100525, 100766, 100802, 100924, 100978, 101008, 101126, 101435, 101458, 101677, 101842, 102018, 102491, 102492, 102551, 102578, 102628, 102716, 102893, 103227, 103287, 103322, 103323, 103336, 103801, 104167, 104212, 104471, 104491, 104492, 104514, 104562, 104611, 104667, 104746, 104799, 104893, 104966, 104997, 105031, 105166, 105247, 105324, 105375, 105673, 105678, 105789, 106099, 106125, 106181, 106190, 106273, 106287, 106372, 106395, 106522, 106594, 106625, 106634, 106701, 106867, 107002, 107118, 107177, 107197, 107336, 107416, 107618, 107697, 108265, 108411, 108662, 108705, 109016, 109386, 109393, 109400, 109435, 109465, 109560, 109596, 109600, 109772, 110204, 110236, 110259, 110476, 110767, 110891, 111010, 111422, 111601, 111832, 111922, 112004, 112108, 112130, 112272, 112405, 112527, 112551, 112690, 112801, 112822, 112973, 113008, 113211, 113245, 113347, 113417, 113645, 113748, 113988, 114011, 114247, 114519, 114524, 114594, 114688, 114987, 115387, 115456, 115836, 115871, 115917, 115948, 116290, 116474, 116515, 116633, 116766, 117076, 117210, 117831, 117873, 117966, 118461, 118557, 118618, 118777, 118778, 118781, 118791, 118867, 119130, 119262, 119335, 119344, 119431, 119735, 119738, 119920, 119952, 120079, 120150, 120191, 120230, 120294, 120309, 120395, 120529, 120540, 120694, 120740, 120923, 120956, 121310, 121402, 122162, 122276, 122369, 122798, 123093, 123606, 123723, 123854, 123896, 124273, 124300, 124305, 124503, 124614, 124658, 124894, 124957, 125150, 125283, 125318, 125328, 125369, 125393, 125414, 125580, 125680, 125865, 125935, 126139, 126259, 126304, 126343, 126369, 126422, 126658, 126867, 127090, 127339, 127548, 127600, 127724, 127918, 128005, 128215, 128635, 128705, 128739, 128980, 129175, 129237, 129261, 129273, 129613, 129899, 129907, 129951, 130034, 130053, 130387, 130443, 130455, 130456, 130693, 131022, 131058, 131105, 131169, 131444, 131555, 131627, 131640, 132018, 132023, 132198, 132325, 132723, 132733, 132742, 132748, 133303, 133325, 133420, 133546, 133547, 133561, 133855, 134184, 134288, 134530, 134564, 134687, 134743, 134763, 134799, 134812, 135218, 135349, 135532, 135582, 135649, 135834, 135857, 136100, 136251, 136280, 136295, 136351, 136489, 136573, 136642, 136682, 137021, 137044, 137163, 137257, 137285, 137732, 137742, 137892, 138088, 138154, 138183, 138509, 138525, 138652, 138821, 138857, 138888, 138948, 139457, 139581, 139667, 139716, 139773, 139976, 140053, 140211, 140214, 140274, 140399, 140408, 140527, 140571, 140994, 141011, 141017, 141393, 141680, 141842, 141943, 142089, 142181, 142671, 142738, 143288, 143312, 143484, 143570, 143575, 143727, 143795, 143961, 144013, 144084, 144101, 144192, 144486, 144567, 144573, 144716, 145364, 145443, 145621, 145705, 145967, 146121, 146183, 146455, 146528, 146699, 146796, 147053, 147216, 147256, 147479, 147897, 147941, 148048, 148074, 148308, 148314, 148490, 148657, 148712, 148732, 148988, 149061, 149186, 149201, 149384, 149404, 149463, 149672, 149701, 149813, 149831, 150119, 150377, 150403, 150423, 150443, 150471, 150564, 150598, 150798, 150900, 150972, 151130, 151241, 151290, 151299, 151319, 151437, 151449, 151673, 151770, 152106, 152304, 152531, 152542, 152683, 152735, 152811, 152924, 152949, 153040, 153332, 153519, 153588, 153681, 153720, 153947, 154015, 154016, 154022, 154036, 154085, 154229, 154338, 154367, 154661, 154678, 154748, 154763, 154775, 154819, 155134, 155286, 155319, 155513, 155543, 155590, 155642, 155660, 155997, 156406, 156456, 156470, 156639, 156663, 156750, 156791, 156938, 157017, 157139, 157200, 157417, 157540, 157628, 157818, 157923, 157931, 158103, 158117, 158199, 158255, 158259, 158311, 158324, 158413, 158515, 158536, 158655, 158818, 158915, 159030, 159126, 159207, 159260, 159319, 159583, 159892, 159938, 160098, 160124, 160220, 160305, 160464, 160494, 160659, 160664, 160741, 160772, 160809, 160866, 161044, 161116, 161346, 161419, 161539, 161658, 161789, 161790, 161917, 162049, 162174, 162551, 162621, 162715, 163181, 163312, 163343, 163474, 163521, 163731, 163865, 163996, 164025, 164158, 164175, 164202, 164378, 164385, 164433, 164458, 164504, 164856, 164865, 164921, 164933, 164949, 165137, 165230, 165243, 165385, 165473, 165743, 165854, 166197, 166212, 166261, 166300, 166441, 166451, 166806, 166838, 166914, 167143, 167383, 167451, 167475, 167539, 167758, 168081, 168090, 168103, 168135, 168162, 168216, 168285, 168390, 168521, 168565, 168654, 168707, 168721, 168837, 168962, 169040, 169169, 169206, 169229, 169258, 169436, 169728, 169739, 169747, 169920, 170346, 170541, 170554, 170786, 170882, 170927, 170966, 171014, 171111, 171145, 171157, 171289, 171355, 171606, 171884, 171905, 172091, 172098, 172275, 172867, 172910, 173132, 173622, 173749, 173758, 173760, 173810, 173852, 173911, 173924, 173928, 173939, 173986, 174097, 174100, 174214, 174514, 174527, 174554, 174590, 174679, 174712, 175188, 175232, 175432, 175717, 175854, 175916, 175941, 176054, 176140, 176197, 176288, 176698, 176742, 176753, 176808, 176915, 176957, 177041, 177206, 177221, 177269, 177359, 177410, 177541, 177565, 177589, 177722, 177804, 177837, 178006, 178020, 178071, 178153, 178476, 178521, 178577, 178578, 178625, 178712, 179183, 179516, 179665, 179760, 179927, 179931, 180007, 180045, 180052, 180288, 180502, 180572, 180614, 180775, 180839, 181019, 181188, 181222, 181359, 181404, 181565, 181994, 182080, 182088, 182118, 182137, 182152, 182295, 182421, 182506, 182513, 182540, 182626, 182673, 182705, 182928, 182973, 183093, 183335, 183561, 183787, 183886, 183895, 184051, 184074, 184098, 184185, 184186, 184347, 184604, 184780, 184816, 185193, 185342, 185487, 185637, 185640, 185709, 186296, 186321, 186369, 186482, 186499, 186581, 186655, 186721, 186759, 186809, 186863, 186989, 187105, 187157, 187159, 187199, 187206, 187233, 187350, 187380, 187915, 188352, 188361, 188369, 188394, 188444, 188475, 188501, 188520, 188525, 188670, 188692, 188723, 188751, 188784, 188848, 188898, 189045, 189051, 189064, 189144, 189208, 189418, 189499, 189634, 189698, 189854, 189859, 190223, 190334, 190361, 190372, 190407, 190443, 190446, 190535, 190549, 190697, 190763, 190838, 190887, 190971, 191039, 191232, 191431, 191438, 191511, 191580, 191726, 191934, 192141, 192284, 192375, 192401, 192434, 192561, 192617, 192818, 192831, 192977, 193111, 193216, 193572, 193711, 193951, 194057, 194154, 194319, 194551, 194656, 194828, 194833, 195187, 195426, 195640, 195770, 195849, 195893, 195980, 195989, 196026, 196202, 196318, 196323, 196542, 196711, 196872, 196933, 197044, 197072, 197152, 197708, 197746, 197877, 198001, 198256, 198283, 198358, 198377, 198405, 198415, 198438, 198520, 198604, 198633, 199128, 199131, 199194, 199269, 199760, 199797, 199880, 200206, 200220, 200321, 200337, 200379, 200406, 200463, 200728, 200793, 200879, 200959, 201184, 201349, 201376, 201419, 201420, 201481, 201559, 201800, 201879, 202054, 202245, 202341, 202375, 202491, 202583, 202597, 202650, 202715, 202774, 202854, 202945, 203239, 203516, 203529, 203581, 203805, 204018, 204096, 204314, 204348, 204536, 204647, 204652, 204711, 204720, 204974, 205133, 205278, 205320, 205569, 205625, 205687, 205695, 205743, 205746, 205937, 206203, 206209, 206379, 206572, 206624, 206797, 206812, 206838, 206942, 207144, 207180, 207189, 207253, 207471, 207502, 207626, 207656, 207858, 208323, 208461, 208738, 209099, 209119, 209248, 209253, 209386, 209407, 209464, 209659, 209682, 209769, 209770, 209813, 209922, 209924, 209941, 210064, 210111, 210127, 210141, 210163, 210255, 210571, 210872, 210943, 211084, 211231, 211266, 211298, 211568, 211655, 211667, 211773, 211914, 211937, 211952, 212098, 212150, 212219, 212242, 212255, 212273, 212276, 212283, 212543, 212583, 212902, 213034, 213100, 213155, 213309, 213484, 213490, 213507, 213599, 213621, 213720, 213833, 214010, 214212, 214340, 214403, 214519, 214660, 214735, 214751, 214803, 214894, 214937, 215177, 215450, 215559, 215563, 215896, 216006, 216258, 216284, 216313, 216409, 216491, 217090, 217103, 217105, 217121, 217529, 217642, 217800, 217824, 217857, 217865, 218367, 218607, 218828, 218868, 218920, 218943, 219108, 219263, 219682, 219925, 219997, 220044, 220159, 220445, 220590, 220702, 220800, 220937, 221041, 221088, 221127, 221365, 221580, 221846, 221866, 221967, 222002, 222428, 222460, 222493, 222567, 222581, 222608, 222646, 222717, 222851, 222919, 223112, 223240, 223484, 223513, 223616, 223873, 223973, 224000, 224133, 224258, 224314, 224367, 224612, 224621, 224684, 224802, 224808, 224880, 224992, 225046, 225118, 225151, 225201, 225309, 225617, 225701, 225894, 225964, 226155, 226170, 226176, 226245, 226401, 226451, 226472, 226566, 226597, 226616, 226664, 226809, 226983, 227132, 227426, 227704, 227725, 227759, 227834, 227928, 227946, 227996, 228024, 228115, 228230, 228373, 228375, 228398, 228419, 228569, 228750, 228758, 228780, 228951, 228996, 229017, 229068, 229168, 229170, 229264, 229269, 229292, 229329, 229395, 229524, 229643, 229666, 229701, 229797, 229860, 230136, 230209, 230248, 230266, 230376, 230780, 230794, 230862, 230909, 230939, 231037, 231046, 231064, 231128, 231227, 231273, 231370, 231394, 231488, 231652, 231771, 231828, 231842, 231886, 231978, 231997, 232208, 232417, 232955, 233004, 233024, 233198, 233204, 233308, 233360, 233542, 233567, 233855, 233897, 234114, 234241, 234385, 234485, 234560, 234675, 234773, 234806, 234846, 235047, 235310, 235314, 235603, 235699, 235711, 235716, 235735, 235940, 235951, 236036, 236057, 236198, 236383, 236549, 236652, 236777, 236891, 236968, 237162, 237219, 237249, 237314, 237470, 237743, 237746, 237786, 238156, 238342, 238622, 238674, 238697, 238772, 238825, 239049, 239057, 239069, 239101, 239164, 239330, 239509, 239647, 240140, 240351, 240364, 240391, 240545, 240557, 240680, 240685, 240693, 240697, 240840, 240878, 240937, 241030, 241031, 241041, 241073, 241182, 241264, 241418, 241468, 241480, 241521, 241557, 241666, 241688, 241848, 241919, 241932, 242060, 242346, 242441, 242605, 242725, 242761, 242840, 242879, 242955, 242987, 242988, 243057, 243084, 243132, 243232, 243233, 243298, 243502, 243532, 243574, 243765, 243801, 243940, 244074, 244089, 244186, 244194, 244271, 244287, 244304, 244333, 244389, 244480, 244499, 244590, 244595, 244794, 245047, 245052, 245119, 245159, 245175, 245228, 245358, 245391, 245729, 245833, 245887, 245925, 245980, 246018, 246722, 246894, 246912, 247030, 247106, 247131, 247134, 247139, 247169, 247341, 247759, 247767, 247832, 247863, 247891, 248119, 248176, 248329, 248514, 248528, 248584, 248592, 248607, 248652, 248786, 248983, 248991, 249021, 249059, 249121, 249340, 249593, 249642, 249721, 249812, 249844, 249951, 250020, 250047, 250061, 250247, 250419, 250491, 250502, 250564, 250646, 250682, 250745, 250904, 250948, 250993, 251071, 251286, 251326, 251357, 251396, 251436, 251510, 251595, 251657, 251679, 251832, 251914, 252049, 252233, 252448, 252517, 252519, 252624, 252725, 252742, 252756, 253092, 253222, 253236, 253238, 253265, 253306, 253679, 253939, 253954, 253962, 254001, 254078, 254095, 254433, 254552, 254558, 254876, 254918, 254943, 255065, 255147, 255282, 255433, 255530, 255698, 255854, 255866, 256298, 256476, 257075, 257106, 257145, 257464, 257592, 257815, 257888, 258091, 258189, 258273, 258345, 258569, 258629, 258676, 258692, 258880, 259041, 259086, 259092, 259589, 259594, 259598, 259684, 259722, 259744, 259810, 259816, 259882, 259895, 259908, 259918, 259942, 259971, 260052, 260108, 260339, 260423, 260534, 260668, 260714, 260748, 260832, 260841, 260847, 260880, 260967, 261038, 261201, 261363, 261395, 261503, 261509, 261574, 261877, 261909, 261944, 261971, 261978, 262069, 262149, 262202, 262208, 262282, 262299, 262314, 262327, 262429, 262546, 262553, 262567, 262581, 262700, 262758, 262823, 262865, 262897, 262976, 262983, 263412, 263449, 263671, 263680, 263740, 263821, 263824, 263876, 264144, 264160, 264496, 264583, 264668, 264730, 264818, 264865, 264929, 265039, 265107, 265257, 265426, 265532, 265779, 265894, 265977, 266349, 266381, 266596, 266624, 266648, 266679, 266682, 266769, 267089, 267114, 267171, 267261, 267379, 267491, 267529, 267786, 267807, 267906, 267971, 268143, 268197, 268261, 268486, 268711, 268723, 268844, 268993, 269014, 269067, 269352, 269372, 269523, 269570, 269626, 269707, 269710, 269716, 269814, 269889, 269990, 270295, 270453, 270655, 270697, 270772, 270985, 270986, 271273, 271735, 271814, 271857, 271967, 272319, 272426, 272443, 272556, 272680, 272793, 272799, 273120, 273207, 273240, 273350, 273387, 273388, 273401, 273473, 273517, 273815, 273817, 274024, 274049, 274131, 274133, 274310, 274399, 274539, 274718, 275034, 275126, 275127, 275214, 275218, 275238, 275489, 275511, 275617, 275656, 275740, 275956, 276050, 276097, 276270, 276408, 276467, 276498, 276532, 276684, 276787, 276818, 276825, 277061, 277279, 277290, 277331, 277402, 277445, 277469, 277484, 277535, 277557, 277591, 277594, 277782, 277882, 277897, 278097, 278106, 278187, 278189, 278262, 278276, 278323, 278371, 278482, 278725, 278780, 278781, 278800, 279018, 279100, 279102, 279275, 279307, 279357, 279505, 279560, 279575, 279853, 279873, 280142, 280263, 280422, 280738, 280756, 280892, 281313, 281326, 281382, 281582, 281620, 281846, 281902, 281957, 281963, 282127, 282159, 282177, 282345, 282360, 282362, 282481, 282482, 282534, 282624, 282638, 282726, 282750, 283032, 283196, 283213, 283377, 283492, 283591, 283716, 283808, 283936, 284104, 284282, 284309, 284407, 284410, 284464, 284499, 284574, 284716, 284979, 285042, 285266, 285271, 285304, 285339, 285497, 285713, 285970, 286342, 286379, 286532, 286555, 286867, 287226, 287243, 287250, 287269, 287466, 287661, 287965, 288113, 288301, 288304, 288370, 288620, 288682, 288804, 289091, 289157, 289178, 289220, 289240, 289299, 289307, 289330, 289334, 289502, 289568, 289641, 289705, 289801, 289997, 290208, 290368, 290452, 290461, 290706, 290739, 290802, 290970, 291114, 291175, 291305, 291549, 291582, 291613, 291656, 291702, 291762, 291996, 292084, 292111, 292160, 292189, 292190, 292263, 292288, 292299, 292432, 292499, 292504, 292686, 292717, 292828, 292850, 292903, 292928, 292938, 293068, 293386, 293594, 293620, 293691, 293746, 293825, 293935, 293970, 293972, 294010, 294019, 294132, 294160, 294314, 294432, 294460, 294523, 294610, 294626, 294986, 295118, 295179, 295267, 295403, 295420, 295573, 295575, 295654, 295684, 295804, 295989, 296260, 296298, 296299, 296378, 296413, 296431, 296436, 296454, 296723, 296742, 296797, 296837, 297009, 297097, 297223, 297393, 297599, 297677, 297723, 298066, 298204, 298431, 298533, 298565, 298624, 298662, 298663, 298720, 298877, 299415, 299470, 299534, 299553, 299692, 299703, 299746, 299898, 299948, 299952, 299974, 299996, 300074, 300095, 300121, 300324, 300344, 300465, 300502, 300657, 300665, 300699, 300757, 300943, 300973, 301024, 301154, 301162, 301215, 301374, 301410, 301446, 301555, 301568, 301657, 301688, 301702, 301882, 301899, 302076, 302094, 302494, 302569, 302724, 302731, 302776, 302814, 303033, 303078, 303279, 303379, 303415, 303596, 303845, 303895, 303964, 304013, 304066, 304167, 304501, 304697, 304716, 304726, 304867, 304949, 305049, 305332, 305410, 305483, 305509, 305527, 305542, 305557, 305571, 305626, 305630, 305646, 305676, 305709, 305908, 305935, 306132, 306186, 306255, 306381, 306511, 306543, 306568, 306590, 306611, 306614, 306674, 306782, 306809, 306837, 306847, 307122, 307152, 307320, 307443, 307519, 307522, 307648, 307680, 307689, 307743, 307803, 307860, 307877, 307919, 308071, 308208, 308299, 308591, 308772, 308789, 308801, 308972, 308986, 309021, 309091, 309181, 309208, 309372, 309390, 309702, 309769, 309783, 309791, 309836, 309950, 310043, 310255, 310257, 310380, 310414, 310499, 310681, 310791, 310929, 310943, 310978, 311061, 311088, 311109, 311152, 311332, 311363, 311615, 311820, 311852, 311858, 311969, 312077, 312122, 312147, 312153, 312201, 312252, 312447, 312452, 312508, 312652, 312669, 312717, 312765, 312770, 312945, 313123, 313143, 313349, 313373, 313391, 313470, 313525, 313609, 313632, 313659, 313665, 313708, 313709, 313729, 313739, 313816, 313849, 313905, 314043, 314069, 314103, 314227, 314371, 314378, 314532, 314534, 314638, 314722, 314779, 314819, 314840, 314886, 314898, 314952, 314977, 315019, 315270, 315734, 315754, 316088, 316207, 316210, 316219, 316227, 316380, 316382, 316409, 316422, 316512, 316697, 316818, 316980, 317090, 317153, 317183, 317244, 317706, 317955, 317999, 318144, 318159, 318403, 318438, 318533, 318591, 318650, 318864, 319206, 319271, 319510, 319518, 319599, 319687, 319874, 319995, 320045, 320065, 320080, 320312, 320331, 320408, 320540, 320610, 320682, 320983, 321041, 321106, 321223, 321398, 321597, 321743, 321850, 321976, 322242, 322314, 322353, 322700, 322944, 322962, 323085, 323093, 323194, 323256, 323268, 323373, 323676, 323748, 323799, 324205, 324213, 324255, 324294, 324421, 324593, 324716, 324995, 325004, 325061, 325235, 325620, 325718, 325766, 326084, 326130, 326353, 326363, 326444, 326558, 326592, 326654, 327021, 327026, 327035, 327040, 327046, 327049, 327637, 327732, 327771, 327772, 327889, 327942, 328079, 328109, 328118, 328151, 328250, 328366, 328421, 328507, 328549, 328732, 329154, 329249, 329262, 329335, 329493, 329560, 329773, 329842, 330129, 330330, 330373, 330383, 330520, 330632, 330700, 330788, 330921, 330926, 331116, 331179, 331218, 331228, 331266, 331432, 331562, 331739, 331834, 331942, 331993, 332087, 332153, 332226, 332665, 332720, 332752, 332782, 332786, 332843, 332985, 333030, 333189, 333230, 333417, 333654, 333735, 333772, 333777, 333938, 334104, 334237, 334329, 334532, 334602, 334790, 334985, 335022, 335049, 335295, 335410, 335481, 335552, 335568, 335583, 335816, 335953, 336097, 336191, 336218, 336387, 336475, 336504, 336509, 336548, 336618, 336691, 336730, 337062, 337078, 337287, 337363, 337575, 337671, 337997, 338325, 338615, 338802, 338955, 339084, 339341, 339426, 339536, 340343, 340542, 340621, 340928, 340949, 341008, 341010, 341038, 341063, 341064, 341065, 341080, 341216, 341502, 341541, 341615, 341643, 341733, 341744, 341998, 342071, 342166, 342205, 342310, 342725, 342898, 342973, 343512, 343552, 343622, 343668, 343726, 343740, 343750, 343882, 344173, 344542, 344608, 344669, 344679, 344682, 344733, 344862, 344927, 345051, 345113, 345570, 345581, 345610, 345666, 345915, 345935, 346061, 346077, 346109, 346184, 346234, 346333, 346395, 346429, 346468, 346487, 346511, 346588, 346619, 346749, 346758, 346833, 347029, 347138, 347232, 347248, 347291, 347341, 347343, 347385, 347482, 347565, 347585, 347607, 347609, 347622, 347635, 347699, 347703, 347764, 347774, 347825, 347943, 347972, 347986, 347995, 348167, 348175, 348195, 348396, 348520, 348679, 348692, 348971, 348975, 349027, 349073, 349130, 349315, 349487, 349636, 349655, 349682, 349721, 349945, 350081, 350130, 350363, 350546, 350623, 350660, 350668, 350704, 350956, 351020, 351208, 351216, 351237, 351336, 351352, 351356, 351455, 351474, 351478, 351533, 351605, 351615, 351799, 351848, 351877, 352085, 352149, 352179, 352252, 352383, 352398, 352414, 352662, 352898, 352906, 352994, 353096, 353154, 353185, 353211, 353352, 353391, 353397, 353429, 353503, 353504, 353971, 354160, 354193, 354291, 354318, 354432, 354453, 354514, 354635, 354848, 354903, 355001, 355114, 355283, 355381, 355512, 355519, 355669, 355676, 355819, 355907, 355980, 356000, 356162, 356167, 356169, 356227, 356578, 356586, 356647, 356747, 356798, 356813, 356848, 356918, 357055, 357332, 357537, 357573, 357792, 357885, 358017, 358100, 358152, 358204, 358233, 358240, 358393, 358598, 358613, 358646, 358649, 358652, 358689, 358714, 358875, 358908, 358992, 359090, 359221, 359236, 359282, 359311, 359335, 359365, 359389, 359567, 359813, 359847, 359857, 359899, 360077, 360084, 360106, 360123, 360141, 360273, 360349, 360363, 360423, 360561, 360606, 360629, 360803, 360910, 360938, 361096, 361106, 361270, 361350, 361410, 361450, 361645, 361661, 361828, 361926, 361994, 362025, 362027, 362072, 362166, 362332, 362424, 362430, 362464, 362481, 362538, 362648, 362823, 362854, 362875, 362986, 363035, 363124, 363658, 363726, 364024, 364035, 364077, 364133, 364142, 364202, 364226, 364312, 364398, 364448, 364527, 364553, 364650, 364706, 364808, 364811, 364964, 365007, 365089, 365191, 365312, 365376, 365394, 365418, 365432, 365657, 365658, 365983, 366072, 366078, 366113, 366288, 366360, 366533, 366546, 366734, 366761, 366807, 367090, 367310, 367329, 367426, 367438, 367548, 367599, 367602, 367676, 367836, 367878, 368057, 368070, 368316, 368424, 368459, 368487, 368811, 368892, 368893, 368957, 369103, 369413, 369451, 369593, 369661, 369667, 369695, 369793, 369937, 369959, 369967, 369981, 370081, 370211, 370268, 370277, 370287, 370397, 370402, 370404, 370406, 370438, 370441, 370572, 370613, 370740, 370764, 370934, 370965, 370991, 371238, 371269, 371521, 371799, 371931, 371978, 372038, 372072, 372129, 372134, 372183, 372192, 372223, 372255, 372352, 372664, 372770, 372882, 372934, 372973, 373014, 373156, 373230, 373281, 373416, 373706, 373749, 373783, 373788, 373860, 373877, 374109, 374188, 374196, 374217, 374244, 374386, 374412, 374464, 374470, 374494, 374634, 374674, 374973, 374998, 375010, 375081, 375314, 375431, 375477, 375528, 375529, 375611, 375629, 375656, 375724, 375777, 375792, 375841, 375851, 375884, 375933, 375959, 376073, 376097, 376168, 376206, 376273, 376444, 376625, 376879, 377076, 377092, 377136, 377168, 377214, 377218, 377308, 377355, 377423, 377527, 377579, 377688, 377690, 377777, 377881, 377980, 378000, 378305, 378340, 378392, 378441, 378537, 378557, 378560, 378871, 378951, 378976, 379126, 379163, 379416, 379434, 379477, 379507, 379601, 379927, 379991, 380057, 380160, 380190, 380331, 380359, 380422, 380564, 380647, 380680, 380720, 380764, 380868, 380921, 381009, 381097, 381290, 381534, 381629, 381833, 381868, 381904, 381975, 382027, 382047, 382395, 382413, 382444, 382511, 382522, 382639, 382698, 382707, 382831, 382953, 382966, 383002, 383014, 383141, 383230, 383358, 383565, 383624, 383753, 383858, 384113, 384156, 384189, 384271, 384364, 384447, 384506, 384568, 384684, 384784, 384847, 384849, 384902, 384990, 385110, 385155, 385165, 385217, 385237, 385385, 385413, 385511, 385546, 385565, 385849, 386074, 386169, 386228, 386298, 386359, 386365, 386484, 386708, 386743, 386897, 386936, 387050, 387094, 387099, 387409, 387562, 387598, 387676, 387699, 387774, 387957, 388037, 388257, 388386, 388493, 388542, 388559, 388977, 389000, 389376, 389388, 389573, 389582, 389642, 389783, 389886, 390154, 390388, 390443, 390664, 390838, 391017, 391065, 391117, 391259, 391267, 391414, 391415, 391451, 391591, 391635, 391675, 391761, 391837, 391849, 391966, 392038, 392047, 392161, 392201, 392377, 392489, 393056, 393080, 393166, 393208, 393370, 393441, 393531, 393579, 393613, 393673, 393674, 393677, 393698, 393851, 394378, 394394, 394603, 394634, 394742, 394921, 395051, 395130, 395252, 395343, 395348, 395358, 395469, 395585, 395611, 395643, 395651, 395652, 395715, 395988, 396189, 396215, 396291, 396642, 396670, 396678, 396684, 396944, 396958, 397034, 397358, 397478, 397607, 397648, 397681, 397744, 398062, 398063, 398170, 398634, 398778, 399138, 399321, 399505, 399558, 399603, 399674, 399868, 399893, 399911]\n",
            "\n",
            "Number of rows with empty or nested empty lists: 3605\n"
          ]
        }
      ],
      "source": [
        "def is_empty_or_nested_empty(cell):\n",
        "    if isinstance(cell, list):\n",
        "        if not cell:  # Check if the list itself is empty\n",
        "            return True\n",
        "        for item in cell:\n",
        "            if isinstance(item, list) and not item:  # Check if there are nested empty lists\n",
        "                return True\n",
        "    return False\n",
        "\n",
        "# Apply the function to each cell in the 'text' column\n",
        "df['is_empty'] = df['text'].apply(is_empty_or_nested_empty)\n",
        "\n",
        "# Filter the DataFrame to find rows with empty or nested empty lists\n",
        "empty_rows = df[df['is_empty']]\n",
        "\n",
        "# Extract the indexes of rows with empty or nested empty lists\n",
        "empty_rows_indexes = empty_rows.index.tolist()\n",
        "\n",
        "# Print the indexes of rows with empty or nested empty lists\n",
        "print(\"Indexes of rows with empty or nested empty lists:\")\n",
        "print(empty_rows_indexes)\n",
        "\n",
        "# Optionally, print the count\n",
        "empty_count = len(empty_rows_indexes)\n",
        "print(f\"\\nNumber of rows with empty or nested empty lists: {empty_count}\")"
      ]
    },
    {
      "cell_type": "code",
      "execution_count": 13,
      "metadata": {
        "colab": {
          "base_uri": "https://localhost:8080/"
        },
        "id": "mY9LZVhTXTaP",
        "outputId": "ac809542-49ce-4a04-cf56-5fc3d35d3012"
      },
      "outputs": [
        {
          "output_type": "stream",
          "name": "stdout",
          "text": [
            "\n",
            "DataFrame with rows that contain empty or nested empty lists:\n",
            "        sentiment text  is_empty\n",
            "135             0   []      True\n",
            "208             0   []      True\n",
            "249             0   []      True\n",
            "282             0   []      True\n",
            "309             0   []      True\n",
            "...           ...  ...       ...\n",
            "399603          1   []      True\n",
            "399674          1   []      True\n",
            "399868          1   []      True\n",
            "399893          1   []      True\n",
            "399911          1   []      True\n",
            "\n",
            "[3605 rows x 3 columns]\n"
          ]
        }
      ],
      "source": [
        "df_empty_rows = df.loc[empty_rows_indexes]\n",
        "\n",
        "# Print the DataFrame with empty or nested empty lists\n",
        "print(\"\\nDataFrame with rows that contain empty or nested empty lists:\")\n",
        "print(df_empty_rows)"
      ]
    },
    {
      "cell_type": "code",
      "execution_count": 14,
      "metadata": {
        "colab": {
          "base_uri": "https://localhost:8080/"
        },
        "id": "MGB0Oe7bXTaR",
        "outputId": "4550585c-f822-4043-a1f3-6b7d17c0010d"
      },
      "outputs": [
        {
          "output_type": "stream",
          "name": "stdout",
          "text": [
            "Cleaned DataFrame with rows containing empty or nested empty lists removed:\n",
            "   sentiment                                               text\n",
            "0          0  [[-0.28265, -0.13972, 0.2381, 0.39285, -0.6081...\n",
            "1          0  [[-0.66226, -0.24602, -0.074331, 0.70106, 0.01...\n",
            "2          0  [[-0.45581, -1.1128, 1.0626, -0.65459, 0.42869...\n",
            "3          0  [[0.4355, -0.18377, -0.70186, -0.19652, 1.1405...\n",
            "4          0  [[0.25207, -1.6823, -0.57242, -1.0334, 0.67554...\n"
          ]
        }
      ],
      "source": [
        "df = df.drop(empty_rows_indexes)\n",
        "\n",
        "# Drop the helper column 'is_empty'\n",
        "df = df.drop(columns=['is_empty'])\n",
        "\n",
        "# Print the cleaned DataFrame\n",
        "print(\"Cleaned DataFrame with rows containing empty or nested empty lists removed:\")\n",
        "print(df.head(5))"
      ]
    },
    {
      "cell_type": "code",
      "execution_count": 15,
      "metadata": {
        "colab": {
          "base_uri": "https://localhost:8080/"
        },
        "id": "KzDM1UviXTaT",
        "outputId": "640679d1-b1ce-4a32-dd0c-c3f17b390542"
      },
      "outputs": [
        {
          "output_type": "execute_result",
          "data": {
            "text/plain": [
              "396395"
            ]
          },
          "metadata": {},
          "execution_count": 15
        }
      ],
      "source": [
        "len(df)"
      ]
    },
    {
      "cell_type": "markdown",
      "metadata": {
        "id": "F_7DiWTFXTaU"
      },
      "source": [
        "# Check max length"
      ]
    },
    {
      "cell_type": "code",
      "execution_count": 16,
      "metadata": {
        "colab": {
          "base_uri": "https://localhost:8080/"
        },
        "id": "V7Zz3E16XTaW",
        "outputId": "8dad3c73-aa9b-4e08-dd53-a4e9da73f696"
      },
      "outputs": [
        {
          "output_type": "stream",
          "name": "stdout",
          "text": [
            "The length of the longest sequence in the 'text' column is: 28\n"
          ]
        }
      ],
      "source": [
        "df['length'] = df['text'].apply(len)\n",
        "\n",
        "# Find the length of the longest sequence\n",
        "max_length = df['length'].max()\n",
        "\n",
        "# Print the length of the longest sequence\n",
        "print(f\"The length of the longest sequence in the 'text' column is: {max_length}\")\n"
      ]
    },
    {
      "cell_type": "code",
      "execution_count": 17,
      "metadata": {
        "id": "YRZ1RpnQXTaZ"
      },
      "outputs": [],
      "source": [
        "df = df.drop(columns=['length'])"
      ]
    },
    {
      "cell_type": "markdown",
      "metadata": {
        "id": "GAT2mt0IXTaa"
      },
      "source": [
        "# Padding"
      ]
    },
    {
      "cell_type": "code",
      "execution_count": 18,
      "metadata": {
        "id": "JK1PjGTIXTab"
      },
      "outputs": [],
      "source": [
        "# get dynamically embedding dim\n",
        "first_word = next(iter(embeddings))\n",
        "embedding_dim = len(embeddings[first_word])\n"
      ]
    },
    {
      "cell_type": "code",
      "execution_count": 19,
      "metadata": {
        "colab": {
          "base_uri": "https://localhost:8080/"
        },
        "id": "BCBzZMzdXTad",
        "outputId": "beea516b-202a-463e-bef6-c2119ec709dc"
      },
      "outputs": [
        {
          "output_type": "stream",
          "name": "stdout",
          "text": [
            "DataFrame with padded sequences:\n",
            "   sentiment                                               text\n",
            "0          0  [[-0.2826499938964844, -0.13971999287605286, 0...\n",
            "1          0  [[-0.6622599959373474, -0.24602000415325165, -...\n",
            "2          0  [[-0.455810010433197, -1.1128000020980835, 1.0...\n",
            "3          0  [[0.43549999594688416, -0.18377000093460083, -...\n",
            "4          0  [[0.25207000970840454, -1.6822999715805054, -0...\n"
          ]
        }
      ],
      "source": [
        "# Function to pad sequences\n",
        "def pad_sequence_custom(sequence, maxlen, embedding_dim):\n",
        "    sequence = [torch.tensor(vec, dtype=torch.float32) for vec in sequence if len(vec) > 0]\n",
        "    if len(sequence) == 0:\n",
        "        sequence = [torch.zeros(embedding_dim, dtype=torch.float32)]\n",
        "    padded_sequence = pad_sequence(sequence, batch_first=True, padding_value=0)\n",
        "    if padded_sequence.size(0) < maxlen:\n",
        "        padding = torch.zeros(maxlen - padded_sequence.size(0), embedding_dim, dtype=torch.float32)\n",
        "        padded_sequence = torch.cat([padded_sequence, padding], dim=0)\n",
        "    elif padded_sequence.size(0) > maxlen:\n",
        "        padded_sequence = padded_sequence[:maxlen]\n",
        "    return padded_sequence.tolist()\n",
        "\n",
        "# Apply padding to each sequence in the 'text' column\n",
        "df['text'] = df['text'].apply(lambda x: pad_sequence_custom(x, max_length, embedding_dim))\n",
        "\n",
        "# Print the DataFrame with padded sequences\n",
        "print(\"DataFrame with padded sequences:\")\n",
        "print(df.head(5))"
      ]
    },
    {
      "cell_type": "markdown",
      "metadata": {
        "id": "RI23Rr5bXTae"
      },
      "source": [
        "# Check the shapes"
      ]
    },
    {
      "cell_type": "code",
      "execution_count": 20,
      "metadata": {
        "colab": {
          "base_uri": "https://localhost:8080/"
        },
        "id": "WizQvV7MXTaf",
        "outputId": "836dc237-da7d-43a0-b18f-ac84ec9c342d"
      },
      "outputs": [
        {
          "output_type": "stream",
          "name": "stdout",
          "text": [
            "All sequences have the same length of 28 and each embedding has the dimension of 50.\n"
          ]
        }
      ],
      "source": [
        "def check_uniform_length_and_dimension(df, column_name, expected_length, expected_dimension):\n",
        "    lengths = df[column_name].apply(len)\n",
        "    dimensions = df[column_name].apply(lambda seq: all(len(embedding) == expected_dimension for embedding in seq))\n",
        "\n",
        "    uniform_length = all(length == expected_length for length in lengths)\n",
        "    uniform_dimension = all(dimensions)\n",
        "\n",
        "    return uniform_length, uniform_dimension, lengths, dimensions\n",
        "\n",
        "uniform_length, uniform_dimension, lengths, dimensions = check_uniform_length_and_dimension(df, 'text', max_length, embedding_dim)\n",
        "\n",
        "# Print results\n",
        "if uniform_length and uniform_dimension:\n",
        "    print(f\"All sequences have the same length of {max_length} and each embedding has the dimension of {embedding_dim}.\")\n",
        "else:\n",
        "    if not uniform_length:\n",
        "        print(\"Not all sequences have the same length.\")\n",
        "        print(lengths)\n",
        "    if not uniform_dimension:\n",
        "        print(\"Not all embeddings have the expected dimension.\")\n",
        "        print(dimensions)"
      ]
    },
    {
      "cell_type": "markdown",
      "metadata": {
        "id": "2N9kZ9afXTah"
      },
      "source": [
        "# Dataset & Data loaders"
      ]
    },
    {
      "cell_type": "code",
      "execution_count": 21,
      "metadata": {
        "id": "1yLG8dLvXTai"
      },
      "outputs": [],
      "source": [
        "class MyDataset(Dataset):\n",
        "    def __init__(self, df):\n",
        "        self.df = df\n",
        "\n",
        "    def __len__(self):\n",
        "        return len(self.df)\n",
        "\n",
        "    def __getitem__(self, idx):\n",
        "        input_data = torch.tensor(self.df['text'].iloc[idx], dtype=torch.float32)\n",
        "        target_data = torch.tensor(self.df['sentiment'].iloc[idx], dtype=torch.float32).unsqueeze(0)  # Ensure targets have shape [1]\n",
        "        return input_data, target_data"
      ]
    },
    {
      "cell_type": "code",
      "execution_count": 22,
      "metadata": {
        "colab": {
          "base_uri": "https://localhost:8080/",
          "height": 204
        },
        "id": "LsIkzRIKXTaj",
        "outputId": "fe137e5e-c438-4857-c858-e95cb42a1a4a"
      },
      "outputs": [
        {
          "output_type": "execute_result",
          "data": {
            "text/plain": [
              "   sentiment                                               text\n",
              "0          0  [[0.5075899958610535, 0.2632099986076355, 0.19...\n",
              "1          1  [[0.446260005235672, 1.1243000030517578, -1.51...\n",
              "2          1  [[-0.19246000051498413, 0.030393000692129135, ...\n",
              "3          0  [[0.6390500068664551, -0.21533000469207764, -0...\n",
              "4          0  [[1.2761000394821167, -0.631659984588623, -0.2..."
            ],
            "text/html": [
              "\n",
              "  <div id=\"df-5ac2d172-ad75-4af9-bb6f-54e20dcffd87\" class=\"colab-df-container\">\n",
              "    <div>\n",
              "<style scoped>\n",
              "    .dataframe tbody tr th:only-of-type {\n",
              "        vertical-align: middle;\n",
              "    }\n",
              "\n",
              "    .dataframe tbody tr th {\n",
              "        vertical-align: top;\n",
              "    }\n",
              "\n",
              "    .dataframe thead th {\n",
              "        text-align: right;\n",
              "    }\n",
              "</style>\n",
              "<table border=\"1\" class=\"dataframe\">\n",
              "  <thead>\n",
              "    <tr style=\"text-align: right;\">\n",
              "      <th></th>\n",
              "      <th>sentiment</th>\n",
              "      <th>text</th>\n",
              "    </tr>\n",
              "  </thead>\n",
              "  <tbody>\n",
              "    <tr>\n",
              "      <th>0</th>\n",
              "      <td>0</td>\n",
              "      <td>[[0.5075899958610535, 0.2632099986076355, 0.19...</td>\n",
              "    </tr>\n",
              "    <tr>\n",
              "      <th>1</th>\n",
              "      <td>1</td>\n",
              "      <td>[[0.446260005235672, 1.1243000030517578, -1.51...</td>\n",
              "    </tr>\n",
              "    <tr>\n",
              "      <th>2</th>\n",
              "      <td>1</td>\n",
              "      <td>[[-0.19246000051498413, 0.030393000692129135, ...</td>\n",
              "    </tr>\n",
              "    <tr>\n",
              "      <th>3</th>\n",
              "      <td>0</td>\n",
              "      <td>[[0.6390500068664551, -0.21533000469207764, -0...</td>\n",
              "    </tr>\n",
              "    <tr>\n",
              "      <th>4</th>\n",
              "      <td>0</td>\n",
              "      <td>[[1.2761000394821167, -0.631659984588623, -0.2...</td>\n",
              "    </tr>\n",
              "  </tbody>\n",
              "</table>\n",
              "</div>\n",
              "    <div class=\"colab-df-buttons\">\n",
              "\n",
              "  <div class=\"colab-df-container\">\n",
              "    <button class=\"colab-df-convert\" onclick=\"convertToInteractive('df-5ac2d172-ad75-4af9-bb6f-54e20dcffd87')\"\n",
              "            title=\"Convert this dataframe to an interactive table.\"\n",
              "            style=\"display:none;\">\n",
              "\n",
              "  <svg xmlns=\"http://www.w3.org/2000/svg\" height=\"24px\" viewBox=\"0 -960 960 960\">\n",
              "    <path d=\"M120-120v-720h720v720H120Zm60-500h600v-160H180v160Zm220 220h160v-160H400v160Zm0 220h160v-160H400v160ZM180-400h160v-160H180v160Zm440 0h160v-160H620v160ZM180-180h160v-160H180v160Zm440 0h160v-160H620v160Z\"/>\n",
              "  </svg>\n",
              "    </button>\n",
              "\n",
              "  <style>\n",
              "    .colab-df-container {\n",
              "      display:flex;\n",
              "      gap: 12px;\n",
              "    }\n",
              "\n",
              "    .colab-df-convert {\n",
              "      background-color: #E8F0FE;\n",
              "      border: none;\n",
              "      border-radius: 50%;\n",
              "      cursor: pointer;\n",
              "      display: none;\n",
              "      fill: #1967D2;\n",
              "      height: 32px;\n",
              "      padding: 0 0 0 0;\n",
              "      width: 32px;\n",
              "    }\n",
              "\n",
              "    .colab-df-convert:hover {\n",
              "      background-color: #E2EBFA;\n",
              "      box-shadow: 0px 1px 2px rgba(60, 64, 67, 0.3), 0px 1px 3px 1px rgba(60, 64, 67, 0.15);\n",
              "      fill: #174EA6;\n",
              "    }\n",
              "\n",
              "    .colab-df-buttons div {\n",
              "      margin-bottom: 4px;\n",
              "    }\n",
              "\n",
              "    [theme=dark] .colab-df-convert {\n",
              "      background-color: #3B4455;\n",
              "      fill: #D2E3FC;\n",
              "    }\n",
              "\n",
              "    [theme=dark] .colab-df-convert:hover {\n",
              "      background-color: #434B5C;\n",
              "      box-shadow: 0px 1px 3px 1px rgba(0, 0, 0, 0.15);\n",
              "      filter: drop-shadow(0px 1px 2px rgba(0, 0, 0, 0.3));\n",
              "      fill: #FFFFFF;\n",
              "    }\n",
              "  </style>\n",
              "\n",
              "    <script>\n",
              "      const buttonEl =\n",
              "        document.querySelector('#df-5ac2d172-ad75-4af9-bb6f-54e20dcffd87 button.colab-df-convert');\n",
              "      buttonEl.style.display =\n",
              "        google.colab.kernel.accessAllowed ? 'block' : 'none';\n",
              "\n",
              "      async function convertToInteractive(key) {\n",
              "        const element = document.querySelector('#df-5ac2d172-ad75-4af9-bb6f-54e20dcffd87');\n",
              "        const dataTable =\n",
              "          await google.colab.kernel.invokeFunction('convertToInteractive',\n",
              "                                                    [key], {});\n",
              "        if (!dataTable) return;\n",
              "\n",
              "        const docLinkHtml = 'Like what you see? Visit the ' +\n",
              "          '<a target=\"_blank\" href=https://colab.research.google.com/notebooks/data_table.ipynb>data table notebook</a>'\n",
              "          + ' to learn more about interactive tables.';\n",
              "        element.innerHTML = '';\n",
              "        dataTable['output_type'] = 'display_data';\n",
              "        await google.colab.output.renderOutput(dataTable, element);\n",
              "        const docLink = document.createElement('div');\n",
              "        docLink.innerHTML = docLinkHtml;\n",
              "        element.appendChild(docLink);\n",
              "      }\n",
              "    </script>\n",
              "  </div>\n",
              "\n",
              "\n",
              "<div id=\"df-7882f123-51ac-4fcb-a9de-c6d5e2284d12\">\n",
              "  <button class=\"colab-df-quickchart\" onclick=\"quickchart('df-7882f123-51ac-4fcb-a9de-c6d5e2284d12')\"\n",
              "            title=\"Suggest charts\"\n",
              "            style=\"display:none;\">\n",
              "\n",
              "<svg xmlns=\"http://www.w3.org/2000/svg\" height=\"24px\"viewBox=\"0 0 24 24\"\n",
              "     width=\"24px\">\n",
              "    <g>\n",
              "        <path d=\"M19 3H5c-1.1 0-2 .9-2 2v14c0 1.1.9 2 2 2h14c1.1 0 2-.9 2-2V5c0-1.1-.9-2-2-2zM9 17H7v-7h2v7zm4 0h-2V7h2v10zm4 0h-2v-4h2v4z\"/>\n",
              "    </g>\n",
              "</svg>\n",
              "  </button>\n",
              "\n",
              "<style>\n",
              "  .colab-df-quickchart {\n",
              "      --bg-color: #E8F0FE;\n",
              "      --fill-color: #1967D2;\n",
              "      --hover-bg-color: #E2EBFA;\n",
              "      --hover-fill-color: #174EA6;\n",
              "      --disabled-fill-color: #AAA;\n",
              "      --disabled-bg-color: #DDD;\n",
              "  }\n",
              "\n",
              "  [theme=dark] .colab-df-quickchart {\n",
              "      --bg-color: #3B4455;\n",
              "      --fill-color: #D2E3FC;\n",
              "      --hover-bg-color: #434B5C;\n",
              "      --hover-fill-color: #FFFFFF;\n",
              "      --disabled-bg-color: #3B4455;\n",
              "      --disabled-fill-color: #666;\n",
              "  }\n",
              "\n",
              "  .colab-df-quickchart {\n",
              "    background-color: var(--bg-color);\n",
              "    border: none;\n",
              "    border-radius: 50%;\n",
              "    cursor: pointer;\n",
              "    display: none;\n",
              "    fill: var(--fill-color);\n",
              "    height: 32px;\n",
              "    padding: 0;\n",
              "    width: 32px;\n",
              "  }\n",
              "\n",
              "  .colab-df-quickchart:hover {\n",
              "    background-color: var(--hover-bg-color);\n",
              "    box-shadow: 0 1px 2px rgba(60, 64, 67, 0.3), 0 1px 3px 1px rgba(60, 64, 67, 0.15);\n",
              "    fill: var(--button-hover-fill-color);\n",
              "  }\n",
              "\n",
              "  .colab-df-quickchart-complete:disabled,\n",
              "  .colab-df-quickchart-complete:disabled:hover {\n",
              "    background-color: var(--disabled-bg-color);\n",
              "    fill: var(--disabled-fill-color);\n",
              "    box-shadow: none;\n",
              "  }\n",
              "\n",
              "  .colab-df-spinner {\n",
              "    border: 2px solid var(--fill-color);\n",
              "    border-color: transparent;\n",
              "    border-bottom-color: var(--fill-color);\n",
              "    animation:\n",
              "      spin 1s steps(1) infinite;\n",
              "  }\n",
              "\n",
              "  @keyframes spin {\n",
              "    0% {\n",
              "      border-color: transparent;\n",
              "      border-bottom-color: var(--fill-color);\n",
              "      border-left-color: var(--fill-color);\n",
              "    }\n",
              "    20% {\n",
              "      border-color: transparent;\n",
              "      border-left-color: var(--fill-color);\n",
              "      border-top-color: var(--fill-color);\n",
              "    }\n",
              "    30% {\n",
              "      border-color: transparent;\n",
              "      border-left-color: var(--fill-color);\n",
              "      border-top-color: var(--fill-color);\n",
              "      border-right-color: var(--fill-color);\n",
              "    }\n",
              "    40% {\n",
              "      border-color: transparent;\n",
              "      border-right-color: var(--fill-color);\n",
              "      border-top-color: var(--fill-color);\n",
              "    }\n",
              "    60% {\n",
              "      border-color: transparent;\n",
              "      border-right-color: var(--fill-color);\n",
              "    }\n",
              "    80% {\n",
              "      border-color: transparent;\n",
              "      border-right-color: var(--fill-color);\n",
              "      border-bottom-color: var(--fill-color);\n",
              "    }\n",
              "    90% {\n",
              "      border-color: transparent;\n",
              "      border-bottom-color: var(--fill-color);\n",
              "    }\n",
              "  }\n",
              "</style>\n",
              "\n",
              "  <script>\n",
              "    async function quickchart(key) {\n",
              "      const quickchartButtonEl =\n",
              "        document.querySelector('#' + key + ' button');\n",
              "      quickchartButtonEl.disabled = true;  // To prevent multiple clicks.\n",
              "      quickchartButtonEl.classList.add('colab-df-spinner');\n",
              "      try {\n",
              "        const charts = await google.colab.kernel.invokeFunction(\n",
              "            'suggestCharts', [key], {});\n",
              "      } catch (error) {\n",
              "        console.error('Error during call to suggestCharts:', error);\n",
              "      }\n",
              "      quickchartButtonEl.classList.remove('colab-df-spinner');\n",
              "      quickchartButtonEl.classList.add('colab-df-quickchart-complete');\n",
              "    }\n",
              "    (() => {\n",
              "      let quickchartButtonEl =\n",
              "        document.querySelector('#df-7882f123-51ac-4fcb-a9de-c6d5e2284d12 button');\n",
              "      quickchartButtonEl.style.display =\n",
              "        google.colab.kernel.accessAllowed ? 'block' : 'none';\n",
              "    })();\n",
              "  </script>\n",
              "</div>\n",
              "\n",
              "    </div>\n",
              "  </div>\n"
            ],
            "application/vnd.google.colaboratory.intrinsic+json": {
              "type": "dataframe",
              "variable_name": "df_shuffled"
            }
          },
          "metadata": {},
          "execution_count": 22
        }
      ],
      "source": [
        "df_shuffled = df.sample(frac=1, random_state=42).reset_index(drop=True)\n",
        "df_shuffled.head(5)"
      ]
    },
    {
      "cell_type": "code",
      "execution_count": 23,
      "metadata": {
        "colab": {
          "base_uri": "https://localhost:8080/"
        },
        "id": "JvT2oTP_XTak",
        "outputId": "5e050a59-4ff3-4796-a984-d5e4a83598e6"
      },
      "outputs": [
        {
          "output_type": "stream",
          "name": "stdout",
          "text": [
            "Training set size: 317116\n",
            "Validation set size: 39639\n",
            "Test set size: 39640\n"
          ]
        }
      ],
      "source": [
        "dataset = MyDataset(df_shuffled)\n",
        "\n",
        "# Calculate lengths for train, validation, and test splits\n",
        "train_size = int(0.8 * len(dataset))\n",
        "val_size = int(0.1 * len(dataset))\n",
        "test_size = len(dataset) - train_size - val_size\n",
        "\n",
        "# Split the dataset\n",
        "dataset_train, dataset_val, dataset_test = random_split(dataset, [train_size, val_size, test_size])\n",
        "\n",
        "# Print the lengths of the datasets\n",
        "print(f\"Training set size: {len(dataset_train)}\")\n",
        "print(f\"Validation set size: {len(dataset_val)}\")\n",
        "print(f\"Test set size: {len(dataset_test)}\")"
      ]
    },
    {
      "cell_type": "code",
      "execution_count": 24,
      "metadata": {
        "colab": {
          "base_uri": "https://localhost:8080/"
        },
        "id": "_7h_TTxJXTam",
        "outputId": "82bdb9d4-22d5-4208-86da-947bc7795fc4"
      },
      "outputs": [
        {
          "output_type": "stream",
          "name": "stdout",
          "text": [
            "Batch inputs shape: torch.Size([32, 28, 50])\n",
            "Batch targets shape: torch.Size([32, 1])\n"
          ]
        }
      ],
      "source": [
        "batches = 32\n",
        "\n",
        "# Create DataLoaders for each dataset\n",
        "train_loader = DataLoader(dataset_train, batch_size=batches, shuffle=True)\n",
        "val_loader = DataLoader(dataset_val, batch_size=batches, shuffle=False)\n",
        "test_loader = DataLoader(dataset_test, batch_size=batches, shuffle=False)\n",
        "\n",
        "# Example of iterating through the DataLoader\n",
        "for batch in train_loader:\n",
        "    inputs, targets = batch\n",
        "    print(\"Batch inputs shape:\", inputs.shape)\n",
        "    print(\"Batch targets shape:\", targets.shape)\n",
        "    break\n"
      ]
    },
    {
      "cell_type": "markdown",
      "metadata": {
        "id": "-kIN2XrPXTam"
      },
      "source": [
        "# LSTM"
      ]
    },
    {
      "cell_type": "code",
      "execution_count": 25,
      "metadata": {
        "id": "6i3elFEQXTap"
      },
      "outputs": [],
      "source": [
        "class LSTM(nn.Module):\n",
        "    def __init__(self, input_dim, hidden_dim, output_dim, num_layers, dropout):\n",
        "        super(LSTM, self).__init__()\n",
        "\n",
        "        self.input_dim = input_dim\n",
        "        self.hidden_dim = hidden_dim\n",
        "        self.output_dim = output_dim\n",
        "        self.num_layers = num_layers\n",
        "        self.dropout = dropout\n",
        "\n",
        "        self.norm = nn.BatchNorm1d(input_dim)\n",
        "        self.lstm = nn.LSTM(input_dim, hidden_dim, num_layers, dropout=dropout, batch_first=True)\n",
        "        self.fc = nn.Linear(hidden_dim, output_dim)\n",
        "\n",
        "    def forward(self, x):\n",
        "        batch_size, seq_len, input_dim = x.size()\n",
        "        x = x.view(batch_size * seq_len, input_dim)     # Reshape x for batch normalization\n",
        "\n",
        "        x = self.norm(x)                                # Normalize batch\n",
        "        x = x.view(batch_size, seq_len, input_dim)      # Reshape x back to (batch_size, seq_len, input_dim)\n",
        "        h0, c0 = self.hidden_init(batch_size)           # Initialize hidden state and cell state\n",
        "        out, _ = self.lstm(x, (h0, c0))                 # LSTM forward pass\n",
        "        out = self.fc(out[:, -1, :])                    # Fully connected layer (take the last time step output)\n",
        "        return out\n",
        "\n",
        "    def hidden_init(self, batch_size):\n",
        "        h0 = torch.zeros(self.num_layers, batch_size, self.hidden_dim).to(next(self.parameters()).device)\n",
        "        c0 = torch.zeros(self.num_layers, batch_size, self.hidden_dim).to(next(self.parameters()).device)\n",
        "        return h0, c0"
      ]
    },
    {
      "cell_type": "markdown",
      "metadata": {
        "id": "M7exKr2vXTaq"
      },
      "source": [
        "# Train function"
      ]
    },
    {
      "cell_type": "code",
      "execution_count": 26,
      "metadata": {
        "id": "0XSFMzgsXTaq"
      },
      "outputs": [],
      "source": [
        "def train_model(model, train_loader, val_loader, num_epochs, learning_rate, patience):\n",
        "    # Set the model to training mode\n",
        "    model.train()\n",
        "\n",
        "    # Define the loss function and the optimizer\n",
        "    criterion = nn.BCEWithLogitsLoss()  # Binary Cross-Entropy Loss with logits for binary classification\n",
        "    optimizer = optim.Adam(model.parameters(), lr=learning_rate)\n",
        "\n",
        "    best_model_wts = copy.deepcopy(model.state_dict())\n",
        "    best_val_loss = float('inf')\n",
        "    epochs_no_improve = 0\n",
        "\n",
        "    # Training loop\n",
        "    for epoch in range(num_epochs):\n",
        "        running_loss = 0.0\n",
        "        for inputs, targets in train_loader:\n",
        "            # Move inputs and targets to the appropriate device (CPU or GPU)\n",
        "            inputs, targets = inputs.to(device), targets.to(device).float()\n",
        "\n",
        "            # Zero the parameter gradients\n",
        "            optimizer.zero_grad()\n",
        "\n",
        "            # Forward pass\n",
        "            outputs = model(inputs)  # Ensure outputs is of shape (batch_size, 1)\n",
        "            loss = criterion(outputs, targets)\n",
        "\n",
        "            # Backward pass and optimize\n",
        "            loss.backward()\n",
        "            optimizer.step()\n",
        "\n",
        "            # Accumulate the loss\n",
        "            running_loss += loss.item()\n",
        "\n",
        "        # Print average loss for the epoch\n",
        "        print(f\"Epoch [{epoch+1}/{num_epochs}], Loss: {running_loss/len(train_loader):.4f}\")\n",
        "\n",
        "        # Validate the model\n",
        "        val_loss = validate_model(model, val_loader)\n",
        "        print(f\"Validation Loss: {val_loss:.4f}\")\n",
        "\n",
        "        # Check if the validation loss improved\n",
        "        if val_loss < best_val_loss:\n",
        "            best_val_loss = val_loss\n",
        "            best_model_wts = copy.deepcopy(model.state_dict())\n",
        "            epochs_no_improve = 0\n",
        "        else:\n",
        "            epochs_no_improve += 1\n",
        "\n",
        "        # Early stopping\n",
        "        if epochs_no_improve >= patience:\n",
        "            print(f'Early stopping at epoch {epoch+1}')\n",
        "            break\n",
        "\n",
        "    # Load the best model weights\n",
        "    model.load_state_dict(best_model_wts)\n",
        "    return model\n",
        "\n",
        "def validate_model(model, val_loader):\n",
        "    model.eval()  # Set the model to evaluation mode\n",
        "    val_loss = 0.0\n",
        "    criterion = nn.BCEWithLogitsLoss()\n",
        "\n",
        "    with torch.no_grad():  # Turn off gradients for validation\n",
        "        for inputs, targets in val_loader:\n",
        "            inputs, targets = inputs.to(device), targets.to(device).float()\n",
        "            outputs = model(inputs)  # Ensure outputs is of shape (batch_size, 1)\n",
        "            loss = criterion(outputs, targets)\n",
        "            val_loss += loss.item()\n",
        "\n",
        "    model.train()  # Set the model back to training mode\n",
        "    return val_loss / len(val_loader)"
      ]
    },
    {
      "cell_type": "markdown",
      "metadata": {
        "id": "9m6l8ztmXTas"
      },
      "source": [
        "# Initialise"
      ]
    },
    {
      "cell_type": "code",
      "execution_count": 27,
      "metadata": {
        "id": "iTV4OOsgXTat"
      },
      "outputs": [],
      "source": [
        "batch_size = batches\n",
        "input_dim = embedding_dim   # The number of input features per time step. This corresponds to the dimensionality of the input vectors\n",
        "hidden_dim = 512       # The number of features in the hidden state of the LSTM. It defines the internal state representation size of the LSTM. Higher values allow the LSTM to capture more complex patterns but also increase the computational cost.\n",
        "output_dim = 1\n",
        "num_layers = 2\n",
        "dropout = 0.4\n",
        "num_epochs = 20\n",
        "learning_rate = 0.00003\n",
        "patience = 3  # Define a patience parameter for early stopping\n"
      ]
    },
    {
      "cell_type": "code",
      "execution_count": 28,
      "metadata": {
        "colab": {
          "base_uri": "https://localhost:8080/"
        },
        "id": "xZSaJCbcXTav",
        "outputId": "4640ce07-d200-4d21-db33-84494662d556"
      },
      "outputs": [
        {
          "output_type": "stream",
          "name": "stdout",
          "text": [
            "Epoch [1/20], Loss: 0.5716\n",
            "Validation Loss: 0.5319\n",
            "Epoch [2/20], Loss: 0.5230\n",
            "Validation Loss: 0.5247\n",
            "Epoch [3/20], Loss: 0.5115\n",
            "Validation Loss: 0.5171\n",
            "Epoch [4/20], Loss: 0.5029\n",
            "Validation Loss: 0.5094\n",
            "Epoch [5/20], Loss: 0.4948\n",
            "Validation Loss: 0.5034\n",
            "Epoch [6/20], Loss: 0.4874\n",
            "Validation Loss: 0.5026\n",
            "Epoch [7/20], Loss: 0.4804\n",
            "Validation Loss: 0.4932\n",
            "Epoch [8/20], Loss: 0.4744\n",
            "Validation Loss: 0.4886\n",
            "Epoch [9/20], Loss: 0.4678\n",
            "Validation Loss: 0.5002\n",
            "Epoch [10/20], Loss: 0.4619\n",
            "Validation Loss: 0.4868\n",
            "Epoch [11/20], Loss: 0.4561\n",
            "Validation Loss: 0.4834\n",
            "Epoch [12/20], Loss: 0.4500\n",
            "Validation Loss: 0.4820\n",
            "Epoch [13/20], Loss: 0.4444\n",
            "Validation Loss: 0.4916\n",
            "Epoch [14/20], Loss: 0.4378\n",
            "Validation Loss: 0.4849\n",
            "Epoch [15/20], Loss: 0.4317\n",
            "Validation Loss: 0.4863\n",
            "Early stopping at epoch 15\n"
          ]
        },
        {
          "output_type": "execute_result",
          "data": {
            "text/plain": [
              "LSTM(\n",
              "  (norm): BatchNorm1d(50, eps=1e-05, momentum=0.1, affine=True, track_running_stats=True)\n",
              "  (lstm): LSTM(50, 512, num_layers=2, batch_first=True, dropout=0.4)\n",
              "  (fc): Linear(in_features=512, out_features=1, bias=True)\n",
              ")"
            ]
          },
          "metadata": {},
          "execution_count": 28
        }
      ],
      "source": [
        "\n",
        "device = torch.device('cuda' if torch.cuda.is_available() else 'cpu')\n",
        "\n",
        "# Initialize the model and move it to the appropriate device\n",
        "model = LSTM(input_dim, hidden_dim, output_dim, num_layers, dropout).to(device)\n",
        "\n",
        "# Train the model\n",
        "train_model(model, train_loader, val_loader, num_epochs, learning_rate, patience)"
      ]
    },
    {
      "cell_type": "markdown",
      "metadata": {
        "id": "iRxk_UtmXTaw"
      },
      "source": [
        "# test model"
      ]
    },
    {
      "cell_type": "code",
      "execution_count": 29,
      "metadata": {
        "id": "GEyqTIrqXTax"
      },
      "outputs": [],
      "source": [
        "def test_model(model, test_loader):\n",
        "    model.eval()  # Set the model to evaluation mode\n",
        "    all_preds = []\n",
        "    all_targets = []\n",
        "\n",
        "    with torch.no_grad():  # Turn off gradients for evaluation\n",
        "        for inputs, targets in test_loader:\n",
        "            inputs, targets = inputs.to(next(model.parameters()).device), targets.to(next(model.parameters()).device).float()\n",
        "            outputs = model(inputs)\n",
        "            preds = torch.round(torch.sigmoid(outputs))  # Apply sigmoid and round to get binary predictions\n",
        "            all_preds.append(preds.cpu())\n",
        "            all_targets.append(targets.cpu())\n",
        "\n",
        "    # Concatenate all predictions and targets\n",
        "    all_preds = torch.cat(all_preds)\n",
        "    all_targets = torch.cat(all_targets)\n",
        "\n",
        "    # Compute confusion matrix\n",
        "    cm = confusion_matrix(all_targets.numpy(), all_preds.numpy())\n",
        "    print(\"Confusion Matrix:\")\n",
        "    print(cm)\n",
        "\n",
        "    # Compute classification report\n",
        "    report = classification_report(all_targets.numpy(), all_preds.numpy(), target_names=['Class 0', 'Class 1'])\n",
        "    print(\"\\nClassification Report:\")\n",
        "    print(report)\n",
        "\n",
        "    # Plot confusion matrix\n",
        "    plt.figure(figsize=(8, 6))\n",
        "    sns.heatmap(cm, annot=True, fmt='d', cmap='Blues', xticklabels=['Class 0', 'Class 1'], yticklabels=['Class 0', 'Class 1'])\n",
        "    plt.xlabel('Predicted')\n",
        "    plt.ylabel('Actual')\n",
        "    plt.title('Confusion Matrix')\n",
        "    plt.show()\n",
        "\n"
      ]
    },
    {
      "cell_type": "code",
      "execution_count": 30,
      "metadata": {
        "colab": {
          "base_uri": "https://localhost:8080/",
          "height": 802
        },
        "id": "aJ6XWhn9XTay",
        "outputId": "8bcbc87f-9660-437c-833d-d3de3eb77836"
      },
      "outputs": [
        {
          "output_type": "stream",
          "name": "stdout",
          "text": [
            "Confusion Matrix:\n",
            "[[15670  4184]\n",
            " [ 4774 15012]]\n",
            "\n",
            "Classification Report:\n",
            "              precision    recall  f1-score   support\n",
            "\n",
            "     Class 0       0.77      0.79      0.78     19854\n",
            "     Class 1       0.78      0.76      0.77     19786\n",
            "\n",
            "    accuracy                           0.77     39640\n",
            "   macro avg       0.77      0.77      0.77     39640\n",
            "weighted avg       0.77      0.77      0.77     39640\n",
            "\n"
          ]
        },
        {
          "output_type": "display_data",
          "data": {
            "text/plain": [
              "<Figure size 800x600 with 2 Axes>"
            ],
            "image/png": "[encoded data removed]"
          },
          "metadata": {}
        }
      ],
      "source": [
        "# Example usage\n",
        "test_model(model, test_loader)"
      ]
    },
    {
      "cell_type": "markdown",
      "source": [
        "# Save model"
      ],
      "metadata": {
        "id": "PX-7srDD1NO-"
      }
    },
    {
      "cell_type": "code",
      "source": [
        "# Save the best model weights\n",
        "torch.save(model.state_dict(), 'model_weights.pth')\n",
        "\n",
        "# Save the model architecture and parameters\n",
        "torch.save({\n",
        "    'input_dim': input_dim,\n",
        "    'hidden_dim': hidden_dim,\n",
        "    'output_dim': output_dim,\n",
        "    'num_layers': num_layers,\n",
        "    'dropout': dropout,\n",
        "    'state_dict': model.state_dict()\n",
        "}, 'model_checkpoint.pth')\n"
      ],
      "metadata": {
        "id": "kn2gfaHr1Obz"
      },
      "execution_count": 31,
      "outputs": []
    }
  ],
  "metadata": {
    "kernelspec": {
      "display_name": "Python 3",
      "name": "python3"
    },
    "language_info": {
      "codemirror_mode": {
        "name": "ipython",
        "version": 3
      },
      "file_extension": ".py",
      "mimetype": "text/x-python",
      "name": "python",
      "nbconvert_exporter": "python",
      "pygments_lexer": "ipython3",
      "version": "3.10.13"
    },
    "colab": {
      "provenance": [],
      "machine_shape": "hm",
      "gpuType": "T4"
    },
    "accelerator": "GPU"
  },
  "nbformat": 4,
  "nbformat_minor": 0
}