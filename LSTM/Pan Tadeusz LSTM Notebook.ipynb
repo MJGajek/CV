{
  "cells": [
    {
      "cell_type": "markdown",
      "metadata": {
        "id": "PoUvUZ-FALA6"
      },
      "source": [
        "What can i try to add to my model to make it better.\n",
        "\n",
        "- masks\n",
        "- attention\n",
        "- batch normalisation\n",
        "- POS Tagging or Syntax Parsing: Train the model to predict part-of-speech tags or parse trees alongside character prediction to provide additional linguistic context.\n",
        "- Subword Information: Use subword units (like byte-pair encoding) to create embeddings that are sensitive to character composition, improving the handling of rare or out-of-vocabulary words.\n",
        "- remove punctuation"
      ]
    },
    {
      "cell_type": "code",
      "execution_count": 1,
      "metadata": {
        "id": "DTOFB-ys0hN5"
      },
      "outputs": [],
      "source": [
        "import glob\n",
        "import os\n",
        "from google.colab import files\n",
        "import matplotlib.pyplot as plt\n",
        "import random\n",
        "from IPython.display import clear_output\n",
        "import numpy as np\n",
        "import math\n",
        "\n",
        "import torch\n",
        "import torch.nn as nn\n",
        "import torch.optim as optim\n",
        "from torch.nn.utils import clip_grad_norm_\n",
        "from torch.utils.data import Dataset, DataLoader\n",
        "import torch.nn.functional as F\n",
        "from torch.cuda.amp import GradScaler, autocast\n",
        "from torch.optim.lr_scheduler import OneCycleLR\n",
        "from torch.optim.lr_scheduler import ReduceLROnPlateau, StepLR\n"
      ]
    },
    {
      "cell_type": "markdown",
      "metadata": {
        "id": "8hn9mAoFB-pM"
      },
      "source": [
        "# 1. Data Preparation"
      ]
    },
    {
      "cell_type": "markdown",
      "metadata": {
        "id": "JIqH3Ov6AUG7"
      },
      "source": [
        "## Load Data\n",
        "First we need to load our data and see if it was loaded properly. We will also see the list of characters used in the text. This first examinetions will tell us how to process the data in next steps"
      ]
    },
    {
      "cell_type": "code",
      "execution_count": 2,
      "metadata": {
        "colab": {
          "base_uri": "https://localhost:8080/"
        },
        "id": "WnXtQCyi0pxL",
        "outputId": "187492d1-f209-4b8b-f8d6-bdd4fa8d2c02"
      },
      "outputs": [
        {
          "output_type": "stream",
          "name": "stdout",
          "text": [
            "The file exists: /content/Pan Tadeusz.txt\n"
          ]
        }
      ],
      "source": [
        "file_path = '/content/Pan Tadeusz.txt'\n",
        "\n",
        "# Check if the file exists in the specified directory\n",
        "if os.path.exists(file_path):\n",
        "    print(f\"The file exists: {file_path}\")\n",
        "else:\n",
        "    print(\"The file does not exist in the specified directory.\")"
      ]
    },
    {
      "cell_type": "code",
      "execution_count": 3,
      "metadata": {
        "colab": {
          "base_uri": "https://localhost:8080/"
        },
        "id": "p4alCCLn0zFH",
        "outputId": "5bc453a2-a66f-4e04-fced-edd95415c173"
      },
      "outputs": [
        {
          "output_type": "stream",
          "name": "stdout",
          "text": [
            "litwo! ojczyzno moja! ty jesteś jak zdrowie:\n",
            "ile cię trzeba cenić, ten tylko się dowie,\n",
            "kto cię stracił. dziś piękność twą w całej ozdobie\n",
            "widzę i opisuję, bo tęsknię po tobie.\n",
            "\n",
            "    panno święta, co jasnej bronisz częstochowy\n",
            "i w ostrej świecisz bramie! ty, co gród zamkowy\n",
            "nowogródzki ochraniasz z j\n"
          ]
        }
      ],
      "source": [
        "text_raw = open(file_path, 'r').read().lower()\n",
        "print(text_raw[:300])"
      ]
    },
    {
      "cell_type": "code",
      "execution_count": 4,
      "metadata": {
        "colab": {
          "base_uri": "https://localhost:8080/"
        },
        "id": "LFDqGm-x2sN7",
        "outputId": "0df3b2d8-b5c6-41fe-e4a5-afcbf3c131ed"
      },
      "outputs": [
        {
          "output_type": "stream",
          "name": "stdout",
          "text": [
            "['\\n', ' ', '!', '(', ')', '*', ',', '-', '.', '/', '1', '2', '8', ':', ';', '?', 'a', 'b', 'c', 'd', 'e', 'f', 'g', 'h', 'i', 'j', 'k', 'l', 'm', 'n', 'o', 'p', 'q', 'r', 's', 't', 'u', 'v', 'w', 'x', 'y', 'z', '«', '»', 'ó', 'ą', 'ć', 'ę', 'ł', 'ń', 'ś', 'ź', 'ż', '—', '…']\n",
            "55\n"
          ]
        }
      ],
      "source": [
        "characters = sorted(set(text_raw))\n",
        "print(characters)\n",
        "print(len(characters))"
      ]
    },
    {
      "cell_type": "code",
      "execution_count": 5,
      "metadata": {
        "colab": {
          "base_uri": "https://localhost:8080/"
        },
        "id": "LQIVay-V21ni",
        "outputId": "cdd77af8-0891-4afd-cf5e-d40c7b5cb45e"
      },
      "outputs": [
        {
          "output_type": "execute_result",
          "data": {
            "text/plain": [
              "445243"
            ]
          },
          "metadata": {},
          "execution_count": 5
        }
      ],
      "source": [
        "len(text_raw)"
      ]
    },
    {
      "cell_type": "markdown",
      "metadata": {
        "id": "UyKO5roxApys"
      },
      "source": [
        "## Preprocessing\n",
        "Now that we have some idea about the text we got we can begin processing it. First i will remove characters that are wrong like numbers or will not be usefull. (to many characters unneceserily increases complexity of paterns that our model will try to capture)"
      ]
    },
    {
      "cell_type": "markdown",
      "metadata": {
        "id": "O5Jg4lOHBGvL"
      },
      "source": [
        "### Remove characters"
      ]
    },
    {
      "cell_type": "code",
      "execution_count": 6,
      "metadata": {
        "colab": {
          "base_uri": "https://localhost:8080/"
        },
        "id": "Kbne09tk3Mpd",
        "outputId": "abfa6bb4-a85e-42e6-d788-a32e2a98b9ea"
      },
      "outputs": [
        {
          "output_type": "execute_result",
          "data": {
            "text/plain": [
              "427397"
            ]
          },
          "metadata": {},
          "execution_count": 6
        }
      ],
      "source": [
        "chars_to_remove = '()*-/128«»—…!:;?,.'\n",
        "for char in chars_to_remove:\n",
        "    text_raw = text_raw.replace(char, '')\n",
        "\n",
        "len(text_raw)"
      ]
    },
    {
      "cell_type": "code",
      "execution_count": 7,
      "metadata": {
        "colab": {
          "base_uri": "https://localhost:8080/"
        },
        "id": "jdjk6svR-s8c",
        "outputId": "794dff8b-bbc6-4d22-bb6f-7ab754ccfe46"
      },
      "outputs": [
        {
          "output_type": "stream",
          "name": "stdout",
          "text": [
            "['\\n', ' ', 'a', 'b', 'c', 'd', 'e', 'f', 'g', 'h', 'i', 'j', 'k', 'l', 'm', 'n', 'o', 'p', 'q', 'r', 's', 't', 'u', 'v', 'w', 'x', 'y', 'z', 'ó', 'ą', 'ć', 'ę', 'ł', 'ń', 'ś', 'ź', 'ż']\n",
            "37\n"
          ]
        }
      ],
      "source": [
        "characters = sorted(set(text_raw))\n",
        "print(characters)\n",
        "print(len(characters))"
      ]
    },
    {
      "cell_type": "markdown",
      "metadata": {
        "id": "6DGkYlry33Fb"
      },
      "source": [
        "### Remove unneccesery lines"
      ]
    },
    {
      "cell_type": "code",
      "execution_count": 8,
      "metadata": {
        "colab": {
          "base_uri": "https://localhost:8080/"
        },
        "id": "zOlca3dP6ao3",
        "outputId": "e8eb6a23-8744-41af-fad0-a082577682fc"
      },
      "outputs": [
        {
          "output_type": "stream",
          "name": "stdout",
          "text": [
            "['litwo ojczyzno moja ty jesteś jak zdrowie', 'ile cię trzeba cenić ten tylko się dowie', 'kto cię stracił dziś piękność twą w całej ozdobie']\n"
          ]
        }
      ],
      "source": [
        "text_lines = text_raw.split('\\n')\n",
        "print(text_lines[:3])"
      ]
    },
    {
      "cell_type": "code",
      "execution_count": 9,
      "metadata": {
        "id": "4dthKZrG32NR"
      },
      "outputs": [],
      "source": [
        "def count_length_lines(text):\n",
        "    tekst_lines = text.split(\"\\n\")\n",
        "    line_length_counts = {}\n",
        "\n",
        "    for l in tekst_lines:\n",
        "        words = l.split(\" \")\n",
        "        length = len(words)\n",
        "\n",
        "        if length in line_length_counts:\n",
        "            line_length_counts[length] += 1\n",
        "        else:\n",
        "            line_length_counts[length] = 1\n",
        "\n",
        "    for length in sorted(line_length_counts.keys()):\n",
        "        print(f\"Lines with {length} words: {line_length_counts[length]}\")\n",
        "\n",
        "    # Plotting the line lengths\n",
        "    lengths = list(line_length_counts.keys())\n",
        "    counts = list(line_length_counts.values())\n",
        "\n",
        "    plt.figure(figsize=(15, 6))\n",
        "    plt.bar(lengths, counts, color='blue')\n",
        "    plt.xlabel('Number of Words in Line')\n",
        "    plt.ylabel('Number of Lines')\n",
        "    plt.title('Distribution of Line Lengths')\n",
        "    plt.xticks(lengths)\n",
        "    plt.show()\n"
      ]
    },
    {
      "cell_type": "code",
      "execution_count": 10,
      "metadata": {
        "colab": {
          "base_uri": "https://localhost:8080/",
          "height": 1000
        },
        "id": "2Wu8VzIM6HNd",
        "outputId": "9c5dcf4d-61f5-491e-8bc8-a8d108a87a56"
      },
      "outputs": [
        {
          "output_type": "stream",
          "name": "stdout",
          "text": [
            "Lines with 1 words: 878\n",
            "Lines with 2 words: 40\n",
            "Lines with 3 words: 29\n",
            "Lines with 4 words: 175\n",
            "Lines with 5 words: 951\n",
            "Lines with 6 words: 2343\n",
            "Lines with 7 words: 2787\n",
            "Lines with 8 words: 1840\n",
            "Lines with 9 words: 802\n",
            "Lines with 10 words: 395\n",
            "Lines with 11 words: 251\n",
            "Lines with 12 words: 158\n",
            "Lines with 13 words: 56\n",
            "Lines with 14 words: 24\n",
            "Lines with 15 words: 1\n",
            "Lines with 16 words: 1\n",
            "Lines with 17 words: 1\n",
            "Lines with 25 words: 2\n",
            "Lines with 26 words: 3\n",
            "Lines with 27 words: 15\n",
            "Lines with 28 words: 21\n",
            "Lines with 29 words: 12\n",
            "Lines with 30 words: 7\n",
            "Lines with 31 words: 2\n",
            "Lines with 37 words: 1\n",
            "Lines with 42 words: 1\n",
            "Lines with 46 words: 1\n",
            "Lines with 49 words: 1\n",
            "Lines with 50 words: 1\n",
            "Lines with 53 words: 1\n",
            "Lines with 54 words: 1\n",
            "Lines with 65 words: 1\n",
            "Lines with 71 words: 1\n",
            "Lines with 75 words: 1\n"
          ]
        },
        {
          "output_type": "display_data",
          "data": {
            "text/plain": [
              "<Figure size 1500x600 with 1 Axes>"
            ],
            "image/png": "[encoded data removed]"
          },
          "metadata": {}
        }
      ],
      "source": [
        "count_length_lines(text_raw)"
      ]
    },
    {
      "cell_type": "code",
      "execution_count": 11,
      "metadata": {
        "colab": {
          "base_uri": "https://localhost:8080/"
        },
        "id": "ukZvUCao7iZJ",
        "outputId": "52f7ebde-207c-48ca-bae8-4083e06c4800"
      },
      "outputs": [
        {
          "output_type": "stream",
          "name": "stdout",
          "text": [
            "narada tycząca się zabezpieczenia losu zwycięzców  układy z rykowem  pożegnanie  ważne odkrycie  nadzieja\n"
          ]
        }
      ],
      "source": [
        "def show_lines_with_length(text, length):\n",
        "    lines = text.split(\"\\n\")\n",
        "    for line in lines:\n",
        "        words = line.split(\" \")\n",
        "        if len(words) == length:\n",
        "            print(line)\n",
        "\n",
        "show_lines_with_length(text_raw, 17)"
      ]
    },
    {
      "cell_type": "code",
      "execution_count": 12,
      "metadata": {
        "id": "StHqjxEy8CEf"
      },
      "outputs": [],
      "source": [
        "def drop_lines_with_length(text, threshold_low, threshold_high):\n",
        "    lines = text.split(\"\\n\")\n",
        "    new_text = \"\"\n",
        "    for line in lines:\n",
        "        words = line.split(\" \")\n",
        "        if threshold_low <= len(words) <= threshold_high:\n",
        "            new_text += line + \"\\n\"\n",
        "    return new_text\n",
        "\n",
        "text_processed = drop_lines_with_length(text_raw, 3, 17)"
      ]
    },
    {
      "cell_type": "code",
      "execution_count": 13,
      "metadata": {
        "colab": {
          "base_uri": "https://localhost:8080/",
          "height": 705
        },
        "id": "dHlFJOwO9WMS",
        "outputId": "141ce937-261e-49e1-bb01-d948cae51ab3"
      },
      "outputs": [
        {
          "output_type": "stream",
          "name": "stdout",
          "text": [
            "Lines with 1 words: 1\n",
            "Lines with 3 words: 29\n",
            "Lines with 4 words: 175\n",
            "Lines with 5 words: 951\n",
            "Lines with 6 words: 2343\n",
            "Lines with 7 words: 2787\n",
            "Lines with 8 words: 1840\n",
            "Lines with 9 words: 802\n",
            "Lines with 10 words: 395\n",
            "Lines with 11 words: 251\n",
            "Lines with 12 words: 158\n",
            "Lines with 13 words: 56\n",
            "Lines with 14 words: 24\n",
            "Lines with 15 words: 1\n",
            "Lines with 16 words: 1\n",
            "Lines with 17 words: 1\n"
          ]
        },
        {
          "output_type": "display_data",
          "data": {
            "text/plain": [
              "<Figure size 1500x600 with 1 Axes>"
            ],
            "image/png": "[encoded data removed]"
          },
          "metadata": {}
        }
      ],
      "source": [
        "count_length_lines(text_processed)"
      ]
    },
    {
      "cell_type": "code",
      "execution_count": 14,
      "metadata": {
        "colab": {
          "base_uri": "https://localhost:8080/"
        },
        "id": "z0eWPr98GQUc",
        "outputId": "a3f56ab4-af8c-40c3-cbf7-f28767bd01de"
      },
      "outputs": [
        {
          "output_type": "stream",
          "name": "stdout",
          "text": [
            "Number of lines: 9814.\n"
          ]
        }
      ],
      "source": [
        "print(f\"Number of lines: {len(text_processed.splitlines())}.\")"
      ]
    },
    {
      "cell_type": "markdown",
      "metadata": {
        "id": "VU1Qhko4_juN"
      },
      "source": [
        "## Tokenisation"
      ]
    },
    {
      "cell_type": "code",
      "execution_count": 15,
      "metadata": {
        "id": "YQhcEbej_mlH"
      },
      "outputs": [],
      "source": [
        "int_char_dict = dict(enumerate(sorted((set(text_processed)))))\n",
        "char_int_dict = {v: k for k, v in int_char_dict.items()}\n",
        "\n",
        "#print(int_char_dict)\n",
        "#print(char_int_dict)\n",
        "\n",
        "encoded = [char_int_dict[char] for char in text_processed]"
      ]
    },
    {
      "cell_type": "markdown",
      "metadata": {
        "id": "O7qVivDjh1Pb"
      },
      "source": [
        "# 2. Model Building"
      ]
    },
    {
      "cell_type": "markdown",
      "metadata": {
        "id": "TQUZAmbxBh-y"
      },
      "source": [
        "## Parameters\n",
        "Because our code can be complex i like to keep all the key parameters in one place where i can convinintly adjust them and have the code dynamically update various inf."
      ]
    },
    {
      "cell_type": "code",
      "execution_count": 16,
      "metadata": {
        "id": "2Phm68iSHg7B"
      },
      "outputs": [],
      "source": [
        "params = {\n",
        "    'p_context_length': 22,\n",
        "    'p_prediction_length': 1,\n",
        "    'p_seed': 42,\n",
        "    'p_start_idx_dataset': 0,\n",
        "    'p_step': 1,\n",
        "    'p_train_dataset': 300000,\n",
        "    'p_valid_dataset': 30000,\n",
        "    'p_test_dataset': 30000,\n",
        "\n",
        "    'rnn_embedding_size': 128,\n",
        "    'rnn_num_layers': 2,\n",
        "    'rnn_hidden_size': 512,\n",
        "    'rnn_input_size': len(char_int_dict),\n",
        "    'rnn_output_size': len(char_int_dict),\n",
        "    'rnn_dropout': 0.5,  # Increased dropout\n",
        "    'rnn_bidirectional': True,\n",
        "\n",
        "    't_epochs_num': 7,\n",
        "    't_batch_size': 64,  # Adjusted batch size\n",
        "    't_criterion': nn.CrossEntropyLoss(),\n",
        "    't_learning_rate': 0.003,  # Reduced learning rate\n",
        "    't_momentum': 0.9,\n",
        "    't_nesterov': True,\n",
        "    't_scheduler': 'OneCycleLR',\n",
        "    't_scheduler_max_lr': 0.006,  # Adjusted max learning rate for OneCycleLR\n",
        "    't_scheduler_total_steps': None,\n",
        "    't_weight_decay': 5e-6,  # Slightly increased weight decay\n",
        "    't_print_every': 5,\n",
        "    't_plot_every': 5,\n",
        "    't_gradient_clip_value': 5,\n",
        "}\n"
      ]
    },
    {
      "cell_type": "code",
      "execution_count": 17,
      "metadata": {
        "id": "xP8V2XakOFtw"
      },
      "outputs": [],
      "source": [
        "# Dynamically update 't_scheduler_total_steps' after defining the dictionary\n",
        "params['t_scheduler_total_steps'] = params['t_epochs_num'] * math.ceil(params['p_train_dataset'] / params['t_batch_size'])\n"
      ]
    },
    {
      "cell_type": "markdown",
      "metadata": {
        "id": "mkMnCrZ4BNfS"
      },
      "source": [
        "## Dataset & Data Loader"
      ]
    },
    {
      "cell_type": "code",
      "execution_count": 18,
      "metadata": {
        "id": "yY6kVV-0QXT_"
      },
      "outputs": [],
      "source": [
        "class TextDataset(Dataset):\n",
        "    def __init__(self, text, start_idx, context_length, prediction_length, char2int, num_samples, step, seed):\n",
        "        super().__init__()\n",
        "\n",
        "        # Assert that the text length is sufficient to create the required number of samples\n",
        "        assert len(text) >= start_idx + num_samples * step + context_length + prediction_length\n",
        "\n",
        "        self.text = text\n",
        "        self.context_length = context_length\n",
        "        self.prediction_length = prediction_length\n",
        "        self.char2int = char2int\n",
        "        self.num_samples = num_samples\n",
        "        self.step = step\n",
        "        self.start_idx = start_idx\n",
        "        self.seed = seed\n",
        "        self.encoded_text = [char2int[char] for char in text]\n",
        "\n",
        "        # Set the random seed for reproducibility\n",
        "        random.seed(self.seed)\n",
        "        np.random.seed(self.seed)\n",
        "\n",
        "        # Create sequences\n",
        "        self.input_sequences, self.target_sequences = self.create_sequences()\n",
        "\n",
        "    def create_sequences(self):\n",
        "        input_sequences = []\n",
        "        target_sequences = []\n",
        "        text_length = len(self.encoded_text)\n",
        "        start_idx = self.start_idx\n",
        "\n",
        "        while len(input_sequences) < self.num_samples and start_idx + self.context_length + self.prediction_length <= text_length:\n",
        "            input_seq = self.encoded_text[start_idx:start_idx + self.context_length]\n",
        "            target_seq = self.encoded_text[start_idx + self.context_length:start_idx + self.context_length + self.prediction_length]\n",
        "            input_sequences.append(input_seq)\n",
        "            target_sequences.append(target_seq)\n",
        "            start_idx += self.step\n",
        "\n",
        "        return input_sequences, target_sequences\n",
        "\n",
        "    def __len__(self):\n",
        "        return len(self.input_sequences)\n",
        "\n",
        "    def __getitem__(self, idx):\n",
        "        input_seq = torch.tensor(self.input_sequences[idx], dtype=torch.long)\n",
        "        target_seq = torch.tensor(self.target_sequences[idx], dtype=torch.long)\n",
        "\n",
        "        return input_seq, target_seq\n"
      ]
    },
    {
      "cell_type": "code",
      "execution_count": 19,
      "metadata": {
        "id": "UVoEIniOTQGM"
      },
      "outputs": [],
      "source": [
        "# Create datasets\n",
        "train_dataset = TextDataset(text_processed,\n",
        "                            params['p_start_idx_dataset'],\n",
        "                            params['p_context_length'],\n",
        "                            params['p_prediction_length'],\n",
        "                            char_int_dict,\n",
        "                            params['p_train_dataset'],\n",
        "                            params['p_step'],\n",
        "                            params['p_seed'])\n",
        "\n",
        "\n",
        "# Create DataLoader\n",
        "train_loader = DataLoader(train_dataset, batch_size=params['t_batch_size'], shuffle=True, num_workers=2)\n"
      ]
    },
    {
      "cell_type": "code",
      "execution_count": 20,
      "metadata": {
        "colab": {
          "base_uri": "https://localhost:8080/"
        },
        "id": "SkKRmUmlRGcy",
        "outputId": "0e4e8cb4-d151-4253-dab3-c4dbea0dddc0"
      },
      "outputs": [
        {
          "output_type": "stream",
          "name": "stdout",
          "text": [
            "300000\n"
          ]
        }
      ],
      "source": [
        "print(train_dataset.__len__())\n"
      ]
    },
    {
      "cell_type": "code",
      "execution_count": 21,
      "metadata": {
        "colab": {
          "base_uri": "https://localhost:8080/"
        },
        "id": "Xx4SgJZzVP08",
        "outputId": "483f3d7e-1b48-4f67-a57d-19f73a814e2e"
      },
      "outputs": [
        {
          "output_type": "stream",
          "name": "stdout",
          "text": [
            "Train Dataset length: 300000\n",
            "Input Sequence: tensor([11,  1, 16, 27,  5, 16,  3, 10,  6,  0, 24, 10,  5, 27, 31,  1, 10,  1,\n",
            "        16, 17, 10, 20]), \n",
            "Target Sequence: tensor([22])\n"
          ]
        }
      ],
      "source": [
        "# Check the length and some samples from the dataset\n",
        "print(\"Train Dataset length:\", len(train_dataset))\n",
        "input_seq, target_seq = train_dataset[123]\n",
        "print(f\"Input Sequence: {input_seq}, \\n\"\n",
        "      f\"Target Sequence: {target_seq}\")"
      ]
    },
    {
      "cell_type": "markdown",
      "metadata": {
        "id": "loo6sflmBX9O"
      },
      "source": [
        "## Model Architecture"
      ]
    },
    {
      "cell_type": "code",
      "execution_count": 22,
      "metadata": {
        "id": "eKmv9ewkKTXR"
      },
      "outputs": [],
      "source": [
        "class LSTMModel(nn.Module):\n",
        "    def __init__(self, input_size, embedding_size, hidden_size, output_size, num_layers, dropout, bidirectional):\n",
        "        super().__init__()\n",
        "\n",
        "        self.input_size = input_size\n",
        "        self.embedding_size = embedding_size\n",
        "        self.hidden_size = hidden_size\n",
        "        self.output_size = output_size\n",
        "        self.num_layers = num_layers\n",
        "        self.dropout = dropout\n",
        "        self.bidirectional = bidirectional\n",
        "\n",
        "        self.embedding = nn.Embedding(input_size, embedding_size)\n",
        "        self.lstm = nn.LSTM(embedding_size, hidden_size, num_layers, batch_first=True, dropout=dropout, bidirectional=bidirectional)\n",
        "        self.normalization = nn.LayerNorm(hidden_size * (2 if bidirectional else 1))\n",
        "        self.dropout_layer = nn.Dropout(dropout)\n",
        "        self.fc = nn.Linear(hidden_size * (2 if bidirectional else 1), output_size)\n",
        "\n",
        "        self.apply(self._init_weights)  # Apply Xavier Initialization\n",
        "\n",
        "    def _init_weights(self, module):\n",
        "        if isinstance(module, nn.Linear):\n",
        "            nn.init.xavier_uniform_(module.weight)\n",
        "        elif isinstance(module, nn.LSTM):\n",
        "            for name, param in module.named_parameters():\n",
        "                if 'weight' in name:\n",
        "                    nn.init.xavier_uniform_(param)\n",
        "\n",
        "    def forward(self, x, hidden):\n",
        "        x = self.embedding(x)\n",
        "        #print(f\"embedding shape: {x.shape}\")\n",
        "        lstm_out, hidden = self.lstm(x, hidden)\n",
        "        #print(f\"lstm_out shape: {lstm_out.shape}\")\n",
        "        lstm_out = self.normalization(lstm_out)\n",
        "        #print(f\"normalization shape: {lstm_out.shape}\")\n",
        "        lstm_out = self.dropout_layer(lstm_out)\n",
        "        #print(f\"dropout shape: {lstm_out.shape}\")\n",
        "\n",
        "        output = self.fc(lstm_out)\n",
        "        #print(f\"output shape: {output.shape}\")\n",
        "\n",
        "        output = output[:, -params['p_prediction_length']:, :]\n",
        "        #print(f\"extracted output shape: {output.shape}\")\n",
        "\n",
        "        return output, hidden\n",
        "\n",
        "    def init_hidden(self, batch_size, device):\n",
        "        weight = next(self.parameters()).data\n",
        "        num_directions = 2 if self.bidirectional else 1\n",
        "        hidden = (weight.new_zeros(self.num_layers * num_directions, batch_size, self.hidden_size).to(device),\n",
        "                  weight.new_zeros(self.num_layers * num_directions, batch_size, self.hidden_size).to(device))\n",
        "        return hidden\n"
      ]
    },
    {
      "cell_type": "markdown",
      "metadata": {
        "id": "Rr-uNNcvBdG7"
      },
      "source": [
        "## Training Loop"
      ]
    },
    {
      "cell_type": "markdown",
      "metadata": {
        "id": "ji5wxcJH1bGN"
      },
      "source": [
        "### Learning rate finder"
      ]
    },
    {
      "cell_type": "code",
      "execution_count": 23,
      "metadata": {
        "id": "J8DaRl2u1dpH"
      },
      "outputs": [],
      "source": [
        "def find_lr(model, train_loader, criterion, optimizer, init_value=1e-8, final_value=10.0, beta=0.98):\n",
        "    num = len(train_loader) - 1\n",
        "    mult = (final_value / init_value) ** (1/num)\n",
        "    lr = init_value\n",
        "    optimizer.param_groups[0]['lr'] = lr\n",
        "    avg_loss = 0.0\n",
        "    best_loss = 0.0\n",
        "    batch_num = 0\n",
        "    losses = []\n",
        "    log_lrs = []\n",
        "\n",
        "    for input_seq, target_seq in train_loader:\n",
        "        batch_num += 1\n",
        "        input_seq, target_seq = input_seq.to(device), target_seq.to(device)\n",
        "\n",
        "        # Reset gradients\n",
        "        optimizer.zero_grad()\n",
        "\n",
        "        # Forward pass\n",
        "        output, hidden = model(input_seq, model.init_hidden(input_seq.size(0), device))\n",
        "        loss = criterion(output.reshape(-1, model.output_size), target_seq.reshape(-1))\n",
        "\n",
        "        # Compute the smoothed loss\n",
        "        avg_loss = beta * avg_loss + (1 - beta) * loss.item()\n",
        "        smoothed_loss = avg_loss / (1 - beta**batch_num)\n",
        "\n",
        "        # Stop if the loss is exploding\n",
        "        if batch_num > 1 and smoothed_loss > 4 * best_loss:\n",
        "            return log_lrs, losses\n",
        "\n",
        "        # Record the best loss\n",
        "        if smoothed_loss < best_loss or batch_num == 1:\n",
        "            best_loss = smoothed_loss\n",
        "\n",
        "        # Store the values\n",
        "        losses.append(smoothed_loss)\n",
        "        log_lrs.append(lr)\n",
        "\n",
        "        # Backward pass\n",
        "        loss.backward()\n",
        "\n",
        "        # Clip gradients\n",
        "        clip_grad_norm_(model.parameters(), params['t_gradient_clip_value'])\n",
        "\n",
        "        # Update parameters\n",
        "        optimizer.step()\n",
        "\n",
        "        # Update learning rate\n",
        "        lr *= mult\n",
        "        optimizer.param_groups[0]['lr'] = lr\n",
        "\n",
        "    return log_lrs, losses\n"
      ]
    },
    {
      "cell_type": "markdown",
      "metadata": {
        "id": "amWCRfHW1j8c"
      },
      "source": [
        "### Xavier weight initialization"
      ]
    },
    {
      "cell_type": "code",
      "execution_count": 24,
      "metadata": {
        "id": "NWFmf0ze1mBG"
      },
      "outputs": [],
      "source": [
        "# Xavier Initialization\n",
        "def weights_init(m):\n",
        "    if isinstance(m, nn.Linear) or isinstance(m, nn.Conv2d):\n",
        "        nn.init.xavier_uniform_(m.weight)"
      ]
    },
    {
      "cell_type": "markdown",
      "metadata": {
        "id": "OMxLi3khSmV9"
      },
      "source": [
        "### Early stopping"
      ]
    },
    {
      "cell_type": "code",
      "execution_count": 25,
      "metadata": {
        "id": "o8Qxd5ZQPzEP"
      },
      "outputs": [],
      "source": [
        "class EarlyStopping:\n",
        "    def __init__(self, patience=10, verbose=False, delta=0):\n",
        "        self.patience = patience\n",
        "        self.verbose = verbose\n",
        "        self.counter = 0\n",
        "        self.best_score = None\n",
        "        self.early_stop = False\n",
        "        self.val_loss_min = float('inf')\n",
        "        self.delta = delta\n",
        "\n",
        "    def __call__(self, val_loss, model, optimizer, scheduler, epoch):\n",
        "        score = -val_loss\n",
        "\n",
        "        if self.best_score is None:\n",
        "            self.best_score = score\n",
        "            self.save_checkpoint(val_loss, model, optimizer, scheduler, epoch)\n",
        "        elif score < self.best_score + self.delta:\n",
        "            self.counter += 1\n",
        "            if self.verbose:\n",
        "                print(f'EarlyStopping counter: {self.counter} out of {self.patience}')\n",
        "            if self.counter >= self.patience:\n",
        "                self.early_stop = True\n",
        "        else:\n",
        "            self.best_score = score\n",
        "            self.save_checkpoint(val_loss, model, optimizer, scheduler, epoch)\n",
        "            self.counter = 0\n",
        "\n",
        "    def save_checkpoint(self, val_loss, model, optimizer, scheduler, epoch):\n",
        "        '''Saves model when validation loss decreases.'''\n",
        "        if self.verbose:\n",
        "            print(f'Validation loss decreased ({self.val_loss_min:.6f} --> {val_loss:.6f}). Saving model ...')\n",
        "        save_checkpoint(model, optimizer, scheduler, epoch, val_loss, self.val_loss_min)\n",
        "        self.val_loss_min = val_loss"
      ]
    },
    {
      "cell_type": "markdown",
      "metadata": {
        "id": "z5YI_a76BajN"
      },
      "source": [
        "### Save & Load checkpoint"
      ]
    },
    {
      "cell_type": "code",
      "execution_count": 26,
      "metadata": {
        "id": "PdgQWo10SnMb"
      },
      "outputs": [],
      "source": [
        "def save_checkpoint(model, optimizer, scheduler, epoch, loss, best_loss, checkpoint_path='checkpoint.pth'):\n",
        "    state = {\n",
        "        'epoch': epoch,\n",
        "        'model_state_dict': model.state_dict(),\n",
        "        'optimizer_state_dict': optimizer.state_dict(),\n",
        "        'scheduler_state_dict': scheduler.state_dict(),\n",
        "        'loss': loss,\n",
        "        'best_loss': best_loss,\n",
        "        'params': params\n",
        "    }\n",
        "    torch.save(state, checkpoint_path)\n",
        "    print(f'Checkpoint saved at epoch {epoch} with loss {loss:.4f}')"
      ]
    },
    {
      "cell_type": "code",
      "execution_count": 27,
      "metadata": {
        "id": "Hd5iaudwDu7p"
      },
      "outputs": [],
      "source": [
        "def load_checkpoint(checkpoint_path, model, optimizer=None, scheduler=None):\n",
        "    checkpoint = torch.load(checkpoint_path)\n",
        "\n",
        "    # Check if 'model_state_dict' key is present\n",
        "    if 'model_state_dict' in checkpoint:\n",
        "        model.load_state_dict(checkpoint['model_state_dict'])\n",
        "    else:\n",
        "        model.load_state_dict(checkpoint)  # Assume the checkpoint itself is the state_dict\n",
        "\n",
        "    # Only attempt to load optimizer and scheduler states if they are provided\n",
        "    if optimizer and 'optimizer_state_dict' in checkpoint:\n",
        "        optimizer.load_state_dict(checkpoint['optimizer_state_dict'])\n",
        "\n",
        "    if scheduler and 'scheduler_state_dict' in checkpoint:\n",
        "        scheduler.load_state_dict(checkpoint['scheduler_state_dict'])\n",
        "\n",
        "    # Use .get to provide default values in case keys are missing\n",
        "    epoch = checkpoint.get('epoch', 0)\n",
        "    loss = checkpoint.get('loss', float('inf'))\n",
        "    best_loss = checkpoint.get('best_loss', float('inf'))\n",
        "    params.update(checkpoint.get('params', {}))\n",
        "\n",
        "    print(f'Checkpoint loaded: epoch {epoch} with loss {loss:.4f}')\n",
        "    return epoch, loss, best_loss"
      ]
    },
    {
      "cell_type": "markdown",
      "metadata": {
        "id": "6dFyQMzqSn04"
      },
      "source": [
        "### Validation function"
      ]
    },
    {
      "cell_type": "code",
      "execution_count": 28,
      "metadata": {
        "id": "-81MGrxqe569"
      },
      "outputs": [],
      "source": [
        "def validate(model, val_loader, criterion, device):\n",
        "    model.eval()\n",
        "    val_loss = 0\n",
        "    with torch.no_grad():\n",
        "        for input_seq, target_seq in val_loader:\n",
        "            input_seq, target_seq = input_seq.to(device), target_seq.to(device)\n",
        "            batch_size = input_seq.size(0)\n",
        "\n",
        "            hidden = model.init_hidden(batch_size, device)\n",
        "            output, hidden = model(input_seq, hidden)\n",
        "            hidden = (hidden[0].detach(), hidden[1].detach())  # Detach hidden and cell state\n",
        "\n",
        "            output = output.contiguous().view(-1, model.output_size)\n",
        "            target_seq = target_seq.contiguous().view(-1)\n",
        "            val_loss += criterion(output, target_seq).item()\n",
        "\n",
        "    return val_loss / len(val_loader)"
      ]
    },
    {
      "cell_type": "markdown",
      "metadata": {
        "id": "58ckmxFPlHH_"
      },
      "source": [
        "### Training function"
      ]
    },
    {
      "cell_type": "code",
      "execution_count": 29,
      "metadata": {
        "id": "eZEercDoSK46"
      },
      "outputs": [],
      "source": [
        "def training(model, train_loader, val_loader, start_epoch=0, best_loss=float('inf'), checkpoint_path='checkpoint.pth', use_amp=True, weight_decay=1e-5):\n",
        "    device = torch.device('cuda' if torch.cuda.is_available() else 'cpu')\n",
        "    criterion = params['t_criterion']\n",
        "    optimizer = optim.AdamW(model.parameters(), lr=params['t_learning_rate'], weight_decay=weight_decay)\n",
        "\n",
        "    scheduler = OneCycleLR(optimizer, max_lr=params['t_scheduler_max_lr'], total_steps=params['t_scheduler_total_steps'])\n",
        "\n",
        "    scaler = GradScaler(enabled=use_amp)\n",
        "    early_stopping = EarlyStopping(patience=10, verbose=True)\n",
        "\n",
        "    loss_train = []\n",
        "    loss_val = []\n",
        "\n",
        "    for epoch in range(start_epoch, params['t_epochs_num']):\n",
        "        model.train()\n",
        "        loss_epoch = []\n",
        "\n",
        "        for i, (input_seq, target_seq) in enumerate(train_loader):\n",
        "            input_seq, target_seq = input_seq.to(device), target_seq.to(device)\n",
        "            batch_size = input_seq.size(0)\n",
        "\n",
        "            hidden = model.init_hidden(batch_size, device)\n",
        "\n",
        "            optimizer.zero_grad()\n",
        "\n",
        "            with autocast(enabled=use_amp):\n",
        "                output, hidden = model(input_seq, hidden)\n",
        "                hidden = (hidden[0].detach(), hidden[1].detach())  # Detach hidden and cell state\n",
        "\n",
        "                output = output.contiguous().view(-1, model.output_size)\n",
        "                target_seq = target_seq.contiguous().view(-1)\n",
        "\n",
        "                loss = criterion(output, target_seq)\n",
        "\n",
        "            scaler.scale(loss).backward()\n",
        "            clip_grad_norm_(model.parameters(), params['t_gradient_clip_value'])\n",
        "            scaler.step(optimizer)\n",
        "            scaler.update()\n",
        "\n",
        "            scheduler.step()\n",
        "\n",
        "            loss_epoch.append(loss.item())\n",
        "\n",
        "        avg_loss_epoch = sum(loss_epoch) / len(loss_epoch)\n",
        "        loss_train.append(avg_loss_epoch)\n",
        "\n",
        "        avg_val_loss = validate(model, val_loader, criterion, device)\n",
        "        loss_val.append(avg_val_loss)\n",
        "\n",
        "        print(f'Epoch [{epoch + 1}/{params[\"t_epochs_num\"]}], Training Loss: {avg_loss_epoch:.4f}, Validation Loss: {avg_val_loss:.4f}')\n",
        "\n",
        "        # Save checkpoint\n",
        "        save_checkpoint(model, optimizer, scheduler, epoch + 1, avg_loss_epoch, best_loss, checkpoint_path)\n",
        "\n",
        "        # Check early stopping\n",
        "        early_stopping(avg_val_loss, model, optimizer, scheduler, epoch + 1)\n",
        "        if early_stopping.early_stop:\n",
        "            print(\"Early stopping\")\n",
        "            break\n",
        "\n",
        "        # Save the best model\n",
        "        if avg_val_loss < best_loss:\n",
        "            best_loss = avg_val_loss\n",
        "            torch.save(model.state_dict(), 'best_model.pth')\n",
        "            with open('best_model_params.txt', 'w') as f:\n",
        "                f.write(f'Epoch: {epoch + 1}\\n')\n",
        "                f.write(f'Training Loss: {avg_loss_epoch:.4f}\\n')\n",
        "                f.write(f'Validation Loss: {avg_val_loss:.4f}\\n')\n",
        "                f.write(f'Best Loss: {best_loss:.4f}\\n')\n",
        "\n",
        "    return loss_train, loss_val"
      ]
    },
    {
      "cell_type": "markdown",
      "metadata": {
        "id": "Puhi3UZQB2-A"
      },
      "source": [
        "# 3. Model Training"
      ]
    },
    {
      "cell_type": "markdown",
      "metadata": {
        "id": "VXA73ohzmTA3"
      },
      "source": [
        "## Device"
      ]
    },
    {
      "cell_type": "code",
      "execution_count": 30,
      "metadata": {
        "colab": {
          "base_uri": "https://localhost:8080/"
        },
        "id": "05IZ4RLpmatF",
        "outputId": "2a33ea2e-f602-4423-eb0f-5de5f289a5a5"
      },
      "outputs": [
        {
          "output_type": "stream",
          "name": "stdout",
          "text": [
            "Using GPU: Tesla T4\n"
          ]
        }
      ],
      "source": [
        "# Check if GPU is available\n",
        "if torch.cuda.is_available():\n",
        "    device = torch.device('cuda')\n",
        "    print(\"Using GPU:\", torch.cuda.get_device_name(0))\n",
        "else:\n",
        "    device = torch.device('cpu')\n",
        "    print(\"Using CPU\")"
      ]
    },
    {
      "cell_type": "code",
      "execution_count": 31,
      "metadata": {
        "id": "wP8qnMyXmN5E"
      },
      "outputs": [],
      "source": [
        "device = torch.device('cuda' if torch.cuda.is_available() else 'cpu')"
      ]
    },
    {
      "cell_type": "markdown",
      "metadata": {
        "id": "SvJzPRxnCIMw"
      },
      "source": [
        "## Create datasets and dataloader"
      ]
    },
    {
      "cell_type": "code",
      "execution_count": 32,
      "metadata": {
        "id": "MwlPYlSLdS6I"
      },
      "outputs": [],
      "source": [
        "# Create datasets\n",
        "train_dataset = TextDataset(text_processed,\n",
        "                            params['p_start_idx_dataset'],\n",
        "                            params['p_context_length'],\n",
        "                            params['p_prediction_length'],\n",
        "                            char_int_dict,\n",
        "                            params['p_train_dataset'],\n",
        "                            params['p_step'],\n",
        "                            params['p_seed'])\n",
        "\n",
        "valid_dataset = TextDataset(text_processed,\n",
        "                            params['p_start_idx_dataset'] + params['p_step']*(params['p_train_dataset']),\n",
        "                            params['p_context_length'],\n",
        "                            params['p_prediction_length'],\n",
        "                            char_int_dict,\n",
        "                            params['p_valid_dataset'],\n",
        "                            params['p_step'],\n",
        "                            params['p_seed'])\n",
        "\n",
        "test_dataset = TextDataset(text_processed,\n",
        "                           params['p_start_idx_dataset'] + params['p_step']*(params['p_valid_dataset'] + params['p_train_dataset']),\n",
        "                           params['p_context_length'],\n",
        "                           params['p_prediction_length'],\n",
        "                           char_int_dict,\n",
        "                           params['p_test_dataset'],\n",
        "                           params['p_step'],\n",
        "                           params['p_seed'])\n",
        "\n",
        "# Create DataLoaders\n",
        "train_loader = DataLoader(train_dataset, batch_size=params['t_batch_size'], shuffle=True, num_workers=2)\n",
        "valid_loader = DataLoader(valid_dataset, batch_size=params['t_batch_size'], shuffle=False, num_workers=2)\n",
        "test_loader = DataLoader(test_dataset, batch_size=params['t_batch_size'], shuffle=False, num_workers=2)"
      ]
    },
    {
      "cell_type": "code",
      "execution_count": 33,
      "metadata": {
        "colab": {
          "base_uri": "https://localhost:8080/"
        },
        "id": "IYtRTGjWdgS6",
        "outputId": "4bb46589-76b7-4d7a-a9ab-63045937a5fa"
      },
      "outputs": [
        {
          "output_type": "stream",
          "name": "stdout",
          "text": [
            "300000\n",
            "30000\n",
            "30000\n"
          ]
        }
      ],
      "source": [
        "print(train_dataset.__len__())\n",
        "print(valid_dataset.__len__())\n",
        "print(test_dataset.__len__())"
      ]
    },
    {
      "cell_type": "code",
      "execution_count": 34,
      "metadata": {
        "colab": {
          "base_uri": "https://localhost:8080/"
        },
        "id": "H8TPefXcrdqY",
        "outputId": "5d8b3a81-b022-471b-f62e-8cbd0d192f31"
      },
      "outputs": [
        {
          "output_type": "stream",
          "name": "stdout",
          "text": [
            "Val Dataset length: 30000\n",
            "Input Sequence: tensor([ 1,  2,  1,  3, 26, 32,  2,  1, 11, 22, 36,  1,  5,  2, 24, 15, 16,  1,\n",
            "        15,  2,  3, 10]), \n",
            "Target Sequence: tensor([21])\n"
          ]
        }
      ],
      "source": [
        "# Check the length and some samples from the dataset\n",
        "print(\"Val Dataset length:\", len(valid_dataset))\n",
        "input_seq, target_seq = valid_dataset[23]\n",
        "print(f\"Input Sequence: {input_seq}, \\n\"\n",
        "      f\"Target Sequence: {target_seq}\")"
      ]
    },
    {
      "cell_type": "markdown",
      "metadata": {
        "id": "el9yhSCVCO2M"
      },
      "source": [
        "## Instantiate model"
      ]
    },
    {
      "cell_type": "code",
      "execution_count": 35,
      "metadata": {
        "id": "7W_pGMWLB8dE"
      },
      "outputs": [],
      "source": [
        "model = LSTMModel(params['rnn_input_size'],\n",
        "            params['rnn_embedding_size'],\n",
        "            params['rnn_hidden_size'],\n",
        "            params['rnn_output_size'],\n",
        "            params['rnn_num_layers'],\n",
        "            params['rnn_dropout'],\n",
        "            params['rnn_bidirectional']).to(device)"
      ]
    },
    {
      "cell_type": "markdown",
      "metadata": {
        "id": "NxtS04RbCV1H"
      },
      "source": [
        "## Train Model"
      ]
    },
    {
      "cell_type": "code",
      "execution_count": 36,
      "metadata": {
        "colab": {
          "base_uri": "https://localhost:8080/"
        },
        "id": "hw7fn7d3eBHR",
        "outputId": "c004f643-6d60-41f2-9d4c-7481a3bb0044"
      },
      "outputs": [
        {
          "output_type": "stream",
          "name": "stdout",
          "text": [
            "Epoch [1/7], Training Loss: 2.4171, Validation Loss: 2.0308\n",
            "Checkpoint saved at epoch 1 with loss 2.4171\n",
            "Validation loss decreased (inf --> 2.030834). Saving model ...\n",
            "Checkpoint saved at epoch 1 with loss 2.0308\n",
            "Epoch [2/7], Training Loss: 2.0676, Validation Loss: 1.9450\n",
            "Checkpoint saved at epoch 2 with loss 2.0676\n",
            "Validation loss decreased (2.030834 --> 1.945022). Saving model ...\n",
            "Checkpoint saved at epoch 2 with loss 1.9450\n",
            "Epoch [3/7], Training Loss: 2.0123, Validation Loss: 1.9428\n",
            "Checkpoint saved at epoch 3 with loss 2.0123\n",
            "Validation loss decreased (1.945022 --> 1.942762). Saving model ...\n",
            "Checkpoint saved at epoch 3 with loss 1.9428\n",
            "Epoch [4/7], Training Loss: 1.9749, Validation Loss: 1.7917\n",
            "Checkpoint saved at epoch 4 with loss 1.9749\n",
            "Validation loss decreased (1.942762 --> 1.791749). Saving model ...\n",
            "Checkpoint saved at epoch 4 with loss 1.7917\n",
            "Epoch [5/7], Training Loss: 1.8309, Validation Loss: 1.7550\n",
            "Checkpoint saved at epoch 5 with loss 1.8309\n",
            "Validation loss decreased (1.791749 --> 1.755031). Saving model ...\n",
            "Checkpoint saved at epoch 5 with loss 1.7550\n",
            "Epoch [6/7], Training Loss: 1.7305, Validation Loss: 1.6916\n",
            "Checkpoint saved at epoch 6 with loss 1.7305\n",
            "Validation loss decreased (1.755031 --> 1.691592). Saving model ...\n",
            "Checkpoint saved at epoch 6 with loss 1.6916\n",
            "Epoch [7/7], Training Loss: 1.6620, Validation Loss: 1.6807\n",
            "Checkpoint saved at epoch 7 with loss 1.6620\n",
            "Validation loss decreased (1.691592 --> 1.680696). Saving model ...\n",
            "Checkpoint saved at epoch 7 with loss 1.6807\n"
          ]
        },
        {
          "output_type": "execute_result",
          "data": {
            "text/plain": [
              "([2.417118831807843,\n",
              "  2.0676165125730095,\n",
              "  2.012322223150893,\n",
              "  1.9749085753138969,\n",
              "  1.830907239797986,\n",
              "  1.7304602744687132,\n",
              "  1.6620031518435723],\n",
              " [2.030834041170474,\n",
              "  1.9450217063493058,\n",
              "  1.942761512961723,\n",
              "  1.7917494255342463,\n",
              "  1.7550312552624927,\n",
              "  1.691591699494482,\n",
              "  1.6806958555412699])"
            ]
          },
          "metadata": {},
          "execution_count": 36
        }
      ],
      "source": [
        "training(model, train_loader, valid_loader)"
      ]
    },
    {
      "cell_type": "markdown",
      "metadata": {
        "id": "mvPWbEexEwwj"
      },
      "source": [
        "# Generate"
      ]
    },
    {
      "cell_type": "markdown",
      "metadata": {
        "id": "wTlPh8JtCReB"
      },
      "source": [
        "## Load checkpoint"
      ]
    },
    {
      "cell_type": "code",
      "execution_count": 37,
      "metadata": {
        "id": "DTvkEm-JCbJ_"
      },
      "outputs": [],
      "source": [
        "def load_best_model(checkpoint_path='best_model.pth', params_path='best_model_params.txt'):\n",
        "    # Load the saved parameters\n",
        "    with open(params_path, 'r') as f:\n",
        "        lines = f.readlines()\n",
        "        epoch = int(lines[0].split(': ')[1])\n",
        "        train_loss = float(lines[1].split(': ')[1])\n",
        "        val_loss = float(lines[2].split(': ')[1])\n",
        "        best_loss = float(lines[3].split(': ')[1])\n",
        "\n",
        "    # Initialize the model\n",
        "    model = LSTMModel(params['rnn_input_size'],\n",
        "                      params['rnn_embedding_size'],\n",
        "                      params['rnn_hidden_size'],\n",
        "                      params['rnn_output_size'],\n",
        "                      params['rnn_num_layers'],\n",
        "                      params['rnn_dropout'],\n",
        "                      params['rnn_bidirectional']).to(device)\n",
        "\n",
        "    # Load the model state dictionary\n",
        "    model.load_state_dict(torch.load(checkpoint_path))\n",
        "\n",
        "    print(f'Model loaded: epoch {epoch}, training loss {train_loss}, validation loss {val_loss}, best loss {best_loss}')\n",
        "    return model"
      ]
    },
    {
      "cell_type": "code",
      "execution_count": 38,
      "metadata": {
        "colab": {
          "base_uri": "https://localhost:8080/"
        },
        "id": "asRKzQm7Ce9V",
        "outputId": "7d5b6d4b-2ffc-415d-b81a-b9a09b49b05d"
      },
      "outputs": [
        {
          "output_type": "stream",
          "name": "stdout",
          "text": [
            "Model loaded: epoch 7, training loss 1.662, validation loss 1.6807, best loss 1.6807\n"
          ]
        }
      ],
      "source": [
        "# Load the best model\n",
        "best_model = load_best_model()\n"
      ]
    },
    {
      "cell_type": "markdown",
      "metadata": {
        "id": "gyUYXit4B7tg"
      },
      "source": [
        "## Generate sequence"
      ]
    },
    {
      "cell_type": "code",
      "execution_count": 39,
      "metadata": {
        "id": "-9ydRLGK68To"
      },
      "outputs": [],
      "source": [
        "def generate_sequence(model, start_sequence, char_to_idx, idx_to_char, sequence_length, device):\n",
        "    model.eval()\n",
        "    hidden = model.init_hidden(1, device)  # Batch size is 1 for generation\n",
        "    input_sequence = [char_to_idx[char] for char in start_sequence]\n",
        "    input_tensor = torch.tensor(input_sequence, dtype=torch.long).unsqueeze(0).to(device)\n",
        "\n",
        "    generated_sequence = start_sequence\n",
        "\n",
        "    with torch.no_grad():\n",
        "        for _ in range(sequence_length):\n",
        "            output, hidden = model(input_tensor, hidden)\n",
        "            output = output[:, -1, :]  # Get the last time step's output\n",
        "            prob = torch.softmax(output, dim=1)\n",
        "            char_idx = torch.multinomial(prob, 1).item()\n",
        "\n",
        "            generated_sequence += idx_to_char[char_idx]\n",
        "\n",
        "            # Update input tensor with the new character\n",
        "            input_tensor = torch.cat([input_tensor, torch.tensor([[char_idx]], dtype=torch.long).to(device)], dim=1)\n",
        "            input_tensor = input_tensor[:, 1:]  # Keep the length constant\n",
        "\n",
        "    return generated_sequence"
      ]
    },
    {
      "cell_type": "code",
      "execution_count": 40,
      "metadata": {
        "colab": {
          "base_uri": "https://localhost:8080/"
        },
        "id": "qmPwz6uF7EZV",
        "outputId": "479e0148-6dcf-44b8-9dca-35a5d0baf1a9"
      },
      "outputs": [
        {
          "output_type": "stream",
          "name": "stdout",
          "text": [
            "godzić podwiecznie\n",
            "w zwieści będąc trafem za dwieaznie ręce głębok połoszę uksiada nie zosił spuściła\n",
            "i byjami sagi ruchem gardzoną prowoin ewłasną wyc\n"
          ]
        }
      ],
      "source": [
        "# Example usage:\n",
        "# Assuming you have a trained model, character to index and index to character mappings, and a starting sequence\n",
        "start_sequence = \"g\"\n",
        "sequence_length = 150  # Desired sequence length\n",
        "device = torch.device('cuda' if torch.cuda.is_available() else 'cpu')\n",
        "\n",
        "generated_sequence = generate_sequence(best_model, start_sequence, char_int_dict, int_char_dict, sequence_length, device)\n",
        "print(generated_sequence)\n",
        "\n"
      ]
    },
    {
      "cell_type": "markdown",
      "metadata": {
        "id": "V0XACBYtBfsy"
      },
      "source": []
    }
  ],
  "metadata": {
    "accelerator": "GPU",
    "colab": {
      "gpuType": "T4",
      "machine_shape": "hm",
      "provenance": [],
      "toc_visible": true
    },
    "kernelspec": {
      "display_name": "Python 3",
      "name": "python3"
    },
    "language_info": {
      "name": "python"
    }
  },
  "nbformat": 4,
  "nbformat_minor": 0
}