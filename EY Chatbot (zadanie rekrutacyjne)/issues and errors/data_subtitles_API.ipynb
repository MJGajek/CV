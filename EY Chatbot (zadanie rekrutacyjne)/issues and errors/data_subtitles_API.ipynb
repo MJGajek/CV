{
 "cells": [
  {
   "cell_type": "markdown",
   "metadata": {},
   "source": [
    "# Errors\n",
    "\n",
    "In this notebook i will document issues i have encountered during solving the project.   \n",
    "These notes are supposed to help explain why in the end version of the project i decided to use certain aproaches over the alternatives"
   ]
  },
  {
   "cell_type": "markdown",
   "metadata": {},
   "source": [
    "## Get the captions from the video\n",
    "I have attempted to get captions ssing various APIs (which will be preprocesed and used as data on which i will train my model).\n",
    "It didnt work.\n"
   ]
  },
  {
   "cell_type": "markdown",
   "metadata": {},
   "source": [
    "### youtube_transcript_api"
   ]
  },
  {
   "cell_type": "code",
   "execution_count": 2,
   "metadata": {},
   "outputs": [
    {
     "name": "stderr",
     "output_type": "stream",
     "text": [
      "2024-10-28 18:10:18,502 - INFO - Starting transcript fetch for video_id: yPIZ9b9Q-fc\n",
      "2024-10-28 18:10:19,273 - ERROR - Failed to fetch transcript: \n",
      "Could not retrieve a transcript for the video https://www.youtube.com/watch?v=yPIZ9b9Q-fc! This is most likely caused by:\n",
      "\n",
      "Subtitles are disabled for this video\n",
      "\n",
      "If you are sure that the described cause is not responsible for this error and that a transcript should be retrievable, please create an issue at https://github.com/jdepoix/youtube-transcript-api/issues. Please add which version of youtube_transcript_api you are using and provide the information needed to replicate the error. Also make sure that there are no open issues which already describe your problem!\n"
     ]
    },
    {
     "name": "stdout",
     "output_type": "stream",
     "text": [
      "Nie udało się pobrać transkryptu.\n"
     ]
    }
   ],
   "source": [
    "import logging\n",
    "from youtube_transcript_api import YouTubeTranscriptApi\n",
    "\n",
    "# Configure logging\n",
    "logging.basicConfig(level=logging.INFO, format='%(asctime)s - %(levelname)s - %(message)s')\n",
    "\n",
    "def fetch_transcript(video_id):\n",
    "    \"\"\"Fetches the transcript from YouTube based on the provided video_id.\"\"\"\n",
    "    logging.info(\"Starting transcript fetch for video_id: %s\", video_id)\n",
    "    try:\n",
    "        # Fetch transcript data from YouTube\n",
    "        transcript_data = YouTubeTranscriptApi.get_transcript(video_id)\n",
    "        # Combine transcript parts into one string\n",
    "        transcript = \" \".join([item['text'] for item in transcript_data])\n",
    "        logging.info(\"Transcript fetched successfully for video_id: %s\", video_id)\n",
    "        return transcript\n",
    "    except Exception as e:\n",
    "        logging.error(\"Failed to fetch transcript: %s\", e)\n",
    "        return \"\"\n",
    "\n",
    "# Przykład użycia funkcji\n",
    "if __name__ == \"__main__\":\n",
    "    video_id = 'yPIZ9b9Q-fc'  # Przykładowy ID wideo\n",
    "    transcript = fetch_transcript(video_id)\n",
    "    if transcript:\n",
    "        print(\"Pobrany transkrypt:\", transcript)\n",
    "    else:\n",
    "        print(\"Nie udało się pobrać transkryptu.\")\n"
   ]
  },
  {
   "cell_type": "markdown",
   "metadata": {},
   "source": [
    "### pytube"
   ]
  },
  {
   "cell_type": "code",
   "execution_count": 3,
   "metadata": {},
   "outputs": [
    {
     "name": "stderr",
     "output_type": "stream",
     "text": [
      "2024-10-28 18:10:19,588 - INFO - Starting transcript fetch for video_id: yPIZ9b9Q-fc\n",
      "2024-10-28 18:10:19,746 - ERROR - Auto-generated English subtitles not available for this video.\n"
     ]
    },
    {
     "name": "stdout",
     "output_type": "stream",
     "text": [
      "Available captions: {}\n",
      "Dostępne napisy: {}\n",
      "Nie udało się pobrać transkryptu.\n"
     ]
    }
   ],
   "source": [
    "import logging\n",
    "from pytube import YouTube\n",
    "\n",
    "# Configure logging\n",
    "logging.basicConfig(level=logging.INFO, format='%(asctime)s - %(levelname)s - %(message)s')\n",
    "\n",
    "def fetch_transcript(video_id):\n",
    "    \"\"\"Fetches the auto-generated transcript from YouTube based on the provided video_id.\"\"\"\n",
    "    logging.info(\"Starting transcript fetch for video_id: %s\", video_id)\n",
    "    try:\n",
    "        video_url = f\"https://www.youtube.com/watch?v={video_id}\"\n",
    "        yt = YouTube(video_url)\n",
    "        \n",
    "        # Check for auto-generated English captions\n",
    "        if \"a.en\" in yt.captions:\n",
    "            transcript = yt.captions[\"a.en\"].generate_srt_captions()\n",
    "            logging.info(\"Transcript fetched successfully for video_id: %s\", video_id)\n",
    "            return transcript\n",
    "        else:\n",
    "            logging.error(\"Auto-generated English subtitles not available for this video.\")\n",
    "            return \"\"\n",
    "    except Exception as e:\n",
    "        logging.error(\"Failed to fetch transcript: %s\", e)\n",
    "        return \"\"\n",
    "\n",
    "def check_available_captions(video_id):\n",
    "    \"\"\"Prints all available captions for the video to help identify the correct caption code.\"\"\"\n",
    "    video_url = f\"https://www.youtube.com/watch?v={video_id}\"\n",
    "    yt = YouTube(video_url)\n",
    "    available_captions = yt.captions\n",
    "    print(\"Available captions:\", available_captions)\n",
    "    return available_captions\n",
    "\n",
    "# Przykład użycia funkcji\n",
    "if __name__ == \"__main__\":\n",
    "    video_id = 'yPIZ9b9Q-fc'  # Przykładowy ID wideo\n",
    "    # Sprawdzenie dostępnych napisów\n",
    "    available_captions = check_available_captions(video_id)\n",
    "    print(\"Dostępne napisy:\", available_captions)\n",
    "\n",
    "    # Próba pobrania transkryptu\n",
    "    transcript = fetch_transcript(video_id)\n",
    "    if transcript:\n",
    "        print(\"Pobrany transkrypt:\", transcript)\n",
    "    else:\n",
    "        print(\"Nie udało się pobrać transkryptu.\")\n"
   ]
  },
  {
   "cell_type": "markdown",
   "metadata": {},
   "source": [
    "### yt_dlp"
   ]
  },
  {
   "cell_type": "code",
   "execution_count": 4,
   "metadata": {},
   "outputs": [
    {
     "name": "stderr",
     "output_type": "stream",
     "text": [
      "2024-10-28 18:10:19,806 - INFO - Starting subtitle download process.\n",
      "2024-10-28 18:10:19,820 - INFO - Starting subtitle fetch for video_url: https://www.youtube.com/watch?v=yPIZ9b9Q-fc\n"
     ]
    },
    {
     "name": "stdout",
     "output_type": "stream",
     "text": [
      "[youtube] Extracting URL: https://www.youtube.com/watch?v=yPIZ9b9Q-fc\n",
      "[youtube] yPIZ9b9Q-fc: Downloading webpage\n",
      "[youtube] yPIZ9b9Q-fc: Downloading ios player API JSON\n",
      "[youtube] yPIZ9b9Q-fc: Downloading mweb player API JSON\n",
      "[youtube] yPIZ9b9Q-fc: Downloading m3u8 information\n"
     ]
    },
    {
     "name": "stderr",
     "output_type": "stream",
     "text": [
      "2024-10-28 18:10:23,434 - ERROR - Auto-generated English subtitles not available.\n",
      "2024-10-28 18:10:23,438 - ERROR - Subtitle fetch failed. Exiting.\n"
     ]
    }
   ],
   "source": [
    "import logging\n",
    "import yt_dlp\n",
    "import requests\n",
    "\n",
    "# Configure logging\n",
    "logging.basicConfig(level=logging.INFO, format='%(asctime)s - %(levelname)s - %(message)s')\n",
    "\n",
    "def fetch_auto_subtitles(video_url):\n",
    "    \"\"\"Fetches the URL for auto-generated English subtitles from YouTube using yt-dlp.\"\"\"\n",
    "    logging.info(\"Starting subtitle fetch for video_url: %s\", video_url)\n",
    "    ydl_opts = {\n",
    "        'writesubtitles': True,\n",
    "        'subtitleslangs': ['en'],\n",
    "        'skip_download': True,\n",
    "        'subtitlesformat': 'srt'\n",
    "    }\n",
    "    try:\n",
    "        with yt_dlp.YoutubeDL(ydl_opts) as ydl:\n",
    "            info = ydl.extract_info(video_url, download=False)\n",
    "            subtitles = info.get(\"requested_subtitles\")\n",
    "            if subtitles and 'en' in subtitles:\n",
    "                subtitle_url = subtitles['en'].get(\"url\")\n",
    "                logging.info(\"Subtitle URL fetched successfully.\")\n",
    "                return subtitle_url\n",
    "            else:\n",
    "                logging.error(\"Auto-generated English subtitles not available.\")\n",
    "                return None\n",
    "    except Exception as e:\n",
    "        logging.error(\"Failed to fetch subtitles: %s\", e)\n",
    "        return None\n",
    "\n",
    "def save_subtitles_from_url(subtitle_url, output_path=\"data/raw/subtitles.srt\"):\n",
    "    \"\"\"Downloads subtitles from the provided URL and saves them to a file.\"\"\"\n",
    "    if not subtitle_url:\n",
    "        logging.error(\"No subtitle URL provided.\")\n",
    "        return False\n",
    "    try:\n",
    "        response = requests.get(subtitle_url)\n",
    "        response.raise_for_status()\n",
    "        with open(output_path, \"w\", encoding=\"utf-8\") as file:\n",
    "            file.write(response.text)\n",
    "        logging.info(\"Subtitles saved to file: %s\", output_path)\n",
    "        return True\n",
    "    except Exception as e:\n",
    "        logging.error(\"Failed to save subtitles: %s\", e)\n",
    "        return False\n",
    "\n",
    "# Main function to fetch and save subtitles\n",
    "def main(video_url):\n",
    "    \"\"\"Main function to fetch and save the subtitles.\"\"\"\n",
    "    logging.info(\"Starting subtitle download process.\")\n",
    "    \n",
    "    # Step 1: Fetch subtitle URL\n",
    "    subtitle_url = fetch_auto_subtitles(video_url)\n",
    "    if not subtitle_url:\n",
    "        logging.error(\"Subtitle fetch failed. Exiting.\")\n",
    "        return\n",
    "\n",
    "    # Step 2: Save the subtitles from URL for inspection\n",
    "    success = save_subtitles_from_url(subtitle_url, output_path=\"data/raw/subtitles.srt\")\n",
    "    if success:\n",
    "        logging.info(\"Subtitle download process completed successfully.\")\n",
    "    else:\n",
    "        logging.error(\"Subtitle saving failed.\")\n",
    "\n",
    "# Example usage\n",
    "if __name__ == \"__main__\":\n",
    "    video_url = 'https://www.youtube.com/watch?v=yPIZ9b9Q-fc'\n",
    "    main(video_url)\n"
   ]
  }
 ],
 "metadata": {
  "kernelspec": {
   "display_name": "Python 3",
   "language": "python",
   "name": "python3"
  },
  "language_info": {
   "codemirror_mode": {
    "name": "ipython",
    "version": 3
   },
   "file_extension": ".py",
   "mimetype": "text/x-python",
   "name": "python",
   "nbconvert_exporter": "python",
   "pygments_lexer": "ipython3",
   "version": "3.12.7"
  }
 },
 "nbformat": 4,
 "nbformat_minor": 2
}
